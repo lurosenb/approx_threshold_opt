{
 "cells": [
  {
   "cell_type": "code",
   "execution_count": 1,
   "metadata": {},
   "outputs": [],
   "source": [
    "import yaml\n",
    "\n",
    "import gc\n",
    "\n",
    "from approx_thresh_general import tpr, fpr, precision\n",
    "\n",
    "from sklearn.linear_model import LogisticRegression\n",
    "from sklearn.ensemble import RandomForestClassifier, GradientBoostingClassifier\n",
    "from sklearn.svm import SVC\n",
    "from sklearn.neighbors import KNeighborsClassifier\n",
    "from sklearn.neural_network import MLPClassifier\n",
    "\n",
    "from pipeline import FairDataset, FairPipeline, accuracy, f1\n",
    "\n",
    "import pandas as pd\n",
    "\n",
    "import warnings\n",
    "warnings.filterwarnings(\"ignore\")\n",
    "\n",
    "my_classifiers = {\n",
    "    # 'logistic_regression': LogisticRegression(),\n",
    "    # 'random_forest': RandomForestClassifier(),\n",
    "    # 'gradient_boosting': GradientBoostingClassifier(),\n",
    "    # 'svc': SVC(probability=True),\n",
    "    'knn': KNeighborsClassifier(),\n",
    "    # 'mlp': MLPClassifier()\n",
    "    # decision tree\n",
    "}\n",
    "\n",
    "metrics_dict = {\n",
    "    'tpr': tpr,\n",
    "    'fpr': fpr,\n",
    "    'precision': precision,\n",
    "    'accuracy': accuracy,\n",
    "    'f1': f1\n",
    "}\n",
    "\n",
    "metrics_functions = {\n",
    "    'tpr': tpr,\n",
    "    'fpr': fpr,\n",
    "    'precision': precision,\n",
    "}\n",
    "\n",
    "pipeline = FairPipeline(classifiers=my_classifiers, \n",
    "                        classifier_config_path='configs/classifier_config.yml', \n",
    "                        metrics=metrics_dict,\n",
    "                        metric_functions=metrics_functions)\n",
    "\n",
    "X = pd.read_csv(f'matrices/ACSEmployment/Xs.csv')\n",
    "y = pd.read_csv(f'matrices/ACSEmployment/ys.csv').squeeze()\n",
    "\n",
    "acs_dataset = FairDataset(X, y, 'RAC1P_recoded')"
   ]
  },
  {
   "cell_type": "code",
   "execution_count": 2,
   "metadata": {},
   "outputs": [],
   "source": [
    "# NOTE: Add loss column to the results dataframe\n",
    "# NOTE: Add new config settings to the results dataframe"
   ]
  },
  {
   "cell_type": "code",
   "execution_count": 3,
   "metadata": {},
   "outputs": [
    {
     "name": "stdout",
     "output_type": "stream",
     "text": [
      "Running the full pipeline...\n",
      "Running pipeline for dataset: ACSEmployment\n",
      "Overall metrics for knn (original): {'tpr': 0.8596976793698106, 'fpr': 0.2247670807453416, 'precision': 0.7771362586605081, 'accuracy': 0.8155142654076556, 'f1': 0.8163347821692105}\n",
      "Hyperparameters: {'n_neighbors': 20, 'weights': 'uniform'}\n",
      "Metrics for knn (original) on 1: {'tpr': 0.8596648713345302, 'fpr': 0.2158899494665918, 'precision': 0.7888522789676002, 'accuracy': 0.820683661645423, 'f1': 0.822737686139748}\n",
      "Hyperparameters: {'n_neighbors': 20, 'weights': 'uniform'}\n",
      "Metrics for knn (original) on 2: {'tpr': 0.8485401459854015, 'fpr': 0.23529411764705882, 'precision': 0.7536466774716369, 'accuracy': 0.8031825795644891, 'f1': 0.7982832618025751}\n",
      "Hyperparameters: {'n_neighbors': 20, 'weights': 'uniform'}\n",
      "Metrics for knn (original) on 3: {'tpr': 0.8624708624708625, 'fpr': 0.28054298642533937, 'precision': 0.7489878542510121, 'accuracy': 0.7898966704936854, 'f1': 0.8017334777898159}\n",
      "Hyperparameters: {'n_neighbors': 20, 'weights': 'uniform'}\n",
      "Metrics for knn (original) on 4: {'tpr': 0.873015873015873, 'fpr': 0.2250996015936255, 'precision': 0.744920993227991, 'accuracy': 0.8170454545454545, 'f1': 0.8038976857490865}\n",
      "Hyperparameters: {'n_neighbors': 20, 'weights': 'uniform'}\n",
      "Adjusted max_error to 0.03732890704771188 to limit total combinations to approximately 1000\n",
      "Number of points in the epsilon net: 7\n",
      "Adjusted max_error: 0.03732890704771188\n",
      "Number of points in data: 9849\n"
     ]
    },
    {
     "name": "stderr",
     "output_type": "stream",
     "text": [
      "Threshold Combinations: 100%|██████████| 2401/2401 [00:08<00:00, 268.77it/s]\n"
     ]
    },
    {
     "name": "stdout",
     "output_type": "stream",
     "text": [
      "Best objective value: 0.4565350594647406\n",
      "Best thresholds: {1: 0.3333333333333333, 2: 0.3333333333333333, 3: 0.3333333333333333, 4: 0.3333333333333333}\n",
      "Epsilon differences: {1: {2: array([0.00958384, 0.01456986, 0.02694678]), 3: array([0.02277017, 0.03421739, 0.00925036]), 4: array([0.01697966, 0.00732947, 0.04529046])}, 2: {1: array([0.00958384, 0.01456986, 0.02694678]), 3: array([0.01318633, 0.01964754, 0.01769641]), 4: array([0.00739582, 0.00724039, 0.01834369])}, 3: {1: array([0.02277017, 0.03421739, 0.00925036]), 2: array([0.01318633, 0.01964754, 0.01769641]), 4: array([0.00579051, 0.02688792, 0.0360401 ])}, 4: {1: array([0.01697966, 0.00732947, 0.04529046]), 2: array([0.00739582, 0.00724039, 0.01834369]), 3: array([0.00579051, 0.02688792, 0.0360401 ])}}\n",
      "Overall metrics for knn (fair): {'tpr': 0.9584841388120077, 'fpr': 0.31288819875776397, 'precision': 0.7363428197579326, 'accuracy': 0.8165295969133922, 'f1': 0.8328554250300619}\n",
      "Hyperparameters: {'n_neighbors': 20, 'weights': 'uniform'}\n",
      "Metrics for knn (fair) on 1: {'tpr': 0.9539198084979055, 'fpr': 0.3074115665356541, 'precision': 0.7443380807844968, 'accuracy': 0.819090382387022, 'f1': 0.8361967213114754}\n",
      "Hyperparameters: {'n_neighbors': 20, 'weights': 'uniform'}\n",
      "Metrics for knn (fair) on 2: {'tpr': 0.9635036496350365, 'fpr': 0.3219814241486068, 'precision': 0.717391304347826, 'accuracy': 0.8090452261306532, 'f1': 0.822429906542056}\n",
      "Hyperparameters: {'n_neighbors': 20, 'weights': 'uniform'}\n",
      "Metrics for knn (fair) on 3: {'tpr': 0.9766899766899767, 'fpr': 0.3416289592760181, 'precision': 0.7350877192982456, 'accuracy': 0.8151549942594719, 'f1': 0.8388388388388388}\n",
      "Hyperparameters: {'n_neighbors': 20, 'weights': 'uniform'}\n",
      "Metrics for knn (fair) on 4: {'tpr': 0.9708994708994709, 'fpr': 0.3147410358565737, 'precision': 0.699047619047619, 'accuracy': 0.8079545454545455, 'f1': 0.8128460686600222}\n",
      "Hyperparameters: {'n_neighbors': 20, 'weights': 'uniform'}\n",
      "Adjusted max_error to 0.0394319600496461 to limit total combinations to approximately 1000\n",
      "Number of points in the epsilon net: 7\n",
      "Adjusted max_error: 0.0394319600496461\n",
      "Number of points in data: 9849\n"
     ]
    },
    {
     "name": "stderr",
     "output_type": "stream",
     "text": [
      "Threshold Combinations: 100%|██████████| 2401/2401 [00:08<00:00, 298.91it/s]\n"
     ]
    },
    {
     "name": "stdout",
     "output_type": "stream",
     "text": [
      "Best objective value: 0.49322914008206215\n",
      "Best thresholds: {1: 0.3333333333333333, 2: 0.3333333333333333, 3: 0.3333333333333333, 4: 0.3333333333333333}\n",
      "Epsilon differences: {1: {2: array([0.00958384, 0.01456986, 0.02694678]), 3: array([0.02277017, 0.03421739, 0.00925036]), 4: array([0.01697966, 0.00732947, 0.04529046])}, 2: {1: array([0.00958384, 0.01456986, 0.02694678]), 3: array([0.01318633, 0.01964754, 0.01769641]), 4: array([0.00739582, 0.00724039, 0.01834369])}, 3: {1: array([0.02277017, 0.03421739, 0.00925036]), 2: array([0.01318633, 0.01964754, 0.01769641]), 4: array([0.00579051, 0.02688792, 0.0360401 ])}, 4: {1: array([0.01697966, 0.00732947, 0.04529046]), 2: array([0.00739582, 0.00724039, 0.01834369]), 3: array([0.00579051, 0.02688792, 0.0360401 ])}}\n",
      "Overall metrics for knn (fair): {'tpr': 0.9584841388120077, 'fpr': 0.31288819875776397, 'precision': 0.7363428197579326, 'accuracy': 0.8165295969133922, 'f1': 0.8328554250300619}\n",
      "Hyperparameters: {'n_neighbors': 20, 'weights': 'uniform'}\n",
      "Metrics for knn (fair) on 1: {'tpr': 0.9539198084979055, 'fpr': 0.3074115665356541, 'precision': 0.7443380807844968, 'accuracy': 0.819090382387022, 'f1': 0.8361967213114754}\n",
      "Hyperparameters: {'n_neighbors': 20, 'weights': 'uniform'}\n",
      "Metrics for knn (fair) on 2: {'tpr': 0.9635036496350365, 'fpr': 0.3219814241486068, 'precision': 0.717391304347826, 'accuracy': 0.8090452261306532, 'f1': 0.822429906542056}\n",
      "Hyperparameters: {'n_neighbors': 20, 'weights': 'uniform'}\n",
      "Metrics for knn (fair) on 3: {'tpr': 0.9766899766899767, 'fpr': 0.3416289592760181, 'precision': 0.7350877192982456, 'accuracy': 0.8151549942594719, 'f1': 0.8388388388388388}\n",
      "Hyperparameters: {'n_neighbors': 20, 'weights': 'uniform'}\n",
      "Metrics for knn (fair) on 4: {'tpr': 0.9708994708994709, 'fpr': 0.3147410358565737, 'precision': 0.699047619047619, 'accuracy': 0.8079545454545455, 'f1': 0.8128460686600222}\n",
      "Hyperparameters: {'n_neighbors': 20, 'weights': 'uniform'}\n",
      "Adjusted max_error to 0.04146771535551843 to limit total combinations to approximately 1000\n",
      "Number of points in the epsilon net: 7\n",
      "Adjusted max_error: 0.04146771535551843\n",
      "Number of points in data: 9849\n"
     ]
    },
    {
     "name": "stderr",
     "output_type": "stream",
     "text": [
      "Threshold Combinations: 100%|██████████| 2401/2401 [00:10<00:00, 230.07it/s]\n"
     ]
    },
    {
     "name": "stdout",
     "output_type": "stream",
     "text": [
      "Best objective value: 0.5299232206993837\n",
      "Best thresholds: {1: 0.3333333333333333, 2: 0.3333333333333333, 3: 0.3333333333333333, 4: 0.3333333333333333}\n",
      "Epsilon differences: {1: {2: array([0.00958384, 0.01456986, 0.02694678]), 3: array([0.02277017, 0.03421739, 0.00925036]), 4: array([0.01697966, 0.00732947, 0.04529046])}, 2: {1: array([0.00958384, 0.01456986, 0.02694678]), 3: array([0.01318633, 0.01964754, 0.01769641]), 4: array([0.00739582, 0.00724039, 0.01834369])}, 3: {1: array([0.02277017, 0.03421739, 0.00925036]), 2: array([0.01318633, 0.01964754, 0.01769641]), 4: array([0.00579051, 0.02688792, 0.0360401 ])}, 4: {1: array([0.01697966, 0.00732947, 0.04529046]), 2: array([0.00739582, 0.00724039, 0.01834369]), 3: array([0.00579051, 0.02688792, 0.0360401 ])}}\n",
      "Overall metrics for knn (fair): {'tpr': 0.9584841388120077, 'fpr': 0.31288819875776397, 'precision': 0.7363428197579326, 'accuracy': 0.8165295969133922, 'f1': 0.8328554250300619}\n",
      "Hyperparameters: {'n_neighbors': 20, 'weights': 'uniform'}\n",
      "Metrics for knn (fair) on 1: {'tpr': 0.9539198084979055, 'fpr': 0.3074115665356541, 'precision': 0.7443380807844968, 'accuracy': 0.819090382387022, 'f1': 0.8361967213114754}\n",
      "Hyperparameters: {'n_neighbors': 20, 'weights': 'uniform'}\n",
      "Metrics for knn (fair) on 2: {'tpr': 0.9635036496350365, 'fpr': 0.3219814241486068, 'precision': 0.717391304347826, 'accuracy': 0.8090452261306532, 'f1': 0.822429906542056}\n",
      "Hyperparameters: {'n_neighbors': 20, 'weights': 'uniform'}\n",
      "Metrics for knn (fair) on 3: {'tpr': 0.9766899766899767, 'fpr': 0.3416289592760181, 'precision': 0.7350877192982456, 'accuracy': 0.8151549942594719, 'f1': 0.8388388388388388}\n",
      "Hyperparameters: {'n_neighbors': 20, 'weights': 'uniform'}\n",
      "Metrics for knn (fair) on 4: {'tpr': 0.9708994708994709, 'fpr': 0.3147410358565737, 'precision': 0.699047619047619, 'accuracy': 0.8079545454545455, 'f1': 0.8128460686600222}\n",
      "Hyperparameters: {'n_neighbors': 20, 'weights': 'uniform'}\n",
      "Adjusted max_error to 0.04343935238404045 to limit total combinations to approximately 1000\n",
      "Number of points in the epsilon net: 7\n",
      "Adjusted max_error: 0.04343935238404045\n",
      "Number of points in data: 9849\n"
     ]
    },
    {
     "name": "stderr",
     "output_type": "stream",
     "text": [
      "Threshold Combinations: 100%|██████████| 2401/2401 [00:09<00:00, 244.58it/s]\n"
     ]
    },
    {
     "name": "stdout",
     "output_type": "stream",
     "text": [
      "Best objective value: 0.5666173013167053\n",
      "Best thresholds: {1: 0.3333333333333333, 2: 0.3333333333333333, 3: 0.3333333333333333, 4: 0.3333333333333333}\n",
      "Epsilon differences: {1: {2: array([0.00958384, 0.01456986, 0.02694678]), 3: array([0.02277017, 0.03421739, 0.00925036]), 4: array([0.01697966, 0.00732947, 0.04529046])}, 2: {1: array([0.00958384, 0.01456986, 0.02694678]), 3: array([0.01318633, 0.01964754, 0.01769641]), 4: array([0.00739582, 0.00724039, 0.01834369])}, 3: {1: array([0.02277017, 0.03421739, 0.00925036]), 2: array([0.01318633, 0.01964754, 0.01769641]), 4: array([0.00579051, 0.02688792, 0.0360401 ])}, 4: {1: array([0.01697966, 0.00732947, 0.04529046]), 2: array([0.00739582, 0.00724039, 0.01834369]), 3: array([0.00579051, 0.02688792, 0.0360401 ])}}\n",
      "Overall metrics for knn (fair): {'tpr': 0.9584841388120077, 'fpr': 0.31288819875776397, 'precision': 0.7363428197579326, 'accuracy': 0.8165295969133922, 'f1': 0.8328554250300619}\n",
      "Hyperparameters: {'n_neighbors': 20, 'weights': 'uniform'}\n",
      "Metrics for knn (fair) on 1: {'tpr': 0.9539198084979055, 'fpr': 0.3074115665356541, 'precision': 0.7443380807844968, 'accuracy': 0.819090382387022, 'f1': 0.8361967213114754}\n",
      "Hyperparameters: {'n_neighbors': 20, 'weights': 'uniform'}\n",
      "Metrics for knn (fair) on 2: {'tpr': 0.9635036496350365, 'fpr': 0.3219814241486068, 'precision': 0.717391304347826, 'accuracy': 0.8090452261306532, 'f1': 0.822429906542056}\n",
      "Hyperparameters: {'n_neighbors': 20, 'weights': 'uniform'}\n",
      "Metrics for knn (fair) on 3: {'tpr': 0.9766899766899767, 'fpr': 0.3416289592760181, 'precision': 0.7350877192982456, 'accuracy': 0.8151549942594719, 'f1': 0.8388388388388388}\n",
      "Hyperparameters: {'n_neighbors': 20, 'weights': 'uniform'}\n",
      "Metrics for knn (fair) on 4: {'tpr': 0.9708994708994709, 'fpr': 0.3147410358565737, 'precision': 0.699047619047619, 'accuracy': 0.8079545454545455, 'f1': 0.8128460686600222}\n",
      "Hyperparameters: {'n_neighbors': 20, 'weights': 'uniform'}\n",
      "Adjusted max_error to 0.04534985338067031 to limit total combinations to approximately 1000\n",
      "Number of points in the epsilon net: 7\n",
      "Adjusted max_error: 0.04534985338067031\n",
      "Number of points in data: 9849\n"
     ]
    },
    {
     "name": "stderr",
     "output_type": "stream",
     "text": [
      "Threshold Combinations: 100%|██████████| 2401/2401 [00:08<00:00, 282.01it/s]\n"
     ]
    },
    {
     "name": "stdout",
     "output_type": "stream",
     "text": [
      "Best objective value: 0.6033113819340268\n",
      "Best thresholds: {1: 0.3333333333333333, 2: 0.3333333333333333, 3: 0.3333333333333333, 4: 0.3333333333333333}\n",
      "Epsilon differences: {1: {2: array([0.00958384, 0.01456986, 0.02694678]), 3: array([0.02277017, 0.03421739, 0.00925036]), 4: array([0.01697966, 0.00732947, 0.04529046])}, 2: {1: array([0.00958384, 0.01456986, 0.02694678]), 3: array([0.01318633, 0.01964754, 0.01769641]), 4: array([0.00739582, 0.00724039, 0.01834369])}, 3: {1: array([0.02277017, 0.03421739, 0.00925036]), 2: array([0.01318633, 0.01964754, 0.01769641]), 4: array([0.00579051, 0.02688792, 0.0360401 ])}, 4: {1: array([0.01697966, 0.00732947, 0.04529046]), 2: array([0.00739582, 0.00724039, 0.01834369]), 3: array([0.00579051, 0.02688792, 0.0360401 ])}}\n",
      "Overall metrics for knn (fair): {'tpr': 0.9584841388120077, 'fpr': 0.31288819875776397, 'precision': 0.7363428197579326, 'accuracy': 0.8165295969133922, 'f1': 0.8328554250300619}\n",
      "Hyperparameters: {'n_neighbors': 20, 'weights': 'uniform'}\n",
      "Metrics for knn (fair) on 1: {'tpr': 0.9539198084979055, 'fpr': 0.3074115665356541, 'precision': 0.7443380807844968, 'accuracy': 0.819090382387022, 'f1': 0.8361967213114754}\n",
      "Hyperparameters: {'n_neighbors': 20, 'weights': 'uniform'}\n",
      "Metrics for knn (fair) on 2: {'tpr': 0.9635036496350365, 'fpr': 0.3219814241486068, 'precision': 0.717391304347826, 'accuracy': 0.8090452261306532, 'f1': 0.822429906542056}\n",
      "Hyperparameters: {'n_neighbors': 20, 'weights': 'uniform'}\n",
      "Metrics for knn (fair) on 3: {'tpr': 0.9766899766899767, 'fpr': 0.3416289592760181, 'precision': 0.7350877192982456, 'accuracy': 0.8151549942594719, 'f1': 0.8388388388388388}\n",
      "Hyperparameters: {'n_neighbors': 20, 'weights': 'uniform'}\n",
      "Metrics for knn (fair) on 4: {'tpr': 0.9708994708994709, 'fpr': 0.3147410358565737, 'precision': 0.699047619047619, 'accuracy': 0.8079545454545455, 'f1': 0.8128460686600222}\n",
      "Hyperparameters: {'n_neighbors': 20, 'weights': 'uniform'}\n",
      "Overall metrics for knn (original): {'tpr': 0.8596976793698106, 'fpr': 0.2247670807453416, 'precision': 0.7771362586605081, 'accuracy': 0.8155142654076556, 'f1': 0.8163347821692105}\n",
      "Hyperparameters: {'n_neighbors': 20, 'weights': 'uniform'}\n",
      "Metrics for knn (original) on 1.0: {'tpr': 0.864853195164076, 'fpr': 0.1913527397260274, 'precision': 0.8175510204081633, 'accuracy': 0.8366294067067928, 'f1': 0.8405371380612673}\n",
      "Hyperparameters: {'n_neighbors': 20, 'weights': 'uniform'}\n",
      "Metrics for knn (original) on 2.0: {'tpr': 0.8546829063418732, 'fpr': 0.25248579545454547, 'precision': 0.7410779315367808, 'accuracy': 0.7966134308254762, 'f1': 0.7938365515896235}\n",
      "Hyperparameters: {'n_neighbors': 20, 'weights': 'uniform'}\n",
      "Number of points in the epsilon net: 25\n",
      "Adjusted max_error: 0.01\n",
      "Number of points in data: 9849\n"
     ]
    },
    {
     "name": "stderr",
     "output_type": "stream",
     "text": [
      "Threshold Combinations: 100%|██████████| 625/625 [00:03<00:00, 160.46it/s]\n"
     ]
    },
    {
     "name": "stdout",
     "output_type": "stream",
     "text": [
      "Best objective value: 0.09383337173330475\n",
      "Best thresholds: {1.0: 0.625, 2.0: 0.625}\n",
      "Epsilon differences: {1.0: {2.0: array([0.02182759, 0.0093497 , 0.02935704])}, 2.0: {1.0: array([0.02182759, 0.0093497 , 0.02935704])}}\n",
      "Overall metrics for knn (fair): {'tpr': 0.6961890568447946, 'fpr': 0.07317546583850931, 'precision': 0.8966273649574993, 'accuracy': 0.8168341963651132, 'f1': 0.783796740172579}\n",
      "Hyperparameters: {'n_neighbors': 20, 'weights': 'uniform'}\n",
      "Metrics for knn (fair) on 1.0: {'tpr': 0.7072538860103627, 'fpr': 0.06806506849315068, 'precision': 0.9115191986644408, 'accuracy': 0.8200773860705073, 'f1': 0.7964989059080962}\n",
      "Hyperparameters: {'n_neighbors': 20, 'weights': 'uniform'}\n",
      "Metrics for knn (fair) on 2.0: {'tpr': 0.6854262914741706, 'fpr': 0.07741477272727272, 'precision': 0.8821621621621621, 'accuracy': 0.813931114104291, 'f1': 0.7714488300638147}\n",
      "Hyperparameters: {'n_neighbors': 20, 'weights': 'uniform'}\n",
      "Number of points in the epsilon net: 27\n",
      "Adjusted max_error: 0.01\n",
      "Number of points in data: 9849\n"
     ]
    },
    {
     "name": "stderr",
     "output_type": "stream",
     "text": [
      "Threshold Combinations: 100%|██████████| 729/729 [00:04<00:00, 154.34it/s]\n"
     ]
    },
    {
     "name": "stdout",
     "output_type": "stream",
     "text": [
      "Best objective value: 0.1304665324602821\n",
      "Best thresholds: {1.0: 0.6153846153846154, 2.0: 0.6153846153846154}\n",
      "Epsilon differences: {1.0: {2.0: array([0.02182759, 0.0093497 , 0.02935704])}, 2.0: {1.0: array([0.02182759, 0.0093497 , 0.02935704])}}\n",
      "Overall metrics for knn (fair): {'tpr': 0.6961890568447946, 'fpr': 0.07317546583850931, 'precision': 0.8966273649574993, 'accuracy': 0.8168341963651132, 'f1': 0.783796740172579}\n",
      "Hyperparameters: {'n_neighbors': 20, 'weights': 'uniform'}\n",
      "Metrics for knn (fair) on 1.0: {'tpr': 0.7072538860103627, 'fpr': 0.06806506849315068, 'precision': 0.9115191986644408, 'accuracy': 0.8200773860705073, 'f1': 0.7964989059080962}\n",
      "Hyperparameters: {'n_neighbors': 20, 'weights': 'uniform'}\n",
      "Metrics for knn (fair) on 2.0: {'tpr': 0.6854262914741706, 'fpr': 0.07741477272727272, 'precision': 0.8821621621621621, 'accuracy': 0.813931114104291, 'f1': 0.7714488300638147}\n",
      "Hyperparameters: {'n_neighbors': 20, 'weights': 'uniform'}\n",
      "Number of points in the epsilon net: 29\n",
      "Adjusted max_error: 0.01\n",
      "Number of points in data: 9849\n"
     ]
    },
    {
     "name": "stderr",
     "output_type": "stream",
     "text": [
      "Threshold Combinations: 100%|██████████| 841/841 [00:04<00:00, 196.63it/s]\n"
     ]
    },
    {
     "name": "stdout",
     "output_type": "stream",
     "text": [
      "Best objective value: 0.16709969318725945\n",
      "Best thresholds: {1.0: 0.6071428571428571, 2.0: 0.6071428571428571}\n",
      "Epsilon differences: {1.0: {2.0: array([0.02182759, 0.0093497 , 0.02935704])}, 2.0: {1.0: array([0.02182759, 0.0093497 , 0.02935704])}}\n",
      "Overall metrics for knn (fair): {'tpr': 0.6961890568447946, 'fpr': 0.07317546583850931, 'precision': 0.8966273649574993, 'accuracy': 0.8168341963651132, 'f1': 0.783796740172579}\n",
      "Hyperparameters: {'n_neighbors': 20, 'weights': 'uniform'}\n",
      "Metrics for knn (fair) on 1.0: {'tpr': 0.7072538860103627, 'fpr': 0.06806506849315068, 'precision': 0.9115191986644408, 'accuracy': 0.8200773860705073, 'f1': 0.7964989059080962}\n",
      "Hyperparameters: {'n_neighbors': 20, 'weights': 'uniform'}\n",
      "Metrics for knn (fair) on 2.0: {'tpr': 0.6854262914741706, 'fpr': 0.07741477272727272, 'precision': 0.8821621621621621, 'accuracy': 0.813931114104291, 'f1': 0.7714488300638147}\n",
      "Hyperparameters: {'n_neighbors': 20, 'weights': 'uniform'}\n",
      "Number of points in the epsilon net: 31\n",
      "Adjusted max_error: 0.01\n",
      "Number of points in data: 9849\n"
     ]
    },
    {
     "name": "stderr",
     "output_type": "stream",
     "text": [
      "Threshold Combinations: 100%|██████████| 961/961 [00:04<00:00, 202.48it/s]\n"
     ]
    },
    {
     "name": "stdout",
     "output_type": "stream",
     "text": [
      "Best objective value: 0.2037328539142368\n",
      "Best thresholds: {1.0: 0.6333333333333333, 2.0: 0.6333333333333333}\n",
      "Epsilon differences: {1.0: {2.0: array([0.02182759, 0.0093497 , 0.02935704])}, 2.0: {1.0: array([0.02182759, 0.0093497 , 0.02935704])}}\n",
      "Overall metrics for knn (fair): {'tpr': 0.6961890568447946, 'fpr': 0.07317546583850931, 'precision': 0.8966273649574993, 'accuracy': 0.8168341963651132, 'f1': 0.783796740172579}\n",
      "Hyperparameters: {'n_neighbors': 20, 'weights': 'uniform'}\n",
      "Metrics for knn (fair) on 1.0: {'tpr': 0.7072538860103627, 'fpr': 0.06806506849315068, 'precision': 0.9115191986644408, 'accuracy': 0.8200773860705073, 'f1': 0.7964989059080962}\n",
      "Hyperparameters: {'n_neighbors': 20, 'weights': 'uniform'}\n",
      "Metrics for knn (fair) on 2.0: {'tpr': 0.6854262914741706, 'fpr': 0.07741477272727272, 'precision': 0.8821621621621621, 'accuracy': 0.813931114104291, 'f1': 0.7714488300638147}\n",
      "Hyperparameters: {'n_neighbors': 20, 'weights': 'uniform'}\n",
      "Adjusted max_error to 0.009986591149601182 to limit total combinations to approximately 1000\n",
      "Number of points in the epsilon net: 33\n",
      "Adjusted max_error: 0.009986591149601182\n",
      "Number of points in data: 9849\n"
     ]
    },
    {
     "name": "stderr",
     "output_type": "stream",
     "text": [
      "Threshold Combinations: 100%|██████████| 1089/1089 [00:04<00:00, 232.48it/s]\n"
     ]
    },
    {
     "name": "stdout",
     "output_type": "stream",
     "text": [
      "Best objective value: 0.24036601464121415\n",
      "Best thresholds: {1.0: 0.625, 2.0: 0.625}\n",
      "Epsilon differences: {1.0: {2.0: array([0.02182759, 0.0093497 , 0.02935704])}, 2.0: {1.0: array([0.02182759, 0.0093497 , 0.02935704])}}\n",
      "Overall metrics for knn (fair): {'tpr': 0.6961890568447946, 'fpr': 0.07317546583850931, 'precision': 0.8966273649574993, 'accuracy': 0.8168341963651132, 'f1': 0.783796740172579}\n",
      "Hyperparameters: {'n_neighbors': 20, 'weights': 'uniform'}\n",
      "Metrics for knn (fair) on 1.0: {'tpr': 0.7072538860103627, 'fpr': 0.06806506849315068, 'precision': 0.9115191986644408, 'accuracy': 0.8200773860705073, 'f1': 0.7964989059080962}\n",
      "Hyperparameters: {'n_neighbors': 20, 'weights': 'uniform'}\n",
      "Metrics for knn (fair) on 2.0: {'tpr': 0.6854262914741706, 'fpr': 0.07741477272727272, 'precision': 0.8821621621621621, 'accuracy': 0.813931114104291, 'f1': 0.7714488300638147}\n",
      "Hyperparameters: {'n_neighbors': 20, 'weights': 'uniform'}\n",
      "Running pipeline for dataset: students\n",
      "Overall metrics for knn (original): {'tpr': 1.0, 'fpr': 0.0, 'precision': 1.0, 'accuracy': 1.0, 'f1': 1.0}\n",
      "Hyperparameters: {'n_neighbors': 10, 'weights': 'distance'}\n",
      "Metrics for knn (original) on 0: {'tpr': 1.0, 'fpr': 0.0, 'precision': 1.0, 'accuracy': 1.0, 'f1': 1.0}\n",
      "Hyperparameters: {'n_neighbors': 10, 'weights': 'distance'}\n",
      "Metrics for knn (original) on 1: {'tpr': 1.0, 'fpr': 0.0, 'precision': 1.0, 'accuracy': 1.0, 'f1': 1.0}\n",
      "Hyperparameters: {'n_neighbors': 10, 'weights': 'distance'}\n",
      "Number of points in the epsilon net: 31\n",
      "Adjusted max_error: 0.01\n",
      "Number of points in data: 1044\n"
     ]
    },
    {
     "name": "stderr",
     "output_type": "stream",
     "text": [
      "Threshold Combinations: 100%|██████████| 961/961 [00:03<00:00, 280.98it/s]\n"
     ]
    },
    {
     "name": "stdout",
     "output_type": "stream",
     "text": [
      "Best objective value: 0.04750089410893752\n",
      "Best thresholds: {0: 0.03333333333333333, 1: 0.1}\n",
      "Epsilon differences: {0: {1: array([0.        , 0.00488382, 0.01782531])}, 1: {0: array([0.        , 0.00488382, 0.01782531])}}\n",
      "Overall metrics for knn (fair): {'tpr': 1.0, 'fpr': 0.13513513513513514, 'precision': 0.6764705882352942, 'accuracy': 0.8946360153256705, 'f1': 0.8070175438596491}\n",
      "Hyperparameters: {'n_neighbors': 10, 'weights': 'distance'}\n",
      "Metrics for knn (fair) on 0: {'tpr': 1.0, 'fpr': 0.13793103448275862, 'precision': 0.6862745098039216, 'accuracy': 0.8940397350993378, 'f1': 0.813953488372093}\n",
      "Hyperparameters: {'n_neighbors': 10, 'weights': 'distance'}\n",
      "Metrics for knn (fair) on 1: {'tpr': 1.0, 'fpr': 0.13304721030042918, 'precision': 0.6684491978609626, 'accuracy': 0.8950930626057529, 'f1': 0.8012820512820513}\n",
      "Hyperparameters: {'n_neighbors': 10, 'weights': 'distance'}\n",
      "Adjusted max_error to 0.010051668215763088 to limit total combinations to approximately 1000\n",
      "Number of points in the epsilon net: 33\n",
      "Adjusted max_error: 0.010051668215763088\n",
      "Number of points in data: 1044\n"
     ]
    },
    {
     "name": "stderr",
     "output_type": "stream",
     "text": [
      "Threshold Combinations: 100%|██████████| 1089/1089 [00:03<00:00, 273.32it/s]\n"
     ]
    },
    {
     "name": "stdout",
     "output_type": "stream",
     "text": [
      "Best objective value: 0.06857369104380343\n",
      "Best thresholds: {0: 0.03125, 1: 0.0625}\n",
      "Epsilon differences: {0: {1: array([0.        , 0.00488382, 0.01782531])}, 1: {0: array([0.        , 0.00488382, 0.01782531])}}\n",
      "Overall metrics for knn (fair): {'tpr': 1.0, 'fpr': 0.13513513513513514, 'precision': 0.6764705882352942, 'accuracy': 0.8946360153256705, 'f1': 0.8070175438596491}\n",
      "Hyperparameters: {'n_neighbors': 10, 'weights': 'distance'}\n",
      "Metrics for knn (fair) on 0: {'tpr': 1.0, 'fpr': 0.13793103448275862, 'precision': 0.6862745098039216, 'accuracy': 0.8940397350993378, 'f1': 0.813953488372093}\n",
      "Hyperparameters: {'n_neighbors': 10, 'weights': 'distance'}\n",
      "Metrics for knn (fair) on 1: {'tpr': 1.0, 'fpr': 0.13304721030042918, 'precision': 0.6684491978609626, 'accuracy': 0.8950930626057529, 'f1': 0.8012820512820513}\n",
      "Hyperparameters: {'n_neighbors': 10, 'weights': 'distance'}\n",
      "Adjusted max_error to 0.010703924578354994 to limit total combinations to approximately 1000\n",
      "Number of points in the epsilon net: 33\n",
      "Adjusted max_error: 0.010703924578354994\n",
      "Number of points in data: 1044\n"
     ]
    },
    {
     "name": "stderr",
     "output_type": "stream",
     "text": [
      "Threshold Combinations: 100%|██████████| 1089/1089 [00:04<00:00, 249.67it/s]\n"
     ]
    },
    {
     "name": "stdout",
     "output_type": "stream",
     "text": [
      "Best objective value: 0.08964648797866932\n",
      "Best thresholds: {0: 0.03125, 1: 0.0625}\n",
      "Epsilon differences: {0: {1: array([0.        , 0.00488382, 0.01782531])}, 1: {0: array([0.        , 0.00488382, 0.01782531])}}\n",
      "Overall metrics for knn (fair): {'tpr': 1.0, 'fpr': 0.13513513513513514, 'precision': 0.6764705882352942, 'accuracy': 0.8946360153256705, 'f1': 0.8070175438596491}\n",
      "Hyperparameters: {'n_neighbors': 10, 'weights': 'distance'}\n",
      "Metrics for knn (fair) on 0: {'tpr': 1.0, 'fpr': 0.13793103448275862, 'precision': 0.6862745098039216, 'accuracy': 0.8940397350993378, 'f1': 0.813953488372093}\n",
      "Hyperparameters: {'n_neighbors': 10, 'weights': 'distance'}\n",
      "Metrics for knn (fair) on 1: {'tpr': 1.0, 'fpr': 0.13304721030042918, 'precision': 0.6684491978609626, 'accuracy': 0.8950930626057529, 'f1': 0.8012820512820513}\n",
      "Hyperparameters: {'n_neighbors': 10, 'weights': 'distance'}\n",
      "Adjusted max_error to 0.011317240262583203 to limit total combinations to approximately 1000\n",
      "Number of points in the epsilon net: 33\n",
      "Adjusted max_error: 0.011317240262583203\n",
      "Number of points in data: 1044\n"
     ]
    },
    {
     "name": "stderr",
     "output_type": "stream",
     "text": [
      "Threshold Combinations: 100%|██████████| 1089/1089 [00:04<00:00, 259.75it/s]\n"
     ]
    },
    {
     "name": "stdout",
     "output_type": "stream",
     "text": [
      "Best objective value: 0.10908023903513554\n",
      "Best thresholds: {0: 0.40625, 1: 0.40625}\n",
      "Epsilon differences: {0: {1: array([0.00685714, 0.00927433, 0.03913043])}, 1: {0: array([0.00685714, 0.00927433, 0.03913043])}}\n",
      "Overall metrics for knn (fair): {'tpr': 0.8608695652173913, 'fpr': 0.011056511056511056, 'precision': 0.9565217391304348, 'accuracy': 0.960727969348659, 'f1': 0.9061784897025171}\n",
      "Hyperparameters: {'n_neighbors': 10, 'weights': 'distance'}\n",
      "Metrics for knn (fair) on 0: {'tpr': 0.8571428571428571, 'fpr': 0.005747126436781609, 'precision': 0.9782608695652174, 'accuracy': 0.9624724061810155, 'f1': 0.9137055837563451}\n",
      "Hyperparameters: {'n_neighbors': 10, 'weights': 'distance'}\n",
      "Metrics for knn (fair) on 1: {'tpr': 0.864, 'fpr': 0.015021459227467811, 'precision': 0.9391304347826087, 'accuracy': 0.9593908629441624, 'f1': 0.9}\n",
      "Hyperparameters: {'n_neighbors': 10, 'weights': 'distance'}\n",
      "Adjusted max_error to 0.011895001414392384 to limit total combinations to approximately 1000\n",
      "Number of points in the epsilon net: 33\n",
      "Adjusted max_error: 0.011895001414392384\n",
      "Number of points in data: 1044\n"
     ]
    },
    {
     "name": "stderr",
     "output_type": "stream",
     "text": [
      "Threshold Combinations: 100%|██████████| 1089/1089 [00:04<00:00, 221.79it/s]\n"
     ]
    },
    {
     "name": "stdout",
     "output_type": "stream",
     "text": [
      "Best objective value: 0.11693464516540375\n",
      "Best thresholds: {0: 0.40625, 1: 0.40625}\n",
      "Epsilon differences: {0: {1: array([0.00685714, 0.00927433, 0.03913043])}, 1: {0: array([0.00685714, 0.00927433, 0.03913043])}}\n",
      "Overall metrics for knn (fair): {'tpr': 0.8608695652173913, 'fpr': 0.011056511056511056, 'precision': 0.9565217391304348, 'accuracy': 0.960727969348659, 'f1': 0.9061784897025171}\n",
      "Hyperparameters: {'n_neighbors': 10, 'weights': 'distance'}\n",
      "Metrics for knn (fair) on 0: {'tpr': 0.8571428571428571, 'fpr': 0.005747126436781609, 'precision': 0.9782608695652174, 'accuracy': 0.9624724061810155, 'f1': 0.9137055837563451}\n",
      "Hyperparameters: {'n_neighbors': 10, 'weights': 'distance'}\n",
      "Metrics for knn (fair) on 1: {'tpr': 0.864, 'fpr': 0.015021459227467811, 'precision': 0.9391304347826087, 'accuracy': 0.9593908629441624, 'f1': 0.9}\n",
      "Hyperparameters: {'n_neighbors': 10, 'weights': 'distance'}\n",
      "Pipeline run completed.\n"
     ]
    }
   ],
   "source": [
    "def load_config(config_path):\n",
    "    with open(config_path, 'r') as file:\n",
    "        config = yaml.safe_load(file)\n",
    "    return config\n",
    "\n",
    "CONFIG_PATH = 'configs/test_config.yml'\n",
    "\n",
    "config = load_config(CONFIG_PATH)\n",
    "datasets = config['datasets']\n",
    "classifier_config_path = 'configs/classifier_config.yml'\n",
    "\n",
    "# set to True to estimate runtime\n",
    "ESTIMATE_RUNTIME = False\n",
    "\n",
    "# here we estimate the runtime for the pipeline\n",
    "if ESTIMATE_RUNTIME:\n",
    "    total_runtime = 0\n",
    "    for dataset_name, sensitive_attrs in datasets.items():\n",
    "        print(f\"Estimating runtime for dataset: {dataset_name}\")\n",
    "        if dataset_name in ('ACSEmployment','ACSIncome','ACSMobility','ACSPublicCoverage','ACSTravelTime'):\n",
    "            X = pd.read_csv(f'matrices/{dataset_name}/Xs.csv')\n",
    "            y = pd.read_csv(f'matrices/{dataset_name}/ys.csv').squeeze()\n",
    "        else:\n",
    "            X = pd.read_csv(f'matrices/{dataset_name}/X.csv')\n",
    "            y = pd.read_csv(f'matrices/{dataset_name}/y.csv').squeeze()\n",
    "\n",
    "        # remove any rows that have null or nan\n",
    "        X.dropna(inplace=True)\n",
    "        y = y[X.index]\n",
    "\n",
    "        dataset = FairDataset(X, y, sensitive_attrs)\n",
    "\n",
    "        for sensitive_attr in sensitive_attrs:\n",
    "            pipeline = FairPipeline(classifiers=my_classifiers, \n",
    "                                    classifier_config_path=classifier_config_path, \n",
    "                                    metrics=metrics_dict,\n",
    "                                    metric_functions=metrics_functions,\n",
    "                                    max_error=0.01, max_total_combinations=1000)\n",
    "\n",
    "            runtime = pipeline.estimate_runtime(dataset, sensitive_attr)\n",
    "            total_runtime += runtime\n",
    "\n",
    "        del X, y, dataset\n",
    "        gc.collect()\n",
    "        print()\n",
    "\n",
    "    print(f\"Total estimated runtime for all datasets and sensitive attributes: {total_runtime:.2f} seconds\")\n",
    "\n",
    "proceed = input(\"Do you want to proceed with the full pipeline run? (yes/no): \").strip().lower()\n",
    "\n",
    "if proceed == 'yes':\n",
    "    print(\"Running the full pipeline...\")\n",
    "    all_results = pd.DataFrame()\n",
    "    for dataset_name, sensitive_attrs in datasets.items():\n",
    "        print(f\"Running pipeline for dataset: {dataset_name}\")\n",
    "        if dataset_name in ('ACSEmployment','ACSIncome','ACSMobility','ACSPublicCoverage','ACSTravelTime'):\n",
    "            X = pd.read_csv(f'matrices/{dataset_name}/Xs.csv')\n",
    "            y = pd.read_csv(f'matrices/{dataset_name}/ys.csv').squeeze()\n",
    "        else:\n",
    "            X = pd.read_csv(f'matrices/{dataset_name}/X.csv')\n",
    "            y = pd.read_csv(f'matrices/{dataset_name}/y.csv').squeeze()\n",
    "\n",
    "        # remove any rows that have null or nan\n",
    "        X.dropna(inplace=True)\n",
    "        y = y[X.index]\n",
    "\n",
    "        dataset = FairDataset(X, y, sensitive_attrs)\n",
    "\n",
    "        for sensitive_attr in sensitive_attrs:\n",
    "            pipeline = FairPipeline(classifiers=my_classifiers, \n",
    "                                    classifier_config_path=classifier_config_path, \n",
    "                                    metrics=metrics_dict,\n",
    "                                    metric_functions=metrics_functions,\n",
    "                                    max_error=0.01, max_total_combinations=1000)\n",
    "\n",
    "            pipeline.tune_and_evaluate(dataset, dataset_name, sensitive_attr)\n",
    "            results = pipeline.results_df\n",
    "            results['sensitive_attr'] = sensitive_attr\n",
    "            results['dataset'] = dataset_name\n",
    "            all_results = all_results.append(results, ignore_index=True)\n",
    "            \n",
    "        # this avoids memory issues\n",
    "        del X, y, dataset\n",
    "        gc.collect()\n",
    "\n",
    "    print(\"Pipeline run completed.\")\n",
    "else:\n",
    "    print(\"Pipeline run aborted.\")\n",
    "\n",
    "# dump all results to pickle dataframe\n",
    "all_results.to_pickle('all_results.pkl')\n"
   ]
  },
  {
   "cell_type": "code",
   "execution_count": 11,
   "metadata": {},
   "outputs": [
    {
     "data": {
      "image/png": "[encoded data removed]",
      "text/plain": [
       "<Figure size 720x432 with 1 Axes>"
      ]
     },
     "metadata": {
      "needs_background": "light"
     },
     "output_type": "display_data"
    }
   ],
   "source": [
    "import seaborn as sns\n",
    "import matplotlib.pyplot as plt\n",
    "\n",
    "data = all_results\n",
    "\n",
    "unique_tuples = data[['dataset', 'classifier', 'dataset_subset', 'method']].drop_duplicates()\n",
    "\n",
    "plt.figure(figsize=(10, 6))\n",
    "plt.title(f\"Test plot\")\n",
    "plt.xlabel('Lambda')\n",
    "plt.ylabel('Best Objective Value')\n",
    "plt.grid(True)\n",
    "for _, row in unique_tuples.iterrows():\n",
    "    subset = data[(data['dataset'] == row['dataset']) & \n",
    "                  (data['classifier'] == row['classifier']) & \n",
    "                  (data['dataset_subset'] == row['dataset_subset']) & \n",
    "                  (data['method'] == row['method'])]\n",
    "\n",
    "    if 'lambda' in subset.columns and 'best_objective_value' in subset.columns and (row['method'] == 'fair'):\n",
    "        sns.lineplot(x='lambda', y='best_objective_value', data=subset)\n",
    "\n",
    "plt.show()\n",
    "        \n"
   ]
  },
  {
   "cell_type": "code",
   "execution_count": null,
   "metadata": {},
   "outputs": [],
   "source": []
  }
 ],
 "metadata": {
  "kernelspec": {
   "display_name": "Python 3",
   "language": "python",
   "name": "python3"
  },
  "language_info": {
   "codemirror_mode": {
    "name": "ipython",
    "version": 3
   },
   "file_extension": ".py",
   "mimetype": "text/x-python",
   "name": "python",
   "nbconvert_exporter": "python",
   "pygments_lexer": "ipython3",
   "version": "3.8.12"
  }
 },
 "nbformat": 4,
 "nbformat_minor": 2
}
