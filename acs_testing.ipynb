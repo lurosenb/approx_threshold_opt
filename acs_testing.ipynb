{
 "cells": [
  {
   "cell_type": "code",
   "execution_count": 1,
   "metadata": {},
   "outputs": [],
   "source": [
    "import numpy as np\n",
    "import matplotlib.pyplot as plt\n",
    "\n",
    "from sklearn.metrics import roc_curve, auc, precision_recall_curve, classification_report\n",
    "from sklearn.datasets import make_classification\n",
    "from sklearn.model_selection import train_test_split\n",
    "from sklearn.linear_model import LogisticRegression\n",
    "\n",
    "from approx_thresh import ApproxThreshold\n",
    "from data_utils import get_employment"
   ]
  },
  {
   "cell_type": "code",
   "execution_count": 5,
   "metadata": {},
   "outputs": [
    {
     "name": "stdout",
     "output_type": "stream",
     "text": [
      "['RELP']\n"
     ]
    }
   ],
   "source": [
    "employment_all, pd_features, pd_target, pd_group = get_employment()\n",
    "# employment_all = employment_all.sample(n=5000, random_state=42)"
   ]
  },
  {
   "cell_type": "code",
   "execution_count": 10,
   "metadata": {},
   "outputs": [
    {
     "data": {
      "text/plain": [
       "array([0.70303147, 0.12196967, 0.00257911, 0.00002538, 0.00123879,\n",
       "       0.08646118, 0.00036554, 0.05566415, 0.0286647 ])"
      ]
     },
     "execution_count": 10,
     "metadata": {},
     "output_type": "execute_result"
    }
   ],
   "source": [
    "np.set_printoptions(suppress=True)\n",
    "(employment_all.groupby('RAC1P').count() / len(employment_all))['AGEP'].values"
   ]
  },
  {
   "cell_type": "code",
   "execution_count": 11,
   "metadata": {},
   "outputs": [
    {
     "data": {
      "text/plain": [
       "196967"
      ]
     },
     "execution_count": 11,
     "metadata": {},
     "output_type": "execute_result"
    },
    {
     "ename": "",
     "evalue": "",
     "output_type": "error",
     "traceback": [
      "\u001b[1;31mThe Kernel crashed while executing code in the the current cell or a previous cell. Please review the code in the cell(s) to identify a possible cause of the failure. Click <a href='https://aka.ms/vscodeJupyterKernelCrash'>here</a> for more info. View Jupyter <a href='command:jupyter.viewOutput'>log</a> for further details."
     ]
    }
   ],
   "source": [
    "len(employment_all)"
   ]
  },
  {
   "cell_type": "code",
   "execution_count": 25,
   "metadata": {},
   "outputs": [],
   "source": [
    "target_variable = 'ESR'\n",
    "employment_all = employment_all[(employment_all['RAC1P'] == 1.0) | (employment_all['RAC1P'] == 2.0)]\n",
    "X = employment_all[employment_all.columns[~employment_all.columns.isin([target_variable])]]\n",
    "y = employment_all[target_variable]\n",
    "A = employment_all['RAC1P']"
   ]
  },
  {
   "cell_type": "code",
   "execution_count": 26,
   "metadata": {},
   "outputs": [
    {
     "data": {
      "text/plain": [
       "0.0    2123\n",
       "1.0    1982\n",
       "Name: ESR, dtype: int64"
      ]
     },
     "execution_count": 26,
     "metadata": {},
     "output_type": "execute_result"
    }
   ],
   "source": [
    "y.value_counts()"
   ]
  },
  {
   "cell_type": "code",
   "execution_count": 33,
   "metadata": {},
   "outputs": [],
   "source": [
    "def class_report_for_each(X_test, y_test, clf, A_column):\n",
    "    rac1p_values = X_test[A_column].unique()\n",
    "\n",
    "    for value in rac1p_values:\n",
    "        mask = X_test[A_column] == value\n",
    "        X_temp = X_test[mask]\n",
    "        y_temp = y_test[mask]\n",
    "        \n",
    "        y_pred = clf.predict(X_temp)\n",
    "        \n",
    "        print(f\"Classification Report for {A_column} = {value}:\\n\")\n",
    "        print(classification_report(y_temp, y_pred))\n",
    "        print('-'*50)\n"
   ]
  },
  {
   "cell_type": "code",
   "execution_count": 34,
   "metadata": {},
   "outputs": [
    {
     "name": "stderr",
     "output_type": "stream",
     "text": [
      "/Users/lucasrosenblatt/opt/miniconda3/envs/heuristic_fairness/lib/python3.8/site-packages/sklearn/linear_model/_logistic.py:460: ConvergenceWarning:\n",
      "\n",
      "lbfgs failed to converge (status=1):\n",
      "STOP: TOTAL NO. of ITERATIONS REACHED LIMIT.\n",
      "\n",
      "Increase the number of iterations (max_iter) or scale the data as shown in:\n",
      "    https://scikit-learn.org/stable/modules/preprocessing.html\n",
      "Please also refer to the documentation for alternative solver options:\n",
      "    https://scikit-learn.org/stable/modules/linear_model.html#logistic-regression\n",
      "\n",
      "/Users/lucasrosenblatt/opt/miniconda3/envs/heuristic_fairness/lib/python3.8/site-packages/sklearn/linear_model/_logistic.py:460: ConvergenceWarning:\n",
      "\n",
      "lbfgs failed to converge (status=1):\n",
      "STOP: TOTAL NO. of ITERATIONS REACHED LIMIT.\n",
      "\n",
      "Increase the number of iterations (max_iter) or scale the data as shown in:\n",
      "    https://scikit-learn.org/stable/modules/preprocessing.html\n",
      "Please also refer to the documentation for alternative solver options:\n",
      "    https://scikit-learn.org/stable/modules/linear_model.html#logistic-regression\n",
      "\n"
     ]
    },
    {
     "name": "stdout",
     "output_type": "stream",
     "text": [
      "Classification Report for RAC1P = 2.0:\n",
      "\n",
      "              precision    recall  f1-score   support\n",
      "\n",
      "         0.0       0.77      0.73      0.75       162\n",
      "         1.0       0.71      0.76      0.74       145\n",
      "\n",
      "    accuracy                           0.74       307\n",
      "   macro avg       0.74      0.74      0.74       307\n",
      "weighted avg       0.74      0.74      0.74       307\n",
      "\n",
      "--------------------------------------------------\n",
      "Classification Report for RAC1P = 1.0:\n",
      "\n",
      "              precision    recall  f1-score   support\n",
      "\n",
      "         0.0       0.84      0.71      0.77       884\n",
      "         1.0       0.74      0.86      0.80       862\n",
      "\n",
      "    accuracy                           0.78      1746\n",
      "   macro avg       0.79      0.78      0.78      1746\n",
      "weighted avg       0.79      0.78      0.78      1746\n",
      "\n",
      "--------------------------------------------------\n"
     ]
    },
    {
     "data": {
      "image/png": "[encoded data removed]",
      "text/plain": [
       "<Figure size 720x576 with 1 Axes>"
      ]
     },
     "metadata": {
      "needs_background": "light"
     },
     "output_type": "display_data"
    },
    {
     "data": {
      "application/vnd.plotly.v1+json": {
       "config": {
        "plotlyServerURL": "https://plot.ly"
       },
       "data": [
        {
         "line": {
          "color": "blue"
         },
         "marker": {
          "size": [
           2,
           2,
           2,
           2,
           2,
           2,
           2,
           2,
           2,
           2,
           2,
           2,
           2,
           2,
           2,
           2,
           2,
           2,
           2,
           2,
           2,
           2,
           2,
           2,
           2,
           2,
           2,
           2,
           2,
           2,
           2,
           2,
           2,
           2,
           2,
           2,
           2,
           2,
           2,
           2,
           2,
           2,
           2,
           2,
           2,
           2,
           2,
           2,
           2,
           2,
           2,
           2,
           2,
           2,
           2,
           2,
           2,
           2,
           2,
           2,
           2,
           2,
           2,
           2,
           2,
           2,
           2,
           2,
           2,
           2,
           2,
           2,
           2,
           2,
           2,
           2,
           2,
           2,
           2,
           2,
           2,
           2,
           2,
           2,
           2,
           2,
           2,
           2,
           2,
           2,
           2,
           2,
           2,
           2,
           2,
           2,
           2,
           2,
           2,
           2,
           2,
           2,
           2,
           2,
           2,
           2,
           2,
           2,
           2,
           2,
           2,
           2,
           2,
           2,
           2,
           2,
           2,
           2,
           2,
           2,
           2,
           2,
           2,
           2,
           2,
           2,
           2,
           2,
           2,
           2,
           2,
           2,
           2,
           2,
           2,
           2,
           2,
           2,
           2,
           2,
           2,
           2,
           2,
           2,
           2,
           2,
           2,
           2,
           2,
           2,
           2,
           2,
           2,
           2,
           2,
           2,
           2,
           2,
           2,
           2,
           2,
           2,
           2,
           2,
           2,
           2,
           2,
           2,
           2,
           2,
           2,
           2,
           2,
           2,
           2,
           2,
           2,
           2,
           2,
           2,
           2,
           2,
           2,
           2,
           2,
           2,
           2,
           2,
           2,
           2,
           2,
           2,
           2,
           2,
           2,
           2,
           2,
           2,
           2,
           2,
           2,
           2,
           2,
           2,
           2,
           10,
           2,
           2,
           2,
           2,
           2,
           2,
           2,
           2,
           2,
           2,
           2,
           2,
           2,
           2,
           2,
           2,
           2,
           2,
           2,
           2,
           2,
           2,
           2,
           2,
           2,
           2,
           2,
           2,
           2,
           2,
           2,
           2,
           2,
           2,
           2,
           2,
           2,
           2,
           2,
           2,
           2,
           2,
           2,
           2,
           2,
           2,
           2,
           2,
           2,
           2,
           2,
           2,
           2,
           2,
           2,
           2,
           2,
           2,
           2,
           2,
           2,
           2,
           2,
           2,
           2,
           2,
           2,
           2,
           2,
           2,
           2,
           2,
           2,
           2,
           2,
           2,
           2,
           2,
           2,
           2,
           2,
           2,
           2,
           2,
           2,
           2,
           2,
           2,
           2,
           2,
           2,
           2,
           2,
           2,
           2,
           2,
           2,
           2,
           2,
           2,
           2,
           2,
           2,
           2,
           2,
           2,
           2,
           2,
           2,
           2,
           2,
           2,
           2,
           2,
           2,
           2,
           2,
           2,
           2,
           2,
           2,
           2,
           2,
           2,
           2,
           2,
           2,
           2,
           2,
           2,
           2,
           2,
           2,
           2,
           2,
           2,
           2,
           2,
           2,
           2,
           2,
           2,
           2,
           2,
           2,
           2,
           2,
           2,
           2,
           2,
           2,
           2,
           2,
           2,
           2,
           2,
           2,
           2,
           2,
           2,
           2,
           2,
           2,
           2,
           2,
           2,
           2,
           2,
           2,
           2,
           2,
           2,
           2,
           2,
           2,
           2,
           2,
           2,
           2,
           2,
           2,
           2,
           2,
           2,
           2,
           2,
           2,
           2,
           2,
           2,
           2,
           2,
           2,
           2,
           2,
           2,
           2,
           2,
           2,
           2,
           2,
           2,
           2,
           2,
           2,
           2,
           2,
           2,
           2,
           2,
           2,
           2,
           2,
           2,
           2,
           2,
           2,
           2,
           2,
           2,
           2,
           2,
           2,
           2,
           2,
           2,
           2,
           2,
           2,
           2,
           2,
           2,
           2,
           2,
           2,
           2,
           2,
           2,
           2,
           2,
           2,
           2,
           2,
           2,
           2,
           2,
           2,
           2,
           2,
           2,
           2,
           2,
           2,
           2,
           2,
           2,
           2,
           2,
           2,
           2,
           2,
           2,
           2,
           2,
           2,
           2,
           2,
           2,
           2,
           2,
           2,
           2,
           2,
           2,
           2,
           2,
           2,
           2,
           2,
           2,
           2,
           2,
           2,
           2,
           2,
           2,
           2,
           2,
           2,
           2,
           2,
           2,
           2
          ]
         },
         "mode": "lines+markers",
         "name": "Class 1 ROC (area = 0.85)",
         "type": "scatter3d",
         "x": [
          0,
          0,
          0,
          0,
          0,
          0,
          0,
          0.0011185682326621924,
          0.0011185682326621924,
          0.0011185682326621924,
          0.0011185682326621924,
          0.0022371364653243847,
          0.0022371364653243847,
          0.003355704697986577,
          0.003355704697986577,
          0.003355704697986577,
          0.0044742729306487695,
          0.0044742729306487695,
          0.005592841163310962,
          0.005592841163310962,
          0.006711409395973154,
          0.006711409395973154,
          0.010067114093959731,
          0.010067114093959731,
          0.012304250559284116,
          0.012304250559284116,
          0.012304250559284116,
          0.013422818791946308,
          0.013422818791946308,
          0.015659955257270694,
          0.017897091722595078,
          0.017897091722595078,
          0.017897091722595078,
          0.02237136465324385,
          0.024608501118568233,
          0.025727069351230425,
          0.026845637583892617,
          0.026845637583892617,
          0.029082774049217,
          0.030201342281879196,
          0.03131991051454139,
          0.03131991051454139,
          0.03243847874720358,
          0.03243847874720358,
          0.03243847874720358,
          0.03467561521252797,
          0.03467561521252797,
          0.035794183445190156,
          0.03691275167785235,
          0.03803131991051454,
          0.03803131991051454,
          0.039149888143176735,
          0.039149888143176735,
          0.039149888143176735,
          0.039149888143176735,
          0.039149888143176735,
          0.039149888143176735,
          0.040268456375838924,
          0.040268456375838924,
          0.04138702460850112,
          0.04138702460850112,
          0.04138702460850112,
          0.042505592841163314,
          0.04586129753914989,
          0.04697986577181208,
          0.04697986577181208,
          0.04697986577181208,
          0.049217002237136466,
          0.049217002237136466,
          0.05145413870246085,
          0.05145413870246085,
          0.05145413870246085,
          0.05145413870246085,
          0.053691275167785234,
          0.053691275167785234,
          0.05592841163310962,
          0.05592841163310962,
          0.05704697986577181,
          0.05704697986577181,
          0.05704697986577181,
          0.058165548098434,
          0.058165548098434,
          0.06823266219239374,
          0.06935123042505593,
          0.06935123042505593,
          0.07158836689038031,
          0.07158836689038031,
          0.07158836689038031,
          0.07270693512304251,
          0.07270693512304251,
          0.08165548098434004,
          0.08165548098434004,
          0.08165548098434004,
          0.08501118568232663,
          0.08501118568232663,
          0.08612975391498881,
          0.08612975391498881,
          0.087248322147651,
          0.087248322147651,
          0.0883668903803132,
          0.09395973154362416,
          0.09843400447427293,
          0.09843400447427293,
          0.09955257270693513,
          0.09955257270693513,
          0.09955257270693513,
          0.09955257270693513,
          0.10067114093959731,
          0.10067114093959731,
          0.1017897091722595,
          0.1017897091722595,
          0.10961968680089486,
          0.10961968680089486,
          0.11073825503355705,
          0.11073825503355705,
          0.11073825503355705,
          0.11185682326621924,
          0.11185682326621924,
          0.11185682326621924,
          0.11185682326621924,
          0.11297539149888143,
          0.11297539149888143,
          0.1185682326621924,
          0.11968680089485459,
          0.12080536912751678,
          0.12080536912751678,
          0.12192393736017897,
          0.12192393736017897,
          0.12304250559284116,
          0.12416107382550336,
          0.12527964205816555,
          0.12639821029082773,
          0.1331096196868009,
          0.1342281879194631,
          0.13534675615212527,
          0.13534675615212527,
          0.13534675615212527,
          0.13534675615212527,
          0.13534675615212527,
          0.13534675615212527,
          0.13646532438478748,
          0.13870246085011187,
          0.13870246085011187,
          0.13870246085011187,
          0.14093959731543623,
          0.14317673378076062,
          0.1465324384787472,
          0.1465324384787472,
          0.1465324384787472,
          0.1465324384787472,
          0.1476510067114094,
          0.1476510067114094,
          0.1487695749440716,
          0.1487695749440716,
          0.15324384787472037,
          0.15324384787472037,
          0.15436241610738255,
          0.15548098434004473,
          0.15548098434004473,
          0.15548098434004473,
          0.15659955257270694,
          0.1599552572706935,
          0.1599552572706935,
          0.1610738255033557,
          0.17785234899328858,
          0.17785234899328858,
          0.18008948545861297,
          0.18008948545861297,
          0.18120805369127516,
          0.18120805369127516,
          0.18344519015659955,
          0.18568232662192394,
          0.18568232662192394,
          0.18568232662192394,
          0.18680089485458612,
          0.18680089485458612,
          0.19798657718120805,
          0.20022371364653244,
          0.20022371364653244,
          0.20469798657718122,
          0.20693512304250558,
          0.2080536912751678,
          0.2080536912751678,
          0.20917225950782997,
          0.20917225950782997,
          0.21029082774049218,
          0.21029082774049218,
          0.21140939597315436,
          0.21140939597315436,
          0.21923937360178972,
          0.2203579418344519,
          0.22595078299776286,
          0.22706935123042504,
          0.22706935123042504,
          0.22930648769574943,
          0.22930648769574943,
          0.23042505592841164,
          0.232662192393736,
          0.232662192393736,
          0.232662192393736,
          0.232662192393736,
          0.2348993288590604,
          0.2360178970917226,
          0.23825503355704697,
          0.23937360178970918,
          0.23937360178970918,
          0.24496644295302014,
          0.24608501118568232,
          0.24608501118568232,
          0.24720357941834453,
          0.2483221476510067,
          0.2505592841163311,
          0.2505592841163311,
          0.25279642058165547,
          0.2539149888143177,
          0.2539149888143177,
          0.2550335570469799,
          0.2550335570469799,
          0.25615212527964204,
          0.25615212527964204,
          0.25727069351230425,
          0.25727069351230425,
          0.2606263982102908,
          0.26174496644295303,
          0.26286353467561524,
          0.2639821029082774,
          0.2639821029082774,
          0.2662192393736018,
          0.2662192393736018,
          0.27069351230425054,
          0.27069351230425054,
          0.27293064876957496,
          0.27740492170022374,
          0.2785234899328859,
          0.2807606263982103,
          0.28187919463087246,
          0.28523489932885904,
          0.28747203579418346,
          0.2986577181208054,
          0.2986577181208054,
          0.2986577181208054,
          0.29977628635346754,
          0.29977628635346754,
          0.30089485458612975,
          0.30089485458612975,
          0.30201342281879195,
          0.30201342281879195,
          0.30201342281879195,
          0.30201342281879195,
          0.30313199105145416,
          0.3087248322147651,
          0.3087248322147651,
          0.31096196868008946,
          0.31208053691275167,
          0.3131991051454139,
          0.3143176733780761,
          0.32102908277404923,
          0.32102908277404923,
          0.3221476510067114,
          0.3221476510067114,
          0.3221476510067114,
          0.32550335570469796,
          0.33221476510067116,
          0.3333333333333333,
          0.3378076062639821,
          0.3389261744966443,
          0.3389261744966443,
          0.3434004474272931,
          0.3434004474272931,
          0.34563758389261745,
          0.34563758389261745,
          0.3478747203579418,
          0.36129753914988816,
          0.3624161073825503,
          0.3635346756152125,
          0.3635346756152125,
          0.3668903803131991,
          0.3713646532438479,
          0.3713646532438479,
          0.3724832214765101,
          0.3724832214765101,
          0.37360178970917224,
          0.37360178970917224,
          0.37583892617449666,
          0.37583892617449666,
          0.3769574944071588,
          0.3970917225950783,
          0.3970917225950783,
          0.39932885906040266,
          0.40492170022371365,
          0.407158836689038,
          0.407158836689038,
          0.4105145413870246,
          0.412751677852349,
          0.4161073825503356,
          0.4161073825503356,
          0.4172259507829978,
          0.41834451901565994,
          0.41834451901565994,
          0.4228187919463087,
          0.42841163310961966,
          0.42841163310961966,
          0.42953020134228187,
          0.42953020134228187,
          0.4306487695749441,
          0.4306487695749441,
          0.4317673378076063,
          0.43288590604026844,
          0.43288590604026844,
          0.436241610738255,
          0.436241610738255,
          0.4373601789709172,
          0.4373601789709172,
          0.43847874720357943,
          0.43847874720357943,
          0.4407158836689038,
          0.4429530201342282,
          0.4429530201342282,
          0.4451901565995526,
          0.4451901565995526,
          0.4451901565995526,
          0.4463087248322148,
          0.4463087248322148,
          0.44742729306487694,
          0.44742729306487694,
          0.44854586129753915,
          0.4507829977628635,
          0.4563758389261745,
          0.4563758389261745,
          0.4597315436241611,
          0.46196868008948544,
          0.46196868008948544,
          0.46308724832214765,
          0.46308724832214765,
          0.465324384787472,
          0.465324384787472,
          0.46756152125279643,
          0.46756152125279643,
          0.4697986577181208,
          0.4742729306487696,
          0.47651006711409394,
          0.47651006711409394,
          0.47874720357941836,
          0.48322147651006714,
          0.4843400447427293,
          0.4899328859060403,
          0.49105145413870244,
          0.49328859060402686,
          0.49328859060402686,
          0.49776286353467564,
          0.49776286353467564,
          0.5022371364653244,
          0.5055928411633109,
          0.5055928411633109,
          0.5100671140939598,
          0.5156599552572707,
          0.5190156599552572,
          0.5234899328859061,
          0.5234899328859061,
          0.5257270693512305,
          0.5257270693512305,
          0.5268456375838926,
          0.5313199105145414,
          0.5324384787472036,
          0.5324384787472036,
          0.5357941834451901,
          0.5369127516778524,
          0.540268456375839,
          0.540268456375839,
          0.5469798657718121,
          0.5503355704697986,
          0.5559284116331096,
          0.558165548098434,
          0.558165548098434,
          0.5604026845637584,
          0.5682326621923938,
          0.5682326621923938,
          0.5805369127516778,
          0.5827740492170023,
          0.5883668903803132,
          0.5883668903803132,
          0.5950782997762863,
          0.5973154362416108,
          0.5995525727069351,
          0.6017897091722595,
          0.6029082774049217,
          0.6029082774049217,
          0.6051454138702461,
          0.6062639821029083,
          0.6085011185682326,
          0.6096196868008948,
          0.6118568232662193,
          0.6196868008948546,
          0.6297539149888143,
          0.6319910514541387,
          0.6319910514541387,
          0.6342281879194631,
          0.6387024608501118,
          0.6387024608501118,
          0.639821029082774,
          0.6409395973154363,
          0.6442953020134228,
          0.645413870246085,
          0.6476510067114094,
          0.6510067114093959,
          0.6532438478747203,
          0.6554809843400448,
          0.6554809843400448,
          0.6588366890380313,
          0.6588366890380313,
          0.6655480984340044,
          0.6655480984340044,
          0.6756152125279642,
          0.6789709172259508,
          0.6823266219239373,
          0.6901565995525727,
          0.6912751677852349,
          0.6935123042505593,
          0.6968680089485458,
          0.7046979865771812,
          0.7058165548098434,
          0.7080536912751678,
          0.7114093959731543,
          0.7136465324384788,
          0.7158836689038032,
          0.7259507829977628,
          0.7293064876957495,
          0.7393736017897091,
          0.7404921700223713,
          0.743847874720358,
          0.7460850111856824,
          0.7505592841163311,
          0.7539149888143176,
          0.7572706935123042,
          0.7639821029082774,
          0.7639821029082774,
          0.7662192393736018,
          0.7751677852348994,
          0.7774049217002237,
          0.7807606263982103,
          0.7829977628635347,
          0.7897091722595079,
          0.7919463087248322,
          0.7975391498881432,
          0.8042505592841164,
          0.8064876957494407,
          0.8098434004474273,
          0.8120805369127517,
          0.8131991051454138,
          0.8187919463087249,
          0.8210290827740492,
          0.825503355704698,
          0.8299776286353467,
          0.8322147651006712,
          0.8355704697986577,
          0.8378076062639821,
          0.8389261744966443,
          0.8422818791946308,
          0.8422818791946308,
          0.8456375838926175,
          0.8478747203579419,
          0.8489932885906041,
          0.8512304250559284,
          0.8646532438478747,
          0.8668903803131991,
          0.8691275167785235,
          0.8691275167785235,
          0.8713646532438478,
          0.8758389261744967,
          0.8791946308724832,
          0.8825503355704698,
          0.8847874720357942,
          0.8937360178970917,
          0.8959731543624161,
          0.8982102908277405,
          0.901565995525727,
          0.9060402684563759,
          0.9082774049217002,
          0.9105145413870246,
          0.912751677852349,
          0.9172259507829977,
          0.9205816554809844,
          0.9239373601789709,
          0.9272930648769575,
          0.9317673378076062,
          0.9362416107382551,
          0.9407158836689038,
          0.9451901565995525,
          0.9474272930648769,
          0.9507829977628636,
          0.9530201342281879,
          0.9574944071588367,
          0.9619686800894854,
          0.9642058165548099,
          0.9675615212527964,
          0.9697986577181208,
          0.9742729306487695,
          0.9765100671140939,
          1
         ],
         "y": [
          0,
          0.004722550177095631,
          0.0070838252656434475,
          0.011806375442739079,
          0.021251475796930343,
          0.02715466351829988,
          0.02833530106257379,
          0.03423848878394333,
          0.03778040141676505,
          0.0448642266824085,
          0.047225501770956316,
          0.0590318772136954,
          0.0602125147579693,
          0.06139315230224321,
          0.06375442739079103,
          0.06493506493506493,
          0.06493506493506493,
          0.06847697756788666,
          0.089728453364817,
          0.09090909090909091,
          0.09090909090909091,
          0.09563164108618655,
          0.09563164108618655,
          0.10035419126328217,
          0.10979929161747344,
          0.11216056670602124,
          0.1204250295159386,
          0.12278630460448642,
          0.12514757969303425,
          0.12632821723730814,
          0.13931523022432113,
          0.14403778040141677,
          0.14757969303423848,
          0.15348288075560804,
          0.15348288075560804,
          0.15466351829988192,
          0.15466351829988192,
          0.15938606847697756,
          0.1617473435655254,
          0.17237308146399055,
          0.1806375442739079,
          0.18299881936245574,
          0.18654073199527746,
          0.18772136953955135,
          0.1912632821723731,
          0.21369539551357733,
          0.21723730814639905,
          0.22195985832349469,
          0.2231404958677686,
          0.24557260920897284,
          0.24793388429752067,
          0.2762691853600944,
          0.27744982290436837,
          0.2845336481700118,
          0.2857142857142857,
          0.29043683589138136,
          0.2975206611570248,
          0.30932703659976385,
          0.3105076741440378,
          0.3187721369539551,
          0.3282172373081464,
          0.3317591499409681,
          0.3317591499409681,
          0.33293978748524206,
          0.3400236127508855,
          0.34238488783943327,
          0.3435655253837072,
          0.3435655253837072,
          0.3447461629279811,
          0.3447461629279811,
          0.34710743801652894,
          0.34946871310507677,
          0.3541912632821724,
          0.3541912632821724,
          0.3565525383707202,
          0.3577331759149941,
          0.358913813459268,
          0.358913813459268,
          0.3600944510035419,
          0.3624557260920897,
          0.3624557260920897,
          0.36363636363636365,
          0.3884297520661157,
          0.4014167650531287,
          0.4037780401416765,
          0.4085005903187721,
          0.41086186540731995,
          0.4179456906729634,
          0.41912632821723733,
          0.4203069657615112,
          0.44155844155844154,
          0.4427390791027155,
          0.44510035419126326,
          0.4510035419126328,
          0.4557260920897285,
          0.4557260920897285,
          0.45808736717827625,
          0.4592680047225502,
          0.4628099173553719,
          0.4639905548996458,
          0.4734356552538371,
          0.4769775678866588,
          0.4781582054309327,
          0.48288075560802834,
          0.48642266824085006,
          0.4923258559622196,
          0.4935064935064935,
          0.4935064935064935,
          0.49586776859504134,
          0.49586776859504134,
          0.4970484061393152,
          0.5088547815820543,
          0.5100354191263282,
          0.5100354191263282,
          0.5112160566706021,
          0.5159386068476978,
          0.5159386068476978,
          0.5194805194805194,
          0.526564344746163,
          0.5289256198347108,
          0.5360094451003542,
          0.5371900826446281,
          0.5442739079102715,
          0.5442739079102715,
          0.5454545454545454,
          0.5466351829988194,
          0.5466351829988194,
          0.5489964580873672,
          0.5537190082644629,
          0.5537190082644629,
          0.5560802833530106,
          0.5560802833530106,
          0.5690672963400236,
          0.5690672963400236,
          0.5702479338842975,
          0.5737898465171193,
          0.5749704840613932,
          0.5974025974025974,
          0.5997638724911453,
          0.6056670602125147,
          0.6068476977567887,
          0.6292798110979929,
          0.6304604486422668,
          0.6340023612750886,
          0.6340023612750886,
          0.6446280991735537,
          0.6446280991735537,
          0.6493506493506493,
          0.6528925619834711,
          0.6564344746162928,
          0.6576151121605667,
          0.6611570247933884,
          0.6611570247933884,
          0.6623376623376623,
          0.6658795749704841,
          0.667060212514758,
          0.667060212514758,
          0.6717827626918536,
          0.6729634002361276,
          0.6765053128689492,
          0.6788665879574971,
          0.6824085005903188,
          0.6883116883116883,
          0.6906729634002361,
          0.7012987012987013,
          0.704840613931523,
          0.7072018890200709,
          0.7107438016528925,
          0.7131050767414404,
          0.7142857142857143,
          0.7142857142857143,
          0.7154663518299882,
          0.7166469893742621,
          0.71900826446281,
          0.71900826446281,
          0.7201889020070839,
          0.7461629279811098,
          0.7461629279811098,
          0.7473435655253837,
          0.7473435655253837,
          0.755608028335301,
          0.755608028335301,
          0.7567886658795749,
          0.7579693034238488,
          0.7615112160566706,
          0.7615112160566706,
          0.7662337662337663,
          0.7662337662337663,
          0.7674144037780402,
          0.7780401416765053,
          0.7792207792207793,
          0.7851239669421488,
          0.7851239669421488,
          0.7863046044864227,
          0.7863046044864227,
          0.7874852420306966,
          0.7874852420306966,
          0.7886658795749705,
          0.7898465171192444,
          0.7922077922077922,
          0.7933884297520661,
          0.7969303423848878,
          0.7969303423848878,
          0.7969303423848878,
          0.7969303423848878,
          0.7981109799291618,
          0.7981109799291618,
          0.7981109799291618,
          0.7992916174734357,
          0.8004722550177096,
          0.8004722550177096,
          0.8004722550177096,
          0.8051948051948052,
          0.8051948051948052,
          0.8051948051948052,
          0.8063754427390791,
          0.8063754427390791,
          0.807556080283353,
          0.807556080283353,
          0.8099173553719008,
          0.8099173553719008,
          0.8110979929161747,
          0.8110979929161747,
          0.8146399055489965,
          0.8170011806375442,
          0.8170011806375442,
          0.8181818181818182,
          0.8193624557260921,
          0.820543093270366,
          0.8240850059031877,
          0.8264462809917356,
          0.8264462809917356,
          0.8264462809917356,
          0.8264462809917356,
          0.8264462809917356,
          0.8276269185360094,
          0.8311688311688312,
          0.8311688311688312,
          0.8370720188902007,
          0.8394332939787486,
          0.8417945690672963,
          0.8417945690672963,
          0.8441558441558441,
          0.8441558441558441,
          0.846517119244392,
          0.846517119244392,
          0.8488783943329398,
          0.8524203069657615,
          0.8547815820543093,
          0.8547815820543093,
          0.8606847697756789,
          0.8618654073199528,
          0.8618654073199528,
          0.8630460448642266,
          0.8630460448642266,
          0.8642266824085005,
          0.8642266824085005,
          0.8654073199527745,
          0.8654073199527745,
          0.8677685950413223,
          0.8689492325855962,
          0.8689492325855962,
          0.8701298701298701,
          0.8701298701298701,
          0.8701298701298701,
          0.8701298701298701,
          0.8713105076741441,
          0.8713105076741441,
          0.872491145218418,
          0.872491145218418,
          0.8736717827626919,
          0.8736717827626919,
          0.8831168831168831,
          0.8831168831168831,
          0.8842975206611571,
          0.885478158205431,
          0.885478158205431,
          0.8866587957497049,
          0.8890200708382526,
          0.8890200708382526,
          0.8913813459268005,
          0.8913813459268005,
          0.8937426210153483,
          0.8937426210153483,
          0.8949232585596222,
          0.8949232585596222,
          0.9043683589138135,
          0.9055489964580874,
          0.9055489964580874,
          0.9055489964580874,
          0.9055489964580874,
          0.9090909090909091,
          0.910271546635183,
          0.910271546635183,
          0.911452184179457,
          0.9126328217237308,
          0.9149940968122786,
          0.9149940968122786,
          0.9161747343565525,
          0.9208972845336482,
          0.9208972845336482,
          0.9232585596221959,
          0.9232585596221959,
          0.9244391971664699,
          0.9244391971664699,
          0.9256198347107438,
          0.9256198347107438,
          0.9268004722550177,
          0.9279811097992916,
          0.9279811097992916,
          0.9291617473435655,
          0.9291617473435655,
          0.9303423848878394,
          0.9303423848878394,
          0.9315230224321134,
          0.9315230224321134,
          0.9315230224321134,
          0.9338842975206612,
          0.935064935064935,
          0.9374262101534829,
          0.9409681227863046,
          0.9409681227863046,
          0.9421487603305785,
          0.9421487603305785,
          0.9492325855962219,
          0.9492325855962219,
          0.9504132231404959,
          0.9504132231404959,
          0.9527744982290437,
          0.9527744982290437,
          0.9527744982290437,
          0.9539551357733176,
          0.9539551357733176,
          0.9551357733175915,
          0.9551357733175915,
          0.9563164108618654,
          0.9563164108618654,
          0.9574970484061394,
          0.9574970484061394,
          0.9574970484061394,
          0.9574970484061394,
          0.9586776859504132,
          0.9586776859504132,
          0.9598583234946871,
          0.9598583234946871,
          0.9598583234946871,
          0.961038961038961,
          0.961038961038961,
          0.9634002361275088,
          0.9634002361275088,
          0.9645808736717828,
          0.9704840613931524,
          0.9704840613931524,
          0.9716646989374262,
          0.9716646989374262,
          0.9728453364817001,
          0.9728453364817001,
          0.9752066115702479,
          0.9763872491145218,
          0.9763872491145218,
          0.9787485242030697,
          0.9787485242030697,
          0.9811097992916175,
          0.9811097992916175,
          0.9822904368358913,
          0.9834710743801653,
          0.9834710743801653,
          0.9834710743801653,
          0.9846517119244392,
          0.9846517119244392,
          0.9846517119244392,
          0.9846517119244392,
          0.9846517119244392,
          0.9858323494687131,
          0.9858323494687131,
          0.9858323494687131,
          0.987012987012987,
          0.987012987012987,
          0.987012987012987,
          0.987012987012987,
          0.9881936245572609,
          0.9881936245572609,
          0.9881936245572609,
          0.9881936245572609,
          0.9881936245572609,
          0.9881936245572609,
          0.9893742621015348,
          0.9893742621015348,
          0.9893742621015348,
          0.9893742621015348,
          0.9893742621015348,
          0.9893742621015348,
          0.9893742621015348,
          0.9893742621015348,
          0.9893742621015348,
          0.9905548996458088,
          0.9905548996458088,
          0.9905548996458088,
          0.9917355371900827,
          0.9917355371900827,
          0.9929161747343566,
          0.9929161747343566,
          0.9929161747343566,
          0.9929161747343566,
          0.9929161747343566,
          0.9929161747343566,
          0.9929161747343566,
          0.9940968122786304,
          0.9940968122786304,
          0.9952774498229043,
          0.9952774498229043,
          0.9964580873671782,
          0.9964580873671782,
          0.9964580873671782,
          0.9964580873671782,
          0.9964580873671782,
          0.9964580873671782,
          0.9964580873671782,
          0.9964580873671782,
          0.9964580873671782,
          0.9964580873671782,
          0.9964580873671782,
          0.9964580873671782,
          0.9964580873671782,
          0.9964580873671782,
          0.9964580873671782,
          0.9964580873671782,
          0.9964580873671782,
          0.9964580873671782,
          0.9964580873671782,
          0.9964580873671782,
          0.9964580873671782,
          0.9964580873671782,
          0.9964580873671782,
          0.9964580873671782,
          0.9976387249114522,
          0.9976387249114522,
          0.9976387249114522,
          0.9976387249114522,
          0.9976387249114522,
          0.9976387249114522,
          0.9976387249114522,
          0.9976387249114522,
          0.9976387249114522,
          0.9976387249114522,
          0.9976387249114522,
          0.9976387249114522,
          0.9976387249114522,
          0.9976387249114522,
          0.9976387249114522,
          0.9976387249114522,
          0.9976387249114522,
          0.9976387249114522,
          0.9976387249114522,
          0.9976387249114522,
          0.9976387249114522,
          0.9976387249114522,
          0.9976387249114522,
          0.9988193624557261,
          0.9988193624557261,
          0.9988193624557261,
          0.9988193624557261,
          0.9988193624557261,
          0.9988193624557261,
          0.9988193624557261,
          0.9988193624557261,
          1,
          1,
          1,
          1,
          1,
          1,
          1,
          1,
          1,
          1,
          1,
          1,
          1,
          1,
          1,
          1,
          1,
          1,
          1,
          1,
          1,
          1,
          1,
          1,
          1,
          1,
          1,
          1,
          1,
          1,
          1,
          1,
          1
         ],
         "z": [
          1,
          1,
          1,
          1,
          1,
          1,
          1,
          0.9666666666666667,
          0.9696969696969697,
          0.9743589743589743,
          0.975609756097561,
          0.9615384615384616,
          0.9622641509433962,
          0.9454545454545454,
          0.9473684210526315,
          0.9322033898305084,
          0.9322033898305084,
          0.9354838709677419,
          0.9382716049382716,
          0.927710843373494,
          0.927710843373494,
          0.9,
          0.9,
          0.9042553191489362,
          0.8942307692307693,
          0.8962264150943396,
          0.9026548672566371,
          0.896551724137931,
          0.8983050847457628,
          0.8842975206611571,
          0.8805970149253731,
          0.8840579710144928,
          0.8865248226950354,
          0.8552631578947368,
          0.8552631578947368,
          0.8451612903225807,
          0.8451612903225807,
          0.8490566037735849,
          0.8404907975460123,
          0.8439306358381503,
          0.8453038674033149,
          0.8469945355191257,
          0.8449197860962567,
          0.8457446808510638,
          0.8481675392670157,
          0.8537735849056604,
          0.8558139534883721,
          0.8545454545454545,
          0.8513513513513513,
          0.859504132231405,
          0.860655737704918,
          0.8698884758364313,
          0.8703703703703703,
          0.8731884057971014,
          0.8736462093862816,
          0.8754448398576512,
          0.8780487804878049,
          0.8791946308724832,
          0.8795986622073578,
          0.8794788273615635,
          0.8825396825396825,
          0.8808777429467085,
          0.8808777429467085,
          0.8730650154798761,
          0.8727272727272727,
          0.8734939759036144,
          0.8686567164179104,
          0.8686567164179104,
          0.863905325443787,
          0.863905325443787,
          0.8647058823529412,
          0.8654970760233918,
          0.8620689655172413,
          0.8620689655172413,
          0.8628571428571429,
          0.8583569405099151,
          0.856338028169014,
          0.856338028169014,
          0.8567415730337079,
          0.8551532033426184,
          0.8551532033426184,
          0.8555555555555555,
          0.8435897435897436,
          0.845771144278607,
          0.8465346534653465,
          0.8439024390243902,
          0.8446601941747572,
          0.84688995215311,
          0.8452380952380952,
          0.8456057007125891,
          0.8366890380313199,
          0.8370535714285714,
          0.8377777777777777,
          0.834061135371179,
          0.8336933045356372,
          0.8336933045356372,
          0.8344086021505376,
          0.8329764453961456,
          0.8340425531914893,
          0.8326271186440678,
          0.8268041237113402,
          0.8211382113821138,
          0.821501014198783,
          0.821285140562249,
          0.8223552894211577,
          0.8241106719367589,
          0.8228346456692913,
          0.8228346456692913,
          0.821917808219178,
          0.821917808219178,
          0.822265625,
          0.8147448015122873,
          0.8135593220338984,
          0.8135593220338984,
          0.8139097744360902,
          0.813780260707635,
          0.813780260707635,
          0.8148148148148148,
          0.8168498168498168,
          0.8175182481751825,
          0.818018018018018,
          0.8183453237410072,
          0.8116197183098591,
          0.8116197183098591,
          0.8105263157894737,
          0.8094405594405595,
          0.8094405594405595,
          0.8101045296167247,
          0.8086206896551724,
          0.8086206896551724,
          0.8065068493150684,
          0.8065068493150684,
          0.8006644518272426,
          0.8006644518272426,
          0.7996688741721855,
          0.800658978583196,
          0.8009868421052632,
          0.8070175438596491,
          0.8076311605723371,
          0.8091482649842271,
          0.8081761006289309,
          0.8112633181126332,
          0.8115501519756839,
          0.8099547511312217,
          0.8099547511312217,
          0.8064992614475628,
          0.8064992614475628,
          0.8076358296622613,
          0.8084795321637427,
          0.8093158660844251,
          0.8084179970972424,
          0.8080808080808081,
          0.8080808080808081,
          0.80835734870317,
          0.8045649072753209,
          0.8036984352773826,
          0.8036984352773826,
          0.8036723163841808,
          0.8039492242595204,
          0.8047752808988764,
          0.8041958041958042,
          0.8016643550624133,
          0.803030303030303,
          0.8024691358024691,
          0.7888446215139442,
          0.7896825396825397,
          0.7881578947368421,
          0.7889908256880734,
          0.7885117493472585,
          0.7867360208062418,
          0.7867360208062418,
          0.7849740932642487,
          0.7852522639068564,
          0.7847938144329897,
          0.7847938144329897,
          0.7850707850707851,
          0.7792848335388409,
          0.7792848335388409,
          0.7757352941176471,
          0.7757352941176471,
          0.774818401937046,
          0.774818401937046,
          0.7750906892382105,
          0.7744270205066345,
          0.7743097238895558,
          0.7743097238895558,
          0.7744630071599046,
          0.7744630071599046,
          0.7747318235995232,
          0.7707602339181286,
          0.7701283547257877,
          0.7661290322580645,
          0.7661290322580645,
          0.764638346727899,
          0.764638346727899,
          0.7640320733104238,
          0.7640320733104238,
          0.7625570776255708,
          0.7628278221208666,
          0.7633674630261661,
          0.7636363636363637,
          0.7592800899887514,
          0.7592800899887514,
          0.7592800899887514,
          0.7592800899887514,
          0.7544642857142857,
          0.7544642857142857,
          0.7544642857142857,
          0.7547380156075808,
          0.7516629711751663,
          0.7516629711751663,
          0.7516629711751663,
          0.7502750275027503,
          0.7502750275027503,
          0.7502750275027503,
          0.7497255762897914,
          0.7497255762897914,
          0.7491785323110625,
          0.7491785323110625,
          0.7489082969432315,
          0.7489082969432315,
          0.7467391304347826,
          0.7467391304347826,
          0.7467532467532467,
          0.7456896551724138,
          0.7456896551724138,
          0.7459634015069968,
          0.7446351931330472,
          0.744908896034298,
          0.7425531914893617,
          0.7360672975814931,
          0.7360672975814931,
          0.7360672975814931,
          0.7360672975814931,
          0.7360672975814931,
          0.7355718782791185,
          0.7325702393340271,
          0.7325702393340271,
          0.7264344262295082,
          0.7269938650306749,
          0.7268093781855249,
          0.7268093781855249,
          0.7266260162601627,
          0.7266260162601627,
          0.7264437689969605,
          0.7264437689969605,
          0.7269969666329625,
          0.7278225806451613,
          0.7276381909547739,
          0.7276381909547739,
          0.7253731343283583,
          0.7242063492063492,
          0.7242063492063492,
          0.7230464886251237,
          0.7230464886251237,
          0.718351324828263,
          0.718351324828263,
          0.7179236043095005,
          0.7179236043095005,
          0.718475073313783,
          0.7166504381694255,
          0.7166504381694255,
          0.7086538461538462,
          0.7086538461538462,
          0.7086538461538462,
          0.7086538461538462,
          0.7062200956937799,
          0.7062200956937799,
          0.7051526717557252,
          0.7051526717557252,
          0.7040913415794482,
          0.7040913415794482,
          0.6977611940298507,
          0.6977611940298507,
          0.6973929236499069,
          0.6957328385899815,
          0.6957328385899815,
          0.6934441366574331,
          0.6933701657458563,
          0.6933701657458563,
          0.6932966023875115,
          0.6932966023875115,
          0.6925892040256175,
          0.6925892040256175,
          0.6922374429223744,
          0.6922374429223744,
          0.6833184656556646,
          0.6781609195402298,
          0.6781609195402298,
          0.6781609195402298,
          0.6781609195402298,
          0.6790123456790124,
          0.6763157894736842,
          0.6763157894736842,
          0.6748251748251748,
          0.6751091703056769,
          0.6744995648389904,
          0.6744995648389904,
          0.6747826086956522,
          0.6706792777300086,
          0.6706792777300086,
          0.6706689536878216,
          0.6706689536878216,
          0.6703767123287672,
          0.6703767123287672,
          0.67008547008547,
          0.67008547008547,
          0.6697952218430034,
          0.6683673469387755,
          0.6683673469387755,
          0.668081494057725,
          0.668081494057725,
          0.6677966101694915,
          0.6677966101694915,
          0.6658227848101266,
          0.6658227848101266,
          0.6658227848101266,
          0.6663858466722831,
          0.6655462184873949,
          0.6661073825503355,
          0.6663879598662207,
          0.6663879598662207,
          0.666110183639399,
          0.666110183639399,
          0.6672199170124481,
          0.6672199170124481,
          0.6636438582028029,
          0.6636438582028029,
          0.6614754098360656,
          0.6614754098360656,
          0.6614754098360656,
          0.6612111292962357,
          0.6612111292962357,
          0.6604081632653062,
          0.6604081632653062,
          0.6596091205211726,
          0.6596091205211726,
          0.6556184316895716,
          0.6556184316895716,
          0.6556184316895716,
          0.6556184316895716,
          0.6548387096774193,
          0.6548387096774193,
          0.6498800959232613,
          0.6498800959232613,
          0.6498800959232613,
          0.648605577689243,
          0.648605577689243,
          0.6471054718477399,
          0.6471054718477399,
          0.6473851030110935,
          0.6452119309262166,
          0.6452119309262166,
          0.6434714620797498,
          0.6434714620797498,
          0.639751552795031,
          0.639751552795031,
          0.6383307573415765,
          0.6376252891287587,
          0.6376252891287587,
          0.6376923076923077,
          0.6376923076923077,
          0.6358071920428462,
          0.6358071920428462,
          0.636085626911315,
          0.6329787234042553,
          0.6329787234042553,
          0.6329787234042553,
          0.6256564141035259,
          0.6256564141035259,
          0.6256564141035259,
          0.6256564141035259,
          0.6256564141035259,
          0.6217423678332092,
          0.6217423678332092,
          0.6217423678332092,
          0.6138032305433186,
          0.6138032305433186,
          0.6138032305433186,
          0.6138032305433186,
          0.6082848837209303,
          0.6082848837209303,
          0.6082848837209303,
          0.6082848837209303,
          0.6082848837209303,
          0.6082848837209303,
          0.5972915181753385,
          0.5972915181753385,
          0.5972915181753385,
          0.5972915181753385,
          0.5972915181753385,
          0.5972915181753385,
          0.5972915181753385,
          0.5972915181753385,
          0.5972915181753385,
          0.5950354609929078,
          0.5950354609929078,
          0.5950354609929078,
          0.5949008498583569,
          0.5949008498583569,
          0.5893482831114225,
          0.5893482831114225,
          0.5893482831114225,
          0.5893482831114225,
          0.5893482831114225,
          0.5893482831114225,
          0.5893482831114225,
          0.5883997204751922,
          0.5883997204751922,
          0.586230876216968,
          0.586230876216968,
          0.5527177472167649,
          0.5527177472167649,
          0.5527177472167649,
          0.5527177472167649,
          0.5527177472167649,
          0.5527177472167649,
          0.5527177472167649,
          0.5527177472167649,
          0.5527177472167649,
          0.5527177472167649,
          0.5527177472167649,
          0.5527177472167649,
          0.5527177472167649,
          0.5527177472167649,
          0.5527177472167649,
          0.5527177472167649,
          0.5527177472167649,
          0.5527177472167649,
          0.5527177472167649,
          0.5527177472167649,
          0.5527177472167649,
          0.5527177472167649,
          0.5527177472167649,
          0.5527177472167649,
          0.5287859824780976,
          0.5287859824780976,
          0.5287859824780976,
          0.5287859824780976,
          0.5287859824780976,
          0.5287859824780976,
          0.5287859824780976,
          0.5287859824780976,
          0.5287859824780976,
          0.5287859824780976,
          0.5287859824780976,
          0.5287859824780976,
          0.5287859824780976,
          0.5287859824780976,
          0.5287859824780976,
          0.5287859824780976,
          0.5287859824780976,
          0.5287859824780976,
          0.5287859824780976,
          0.5287859824780976,
          0.5287859824780976,
          0.5287859824780976,
          0.5287859824780976,
          0.5212569316081331,
          0.5212569316081331,
          0.5212569316081331,
          0.5212569316081331,
          0.5212569316081331,
          0.5212569316081331,
          0.5212569316081331,
          0.5212569316081331,
          0.4865020103388857,
          0.4865020103388857,
          0.4865020103388857,
          0.4865020103388857,
          0.4865020103388857,
          0.4865020103388857,
          0.4865020103388857,
          0.4865020103388857,
          0.4865020103388857,
          0.4865020103388857,
          0.4865020103388857,
          0.4865020103388857,
          0.4865020103388857,
          0.4865020103388857,
          0.4865020103388857,
          0.4865020103388857,
          0.4865020103388857,
          0.4865020103388857,
          0.4865020103388857,
          0.4865020103388857,
          0.4865020103388857,
          0.4865020103388857,
          0.4865020103388857,
          0.4865020103388857,
          0.4865020103388857,
          0.4865020103388857,
          0.4865020103388857,
          0.4865020103388857,
          0.4865020103388857,
          0.4865020103388857,
          0.4865020103388857,
          0.4865020103388857,
          0.4865020103388857
         ]
        },
        {
         "line": {
          "color": "orange"
         },
         "marker": {
          "size": [
           2,
           2,
           2,
           2,
           2,
           2,
           2,
           2,
           2,
           2,
           2,
           2,
           2,
           2,
           2,
           2,
           2,
           2,
           2,
           2,
           2,
           2,
           2,
           2,
           2,
           2,
           2,
           2,
           2,
           2,
           2,
           2,
           2,
           2,
           2,
           2,
           2,
           2,
           2,
           2,
           2,
           2,
           2,
           2,
           2,
           2,
           2,
           2,
           2,
           2,
           2,
           2,
           2,
           2,
           2,
           2,
           2,
           2,
           2,
           2,
           2,
           2,
           2,
           10,
           2,
           2,
           2,
           2,
           2,
           2,
           2,
           2,
           2,
           2,
           2,
           2,
           2,
           2,
           2,
           2,
           2,
           2,
           2,
           2,
           2,
           2,
           2,
           2,
           2,
           2,
           2,
           2,
           2,
           2,
           2,
           2,
           2,
           2,
           2,
           2,
           2,
           2,
           2,
           2,
           2,
           2,
           2,
           2,
           2,
           2,
           2,
           2,
           2,
           2,
           2,
           2,
           2,
           2,
           2,
           2,
           2,
           2,
           2
          ]
         },
         "mode": "lines+markers",
         "name": "Class 2 ROC (area = 0.83)",
         "type": "scatter3d",
         "x": [
          0,
          0,
          0.00546448087431694,
          0.00546448087431694,
          0.01092896174863388,
          0.01639344262295082,
          0.02185792349726776,
          0.02185792349726776,
          0.02185792349726776,
          0.0273224043715847,
          0.03278688524590164,
          0.03278688524590164,
          0.03825136612021858,
          0.03825136612021858,
          0.04371584699453552,
          0.04371584699453552,
          0.04918032786885246,
          0.04918032786885246,
          0.06557377049180328,
          0.07103825136612021,
          0.07103825136612021,
          0.07103825136612021,
          0.07650273224043716,
          0.07650273224043716,
          0.07650273224043716,
          0.07650273224043716,
          0.08196721311475409,
          0.08743169398907104,
          0.08743169398907104,
          0.08743169398907104,
          0.09836065573770492,
          0.10382513661202186,
          0.10382513661202186,
          0.10382513661202186,
          0.11475409836065574,
          0.11475409836065574,
          0.12021857923497267,
          0.12021857923497267,
          0.12021857923497267,
          0.12021857923497267,
          0.1366120218579235,
          0.14207650273224043,
          0.14207650273224043,
          0.14754098360655737,
          0.14754098360655737,
          0.15300546448087432,
          0.16393442622950818,
          0.16939890710382513,
          0.17486338797814208,
          0.18579234972677597,
          0.18579234972677597,
          0.1912568306010929,
          0.19672131147540983,
          0.20765027322404372,
          0.20765027322404372,
          0.20765027322404372,
          0.20765027322404372,
          0.21311475409836064,
          0.21311475409836064,
          0.2185792349726776,
          0.22404371584699453,
          0.22950819672131148,
          0.23497267759562843,
          0.23497267759562843,
          0.2459016393442623,
          0.26229508196721313,
          0.26229508196721313,
          0.2677595628415301,
          0.28415300546448086,
          0.28415300546448086,
          0.2896174863387978,
          0.2896174863387978,
          0.29508196721311475,
          0.30601092896174864,
          0.30601092896174864,
          0.3224043715846995,
          0.33879781420765026,
          0.3442622950819672,
          0.3442622950819672,
          0.3551912568306011,
          0.3551912568306011,
          0.366120218579235,
          0.366120218579235,
          0.3770491803278688,
          0.3879781420765027,
          0.3879781420765027,
          0.3989071038251366,
          0.3989071038251366,
          0.40437158469945356,
          0.41530054644808745,
          0.4207650273224044,
          0.4207650273224044,
          0.4426229508196721,
          0.4426229508196721,
          0.46994535519125685,
          0.48633879781420764,
          0.48633879781420764,
          0.4918032786885246,
          0.4918032786885246,
          0.5081967213114754,
          0.5191256830601093,
          0.546448087431694,
          0.546448087431694,
          0.5683060109289617,
          0.5683060109289617,
          0.5901639344262295,
          0.5901639344262295,
          0.6065573770491803,
          0.6229508196721312,
          0.6338797814207651,
          0.644808743169399,
          0.6557377049180327,
          0.7595628415300546,
          0.7704918032786885,
          0.8579234972677595,
          0.8743169398907104,
          0.8961748633879781,
          0.907103825136612,
          0.9234972677595629,
          0.9398907103825137,
          0.9726775956284153,
          0.994535519125683,
          1
         ],
         "y": [
          0,
          0.0078125,
          0.0078125,
          0.046875,
          0.046875,
          0.078125,
          0.078125,
          0.1015625,
          0.140625,
          0.1484375,
          0.1484375,
          0.15625,
          0.1640625,
          0.171875,
          0.1796875,
          0.1875,
          0.203125,
          0.21875,
          0.21875,
          0.2265625,
          0.234375,
          0.265625,
          0.265625,
          0.28125,
          0.296875,
          0.3046875,
          0.3125,
          0.3125,
          0.3515625,
          0.3671875,
          0.3828125,
          0.3828125,
          0.40625,
          0.4296875,
          0.453125,
          0.4609375,
          0.46875,
          0.4921875,
          0.515625,
          0.53125,
          0.53125,
          0.53125,
          0.5390625,
          0.5390625,
          0.546875,
          0.578125,
          0.59375,
          0.59375,
          0.6171875,
          0.6328125,
          0.640625,
          0.640625,
          0.6484375,
          0.6484375,
          0.6640625,
          0.6953125,
          0.703125,
          0.703125,
          0.7109375,
          0.734375,
          0.7421875,
          0.7421875,
          0.75,
          0.7578125,
          0.7734375,
          0.7734375,
          0.7890625,
          0.7890625,
          0.7890625,
          0.796875,
          0.796875,
          0.8046875,
          0.8046875,
          0.8046875,
          0.8359375,
          0.8359375,
          0.8359375,
          0.8359375,
          0.8515625,
          0.8515625,
          0.859375,
          0.859375,
          0.8671875,
          0.8671875,
          0.8671875,
          0.8828125,
          0.8828125,
          0.8984375,
          0.90625,
          0.90625,
          0.90625,
          0.921875,
          0.921875,
          0.9296875,
          0.9296875,
          0.9296875,
          0.953125,
          0.953125,
          0.9765625,
          0.9765625,
          0.9765625,
          0.9765625,
          0.984375,
          0.984375,
          0.9921875,
          0.9921875,
          1,
          1,
          1,
          1,
          1,
          1,
          1,
          1,
          1,
          1,
          1,
          1,
          1,
          1,
          1,
          1,
          1
         ],
         "z": [
          1,
          0.5,
          0.5,
          0.75,
          0.75,
          0.7142857142857143,
          0.7142857142857143,
          0.7647058823529411,
          0.8181818181818182,
          0.76,
          0.76,
          0.7692307692307693,
          0.75,
          0.7586206896551724,
          0.7419354838709677,
          0.75,
          0.7428571428571429,
          0.7,
          0.7,
          0.6904761904761905,
          0.6976744186046512,
          0.7083333333333334,
          0.7083333333333334,
          0.72,
          0.7307692307692307,
          0.7358490566037735,
          0.7142857142857143,
          0.7142857142857143,
          0.7377049180327869,
          0.746031746031746,
          0.7205882352941176,
          0.7205882352941176,
          0.7323943661971831,
          0.7432432432432432,
          0.7341772151898734,
          0.7375,
          0.7317073170731707,
          0.7411764705882353,
          0.75,
          0.723404255319149,
          0.723404255319149,
          0.723404255319149,
          0.71875,
          0.71875,
          0.7216494845360825,
          0.7254901960784313,
          0.7102803738317757,
          0.7102803738317757,
          0.7117117117117117,
          0.7043478260869566,
          0.7008547008547008,
          0.7008547008547008,
          0.6859504132231405,
          0.6859504132231405,
          0.6910569105691057,
          0.7007874015748031,
          0.6976744186046512,
          0.6976744186046512,
          0.7,
          0.7014925373134329,
          0.6934306569343066,
          0.6934306569343066,
          0.6906474820143885,
          0.6928571428571428,
          0.673469387755102,
          0.673469387755102,
          0.6601307189542484,
          0.6601307189542484,
          0.6601307189542484,
          0.6580645161290323,
          0.6580645161290323,
          0.6477987421383647,
          0.6477987421383647,
          0.6477987421383647,
          0.6294117647058823,
          0.6294117647058823,
          0.6294117647058823,
          0.6294117647058823,
          0.6264367816091954,
          0.6264367816091954,
          0.6214689265536724,
          0.6214689265536724,
          0.6098901098901099,
          0.6098901098901099,
          0.6098901098901099,
          0.6075268817204301,
          0.6075268817204301,
          0.6117021276595744,
          0.6010362694300518,
          0.6010362694300518,
          0.6010362694300518,
          0.592964824120603,
          0.592964824120603,
          0.5721153846153846,
          0.5721153846153846,
          0.5721153846153846,
          0.5754716981132075,
          0.5754716981132075,
          0.5555555555555556,
          0.5555555555555556,
          0.5555555555555556,
          0.5555555555555556,
          0.5478260869565217,
          0.5478260869565217,
          0.5404255319148936,
          0.5404255319148936,
          0.4115755627009646,
          0.4115755627009646,
          0.4115755627009646,
          0.4115755627009646,
          0.4115755627009646,
          0.4115755627009646,
          0.4115755627009646,
          0.4115755627009646,
          0.4115755627009646,
          0.4115755627009646,
          0.4115755627009646,
          0.4115755627009646,
          0.4115755627009646,
          0.4115755627009646,
          0.4115755627009646,
          0.4115755627009646,
          0.4115755627009646
         ]
        },
        {
         "line": {
          "color": "red"
         },
         "mode": "lines",
         "showlegend": false,
         "type": "scatter3d",
         "x": [
          0.23937360178970918,
          0.23497267759562843
         ],
         "y": [
          0.7981109799291618,
          0.7578125
         ],
         "z": [
          0.7544642857142857,
          0.6928571428571428
         ]
        },
        {
         "mode": "text",
         "showlegend": false,
         "text": [
          "ΔFPR=0.00<br>ΔTPR=0.04<br>ΔPrecision=0.06"
         ],
         "textposition": "bottom center",
         "type": "scatter3d",
         "x": [
          0.2371731396926688
         ],
         "y": [
          0.7779617399645808
         ],
         "z": [
          0.7236607142857143
         ]
        }
       ],
       "layout": {
        "margin": {
         "b": 10,
         "l": 10,
         "r": 20,
         "t": 10
        },
        "scene": {
         "xaxis": {
          "title": {
           "text": "False Positive Rate"
          }
         },
         "yaxis": {
          "title": {
           "text": "True Positive Rate"
          }
         },
         "zaxis": {
          "title": {
           "text": "Precision"
          }
         }
        },
        "template": {
         "data": {
          "bar": [
           {
            "error_x": {
             "color": "#2a3f5f"
            },
            "error_y": {
             "color": "#2a3f5f"
            },
            "marker": {
             "line": {
              "color": "#E5ECF6",
              "width": 0.5
             },
             "pattern": {
              "fillmode": "overlay",
              "size": 10,
              "solidity": 0.2
             }
            },
            "type": "bar"
           }
          ],
          "barpolar": [
           {
            "marker": {
             "line": {
              "color": "#E5ECF6",
              "width": 0.5
             },
             "pattern": {
              "fillmode": "overlay",
              "size": 10,
              "solidity": 0.2
             }
            },
            "type": "barpolar"
           }
          ],
          "carpet": [
           {
            "aaxis": {
             "endlinecolor": "#2a3f5f",
             "gridcolor": "white",
             "linecolor": "white",
             "minorgridcolor": "white",
             "startlinecolor": "#2a3f5f"
            },
            "baxis": {
             "endlinecolor": "#2a3f5f",
             "gridcolor": "white",
             "linecolor": "white",
             "minorgridcolor": "white",
             "startlinecolor": "#2a3f5f"
            },
            "type": "carpet"
           }
          ],
          "choropleth": [
           {
            "colorbar": {
             "outlinewidth": 0,
             "ticks": ""
            },
            "type": "choropleth"
           }
          ],
          "contour": [
           {
            "colorbar": {
             "outlinewidth": 0,
             "ticks": ""
            },
            "colorscale": [
             [
              0,
              "#0d0887"
             ],
             [
              0.1111111111111111,
              "#46039f"
             ],
             [
              0.2222222222222222,
              "#7201a8"
             ],
             [
              0.3333333333333333,
              "#9c179e"
             ],
             [
              0.4444444444444444,
              "#bd3786"
             ],
             [
              0.5555555555555556,
              "#d8576b"
             ],
             [
              0.6666666666666666,
              "#ed7953"
             ],
             [
              0.7777777777777778,
              "#fb9f3a"
             ],
             [
              0.8888888888888888,
              "#fdca26"
             ],
             [
              1,
              "#f0f921"
             ]
            ],
            "type": "contour"
           }
          ],
          "contourcarpet": [
           {
            "colorbar": {
             "outlinewidth": 0,
             "ticks": ""
            },
            "type": "contourcarpet"
           }
          ],
          "heatmap": [
           {
            "colorbar": {
             "outlinewidth": 0,
             "ticks": ""
            },
            "colorscale": [
             [
              0,
              "#0d0887"
             ],
             [
              0.1111111111111111,
              "#46039f"
             ],
             [
              0.2222222222222222,
              "#7201a8"
             ],
             [
              0.3333333333333333,
              "#9c179e"
             ],
             [
              0.4444444444444444,
              "#bd3786"
             ],
             [
              0.5555555555555556,
              "#d8576b"
             ],
             [
              0.6666666666666666,
              "#ed7953"
             ],
             [
              0.7777777777777778,
              "#fb9f3a"
             ],
             [
              0.8888888888888888,
              "#fdca26"
             ],
             [
              1,
              "#f0f921"
             ]
            ],
            "type": "heatmap"
           }
          ],
          "heatmapgl": [
           {
            "colorbar": {
             "outlinewidth": 0,
             "ticks": ""
            },
            "colorscale": [
             [
              0,
              "#0d0887"
             ],
             [
              0.1111111111111111,
              "#46039f"
             ],
             [
              0.2222222222222222,
              "#7201a8"
             ],
             [
              0.3333333333333333,
              "#9c179e"
             ],
             [
              0.4444444444444444,
              "#bd3786"
             ],
             [
              0.5555555555555556,
              "#d8576b"
             ],
             [
              0.6666666666666666,
              "#ed7953"
             ],
             [
              0.7777777777777778,
              "#fb9f3a"
             ],
             [
              0.8888888888888888,
              "#fdca26"
             ],
             [
              1,
              "#f0f921"
             ]
            ],
            "type": "heatmapgl"
           }
          ],
          "histogram": [
           {
            "marker": {
             "pattern": {
              "fillmode": "overlay",
              "size": 10,
              "solidity": 0.2
             }
            },
            "type": "histogram"
           }
          ],
          "histogram2d": [
           {
            "colorbar": {
             "outlinewidth": 0,
             "ticks": ""
            },
            "colorscale": [
             [
              0,
              "#0d0887"
             ],
             [
              0.1111111111111111,
              "#46039f"
             ],
             [
              0.2222222222222222,
              "#7201a8"
             ],
             [
              0.3333333333333333,
              "#9c179e"
             ],
             [
              0.4444444444444444,
              "#bd3786"
             ],
             [
              0.5555555555555556,
              "#d8576b"
             ],
             [
              0.6666666666666666,
              "#ed7953"
             ],
             [
              0.7777777777777778,
              "#fb9f3a"
             ],
             [
              0.8888888888888888,
              "#fdca26"
             ],
             [
              1,
              "#f0f921"
             ]
            ],
            "type": "histogram2d"
           }
          ],
          "histogram2dcontour": [
           {
            "colorbar": {
             "outlinewidth": 0,
             "ticks": ""
            },
            "colorscale": [
             [
              0,
              "#0d0887"
             ],
             [
              0.1111111111111111,
              "#46039f"
             ],
             [
              0.2222222222222222,
              "#7201a8"
             ],
             [
              0.3333333333333333,
              "#9c179e"
             ],
             [
              0.4444444444444444,
              "#bd3786"
             ],
             [
              0.5555555555555556,
              "#d8576b"
             ],
             [
              0.6666666666666666,
              "#ed7953"
             ],
             [
              0.7777777777777778,
              "#fb9f3a"
             ],
             [
              0.8888888888888888,
              "#fdca26"
             ],
             [
              1,
              "#f0f921"
             ]
            ],
            "type": "histogram2dcontour"
           }
          ],
          "mesh3d": [
           {
            "colorbar": {
             "outlinewidth": 0,
             "ticks": ""
            },
            "type": "mesh3d"
           }
          ],
          "parcoords": [
           {
            "line": {
             "colorbar": {
              "outlinewidth": 0,
              "ticks": ""
             }
            },
            "type": "parcoords"
           }
          ],
          "pie": [
           {
            "automargin": true,
            "type": "pie"
           }
          ],
          "scatter": [
           {
            "marker": {
             "colorbar": {
              "outlinewidth": 0,
              "ticks": ""
             }
            },
            "type": "scatter"
           }
          ],
          "scatter3d": [
           {
            "line": {
             "colorbar": {
              "outlinewidth": 0,
              "ticks": ""
             }
            },
            "marker": {
             "colorbar": {
              "outlinewidth": 0,
              "ticks": ""
             }
            },
            "type": "scatter3d"
           }
          ],
          "scattercarpet": [
           {
            "marker": {
             "colorbar": {
              "outlinewidth": 0,
              "ticks": ""
             }
            },
            "type": "scattercarpet"
           }
          ],
          "scattergeo": [
           {
            "marker": {
             "colorbar": {
              "outlinewidth": 0,
              "ticks": ""
             }
            },
            "type": "scattergeo"
           }
          ],
          "scattergl": [
           {
            "marker": {
             "colorbar": {
              "outlinewidth": 0,
              "ticks": ""
             }
            },
            "type": "scattergl"
           }
          ],
          "scattermapbox": [
           {
            "marker": {
             "colorbar": {
              "outlinewidth": 0,
              "ticks": ""
             }
            },
            "type": "scattermapbox"
           }
          ],
          "scatterpolar": [
           {
            "marker": {
             "colorbar": {
              "outlinewidth": 0,
              "ticks": ""
             }
            },
            "type": "scatterpolar"
           }
          ],
          "scatterpolargl": [
           {
            "marker": {
             "colorbar": {
              "outlinewidth": 0,
              "ticks": ""
             }
            },
            "type": "scatterpolargl"
           }
          ],
          "scatterternary": [
           {
            "marker": {
             "colorbar": {
              "outlinewidth": 0,
              "ticks": ""
             }
            },
            "type": "scatterternary"
           }
          ],
          "surface": [
           {
            "colorbar": {
             "outlinewidth": 0,
             "ticks": ""
            },
            "colorscale": [
             [
              0,
              "#0d0887"
             ],
             [
              0.1111111111111111,
              "#46039f"
             ],
             [
              0.2222222222222222,
              "#7201a8"
             ],
             [
              0.3333333333333333,
              "#9c179e"
             ],
             [
              0.4444444444444444,
              "#bd3786"
             ],
             [
              0.5555555555555556,
              "#d8576b"
             ],
             [
              0.6666666666666666,
              "#ed7953"
             ],
             [
              0.7777777777777778,
              "#fb9f3a"
             ],
             [
              0.8888888888888888,
              "#fdca26"
             ],
             [
              1,
              "#f0f921"
             ]
            ],
            "type": "surface"
           }
          ],
          "table": [
           {
            "cells": {
             "fill": {
              "color": "#EBF0F8"
             },
             "line": {
              "color": "white"
             }
            },
            "header": {
             "fill": {
              "color": "#C8D4E3"
             },
             "line": {
              "color": "white"
             }
            },
            "type": "table"
           }
          ]
         },
         "layout": {
          "annotationdefaults": {
           "arrowcolor": "#2a3f5f",
           "arrowhead": 0,
           "arrowwidth": 1
          },
          "autotypenumbers": "strict",
          "coloraxis": {
           "colorbar": {
            "outlinewidth": 0,
            "ticks": ""
           }
          },
          "colorscale": {
           "diverging": [
            [
             0,
             "#8e0152"
            ],
            [
             0.1,
             "#c51b7d"
            ],
            [
             0.2,
             "#de77ae"
            ],
            [
             0.3,
             "#f1b6da"
            ],
            [
             0.4,
             "#fde0ef"
            ],
            [
             0.5,
             "#f7f7f7"
            ],
            [
             0.6,
             "#e6f5d0"
            ],
            [
             0.7,
             "#b8e186"
            ],
            [
             0.8,
             "#7fbc41"
            ],
            [
             0.9,
             "#4d9221"
            ],
            [
             1,
             "#276419"
            ]
           ],
           "sequential": [
            [
             0,
             "#0d0887"
            ],
            [
             0.1111111111111111,
             "#46039f"
            ],
            [
             0.2222222222222222,
             "#7201a8"
            ],
            [
             0.3333333333333333,
             "#9c179e"
            ],
            [
             0.4444444444444444,
             "#bd3786"
            ],
            [
             0.5555555555555556,
             "#d8576b"
            ],
            [
             0.6666666666666666,
             "#ed7953"
            ],
            [
             0.7777777777777778,
             "#fb9f3a"
            ],
            [
             0.8888888888888888,
             "#fdca26"
            ],
            [
             1,
             "#f0f921"
            ]
           ],
           "sequentialminus": [
            [
             0,
             "#0d0887"
            ],
            [
             0.1111111111111111,
             "#46039f"
            ],
            [
             0.2222222222222222,
             "#7201a8"
            ],
            [
             0.3333333333333333,
             "#9c179e"
            ],
            [
             0.4444444444444444,
             "#bd3786"
            ],
            [
             0.5555555555555556,
             "#d8576b"
            ],
            [
             0.6666666666666666,
             "#ed7953"
            ],
            [
             0.7777777777777778,
             "#fb9f3a"
            ],
            [
             0.8888888888888888,
             "#fdca26"
            ],
            [
             1,
             "#f0f921"
            ]
           ]
          },
          "colorway": [
           "#636efa",
           "#EF553B",
           "#00cc96",
           "#ab63fa",
           "#FFA15A",
           "#19d3f3",
           "#FF6692",
           "#B6E880",
           "#FF97FF",
           "#FECB52"
          ],
          "font": {
           "color": "#2a3f5f"
          },
          "geo": {
           "bgcolor": "white",
           "lakecolor": "white",
           "landcolor": "#E5ECF6",
           "showlakes": true,
           "showland": true,
           "subunitcolor": "white"
          },
          "hoverlabel": {
           "align": "left"
          },
          "hovermode": "closest",
          "mapbox": {
           "style": "light"
          },
          "paper_bgcolor": "white",
          "plot_bgcolor": "#E5ECF6",
          "polar": {
           "angularaxis": {
            "gridcolor": "white",
            "linecolor": "white",
            "ticks": ""
           },
           "bgcolor": "#E5ECF6",
           "radialaxis": {
            "gridcolor": "white",
            "linecolor": "white",
            "ticks": ""
           }
          },
          "scene": {
           "xaxis": {
            "backgroundcolor": "#E5ECF6",
            "gridcolor": "white",
            "gridwidth": 2,
            "linecolor": "white",
            "showbackground": true,
            "ticks": "",
            "zerolinecolor": "white"
           },
           "yaxis": {
            "backgroundcolor": "#E5ECF6",
            "gridcolor": "white",
            "gridwidth": 2,
            "linecolor": "white",
            "showbackground": true,
            "ticks": "",
            "zerolinecolor": "white"
           },
           "zaxis": {
            "backgroundcolor": "#E5ECF6",
            "gridcolor": "white",
            "gridwidth": 2,
            "linecolor": "white",
            "showbackground": true,
            "ticks": "",
            "zerolinecolor": "white"
           }
          },
          "shapedefaults": {
           "line": {
            "color": "#2a3f5f"
           }
          },
          "ternary": {
           "aaxis": {
            "gridcolor": "white",
            "linecolor": "white",
            "ticks": ""
           },
           "baxis": {
            "gridcolor": "white",
            "linecolor": "white",
            "ticks": ""
           },
           "bgcolor": "#E5ECF6",
           "caxis": {
            "gridcolor": "white",
            "linecolor": "white",
            "ticks": ""
           }
          },
          "title": {
           "x": 0.05
          },
          "xaxis": {
           "automargin": true,
           "gridcolor": "white",
           "linecolor": "white",
           "ticks": "",
           "title": {
            "standoff": 15
           },
           "zerolinecolor": "white",
           "zerolinewidth": 2
          },
          "yaxis": {
           "automargin": true,
           "gridcolor": "white",
           "linecolor": "white",
           "ticks": "",
           "title": {
            "standoff": 15
           },
           "zerolinecolor": "white",
           "zerolinewidth": 2
          }
         }
        }
       }
      }
     },
     "metadata": {},
     "output_type": "display_data"
    },
    {
     "data": {
      "image/png": "[encoded data removed]",
      "text/plain": [
       "<Figure size 576x432 with 1 Axes>"
      ]
     },
     "metadata": {
      "needs_background": "light"
     },
     "output_type": "display_data"
    },
    {
     "data": {
      "application/vnd.plotly.v1+json": {
       "config": {
        "plotlyServerURL": "https://plot.ly"
       },
       "data": [
        {
         "name": "Original",
         "type": "bar",
         "x": [
          "Accuracy",
          "F1 Score",
          "Precision",
          "Recall"
         ],
         "y": [
          0.7778860204578666,
          0.7883008356545961,
          0.7401918047079338,
          0.843098311817279
         ]
        },
        {
         "name": "Adjusted",
         "type": "bar",
         "x": [
          "Accuracy",
          "F1 Score",
          "Precision",
          "Recall"
         ],
         "y": [
          0.7759376522162689,
          0.7819905213270142,
          0.7479601087941976,
          0.8192651439920556
         ]
        }
       ],
       "layout": {
        "barmode": "group",
        "template": {
         "data": {
          "bar": [
           {
            "error_x": {
             "color": "#2a3f5f"
            },
            "error_y": {
             "color": "#2a3f5f"
            },
            "marker": {
             "line": {
              "color": "#E5ECF6",
              "width": 0.5
             },
             "pattern": {
              "fillmode": "overlay",
              "size": 10,
              "solidity": 0.2
             }
            },
            "type": "bar"
           }
          ],
          "barpolar": [
           {
            "marker": {
             "line": {
              "color": "#E5ECF6",
              "width": 0.5
             },
             "pattern": {
              "fillmode": "overlay",
              "size": 10,
              "solidity": 0.2
             }
            },
            "type": "barpolar"
           }
          ],
          "carpet": [
           {
            "aaxis": {
             "endlinecolor": "#2a3f5f",
             "gridcolor": "white",
             "linecolor": "white",
             "minorgridcolor": "white",
             "startlinecolor": "#2a3f5f"
            },
            "baxis": {
             "endlinecolor": "#2a3f5f",
             "gridcolor": "white",
             "linecolor": "white",
             "minorgridcolor": "white",
             "startlinecolor": "#2a3f5f"
            },
            "type": "carpet"
           }
          ],
          "choropleth": [
           {
            "colorbar": {
             "outlinewidth": 0,
             "ticks": ""
            },
            "type": "choropleth"
           }
          ],
          "contour": [
           {
            "colorbar": {
             "outlinewidth": 0,
             "ticks": ""
            },
            "colorscale": [
             [
              0,
              "#0d0887"
             ],
             [
              0.1111111111111111,
              "#46039f"
             ],
             [
              0.2222222222222222,
              "#7201a8"
             ],
             [
              0.3333333333333333,
              "#9c179e"
             ],
             [
              0.4444444444444444,
              "#bd3786"
             ],
             [
              0.5555555555555556,
              "#d8576b"
             ],
             [
              0.6666666666666666,
              "#ed7953"
             ],
             [
              0.7777777777777778,
              "#fb9f3a"
             ],
             [
              0.8888888888888888,
              "#fdca26"
             ],
             [
              1,
              "#f0f921"
             ]
            ],
            "type": "contour"
           }
          ],
          "contourcarpet": [
           {
            "colorbar": {
             "outlinewidth": 0,
             "ticks": ""
            },
            "type": "contourcarpet"
           }
          ],
          "heatmap": [
           {
            "colorbar": {
             "outlinewidth": 0,
             "ticks": ""
            },
            "colorscale": [
             [
              0,
              "#0d0887"
             ],
             [
              0.1111111111111111,
              "#46039f"
             ],
             [
              0.2222222222222222,
              "#7201a8"
             ],
             [
              0.3333333333333333,
              "#9c179e"
             ],
             [
              0.4444444444444444,
              "#bd3786"
             ],
             [
              0.5555555555555556,
              "#d8576b"
             ],
             [
              0.6666666666666666,
              "#ed7953"
             ],
             [
              0.7777777777777778,
              "#fb9f3a"
             ],
             [
              0.8888888888888888,
              "#fdca26"
             ],
             [
              1,
              "#f0f921"
             ]
            ],
            "type": "heatmap"
           }
          ],
          "heatmapgl": [
           {
            "colorbar": {
             "outlinewidth": 0,
             "ticks": ""
            },
            "colorscale": [
             [
              0,
              "#0d0887"
             ],
             [
              0.1111111111111111,
              "#46039f"
             ],
             [
              0.2222222222222222,
              "#7201a8"
             ],
             [
              0.3333333333333333,
              "#9c179e"
             ],
             [
              0.4444444444444444,
              "#bd3786"
             ],
             [
              0.5555555555555556,
              "#d8576b"
             ],
             [
              0.6666666666666666,
              "#ed7953"
             ],
             [
              0.7777777777777778,
              "#fb9f3a"
             ],
             [
              0.8888888888888888,
              "#fdca26"
             ],
             [
              1,
              "#f0f921"
             ]
            ],
            "type": "heatmapgl"
           }
          ],
          "histogram": [
           {
            "marker": {
             "pattern": {
              "fillmode": "overlay",
              "size": 10,
              "solidity": 0.2
             }
            },
            "type": "histogram"
           }
          ],
          "histogram2d": [
           {
            "colorbar": {
             "outlinewidth": 0,
             "ticks": ""
            },
            "colorscale": [
             [
              0,
              "#0d0887"
             ],
             [
              0.1111111111111111,
              "#46039f"
             ],
             [
              0.2222222222222222,
              "#7201a8"
             ],
             [
              0.3333333333333333,
              "#9c179e"
             ],
             [
              0.4444444444444444,
              "#bd3786"
             ],
             [
              0.5555555555555556,
              "#d8576b"
             ],
             [
              0.6666666666666666,
              "#ed7953"
             ],
             [
              0.7777777777777778,
              "#fb9f3a"
             ],
             [
              0.8888888888888888,
              "#fdca26"
             ],
             [
              1,
              "#f0f921"
             ]
            ],
            "type": "histogram2d"
           }
          ],
          "histogram2dcontour": [
           {
            "colorbar": {
             "outlinewidth": 0,
             "ticks": ""
            },
            "colorscale": [
             [
              0,
              "#0d0887"
             ],
             [
              0.1111111111111111,
              "#46039f"
             ],
             [
              0.2222222222222222,
              "#7201a8"
             ],
             [
              0.3333333333333333,
              "#9c179e"
             ],
             [
              0.4444444444444444,
              "#bd3786"
             ],
             [
              0.5555555555555556,
              "#d8576b"
             ],
             [
              0.6666666666666666,
              "#ed7953"
             ],
             [
              0.7777777777777778,
              "#fb9f3a"
             ],
             [
              0.8888888888888888,
              "#fdca26"
             ],
             [
              1,
              "#f0f921"
             ]
            ],
            "type": "histogram2dcontour"
           }
          ],
          "mesh3d": [
           {
            "colorbar": {
             "outlinewidth": 0,
             "ticks": ""
            },
            "type": "mesh3d"
           }
          ],
          "parcoords": [
           {
            "line": {
             "colorbar": {
              "outlinewidth": 0,
              "ticks": ""
             }
            },
            "type": "parcoords"
           }
          ],
          "pie": [
           {
            "automargin": true,
            "type": "pie"
           }
          ],
          "scatter": [
           {
            "marker": {
             "colorbar": {
              "outlinewidth": 0,
              "ticks": ""
             }
            },
            "type": "scatter"
           }
          ],
          "scatter3d": [
           {
            "line": {
             "colorbar": {
              "outlinewidth": 0,
              "ticks": ""
             }
            },
            "marker": {
             "colorbar": {
              "outlinewidth": 0,
              "ticks": ""
             }
            },
            "type": "scatter3d"
           }
          ],
          "scattercarpet": [
           {
            "marker": {
             "colorbar": {
              "outlinewidth": 0,
              "ticks": ""
             }
            },
            "type": "scattercarpet"
           }
          ],
          "scattergeo": [
           {
            "marker": {
             "colorbar": {
              "outlinewidth": 0,
              "ticks": ""
             }
            },
            "type": "scattergeo"
           }
          ],
          "scattergl": [
           {
            "marker": {
             "colorbar": {
              "outlinewidth": 0,
              "ticks": ""
             }
            },
            "type": "scattergl"
           }
          ],
          "scattermapbox": [
           {
            "marker": {
             "colorbar": {
              "outlinewidth": 0,
              "ticks": ""
             }
            },
            "type": "scattermapbox"
           }
          ],
          "scatterpolar": [
           {
            "marker": {
             "colorbar": {
              "outlinewidth": 0,
              "ticks": ""
             }
            },
            "type": "scatterpolar"
           }
          ],
          "scatterpolargl": [
           {
            "marker": {
             "colorbar": {
              "outlinewidth": 0,
              "ticks": ""
             }
            },
            "type": "scatterpolargl"
           }
          ],
          "scatterternary": [
           {
            "marker": {
             "colorbar": {
              "outlinewidth": 0,
              "ticks": ""
             }
            },
            "type": "scatterternary"
           }
          ],
          "surface": [
           {
            "colorbar": {
             "outlinewidth": 0,
             "ticks": ""
            },
            "colorscale": [
             [
              0,
              "#0d0887"
             ],
             [
              0.1111111111111111,
              "#46039f"
             ],
             [
              0.2222222222222222,
              "#7201a8"
             ],
             [
              0.3333333333333333,
              "#9c179e"
             ],
             [
              0.4444444444444444,
              "#bd3786"
             ],
             [
              0.5555555555555556,
              "#d8576b"
             ],
             [
              0.6666666666666666,
              "#ed7953"
             ],
             [
              0.7777777777777778,
              "#fb9f3a"
             ],
             [
              0.8888888888888888,
              "#fdca26"
             ],
             [
              1,
              "#f0f921"
             ]
            ],
            "type": "surface"
           }
          ],
          "table": [
           {
            "cells": {
             "fill": {
              "color": "#EBF0F8"
             },
             "line": {
              "color": "white"
             }
            },
            "header": {
             "fill": {
              "color": "#C8D4E3"
             },
             "line": {
              "color": "white"
             }
            },
            "type": "table"
           }
          ]
         },
         "layout": {
          "annotationdefaults": {
           "arrowcolor": "#2a3f5f",
           "arrowhead": 0,
           "arrowwidth": 1
          },
          "autotypenumbers": "strict",
          "coloraxis": {
           "colorbar": {
            "outlinewidth": 0,
            "ticks": ""
           }
          },
          "colorscale": {
           "diverging": [
            [
             0,
             "#8e0152"
            ],
            [
             0.1,
             "#c51b7d"
            ],
            [
             0.2,
             "#de77ae"
            ],
            [
             0.3,
             "#f1b6da"
            ],
            [
             0.4,
             "#fde0ef"
            ],
            [
             0.5,
             "#f7f7f7"
            ],
            [
             0.6,
             "#e6f5d0"
            ],
            [
             0.7,
             "#b8e186"
            ],
            [
             0.8,
             "#7fbc41"
            ],
            [
             0.9,
             "#4d9221"
            ],
            [
             1,
             "#276419"
            ]
           ],
           "sequential": [
            [
             0,
             "#0d0887"
            ],
            [
             0.1111111111111111,
             "#46039f"
            ],
            [
             0.2222222222222222,
             "#7201a8"
            ],
            [
             0.3333333333333333,
             "#9c179e"
            ],
            [
             0.4444444444444444,
             "#bd3786"
            ],
            [
             0.5555555555555556,
             "#d8576b"
            ],
            [
             0.6666666666666666,
             "#ed7953"
            ],
            [
             0.7777777777777778,
             "#fb9f3a"
            ],
            [
             0.8888888888888888,
             "#fdca26"
            ],
            [
             1,
             "#f0f921"
            ]
           ],
           "sequentialminus": [
            [
             0,
             "#0d0887"
            ],
            [
             0.1111111111111111,
             "#46039f"
            ],
            [
             0.2222222222222222,
             "#7201a8"
            ],
            [
             0.3333333333333333,
             "#9c179e"
            ],
            [
             0.4444444444444444,
             "#bd3786"
            ],
            [
             0.5555555555555556,
             "#d8576b"
            ],
            [
             0.6666666666666666,
             "#ed7953"
            ],
            [
             0.7777777777777778,
             "#fb9f3a"
            ],
            [
             0.8888888888888888,
             "#fdca26"
            ],
            [
             1,
             "#f0f921"
            ]
           ]
          },
          "colorway": [
           "#636efa",
           "#EF553B",
           "#00cc96",
           "#ab63fa",
           "#FFA15A",
           "#19d3f3",
           "#FF6692",
           "#B6E880",
           "#FF97FF",
           "#FECB52"
          ],
          "font": {
           "color": "#2a3f5f"
          },
          "geo": {
           "bgcolor": "white",
           "lakecolor": "white",
           "landcolor": "#E5ECF6",
           "showlakes": true,
           "showland": true,
           "subunitcolor": "white"
          },
          "hoverlabel": {
           "align": "left"
          },
          "hovermode": "closest",
          "mapbox": {
           "style": "light"
          },
          "paper_bgcolor": "white",
          "plot_bgcolor": "#E5ECF6",
          "polar": {
           "angularaxis": {
            "gridcolor": "white",
            "linecolor": "white",
            "ticks": ""
           },
           "bgcolor": "#E5ECF6",
           "radialaxis": {
            "gridcolor": "white",
            "linecolor": "white",
            "ticks": ""
           }
          },
          "scene": {
           "xaxis": {
            "backgroundcolor": "#E5ECF6",
            "gridcolor": "white",
            "gridwidth": 2,
            "linecolor": "white",
            "showbackground": true,
            "ticks": "",
            "zerolinecolor": "white"
           },
           "yaxis": {
            "backgroundcolor": "#E5ECF6",
            "gridcolor": "white",
            "gridwidth": 2,
            "linecolor": "white",
            "showbackground": true,
            "ticks": "",
            "zerolinecolor": "white"
           },
           "zaxis": {
            "backgroundcolor": "#E5ECF6",
            "gridcolor": "white",
            "gridwidth": 2,
            "linecolor": "white",
            "showbackground": true,
            "ticks": "",
            "zerolinecolor": "white"
           }
          },
          "shapedefaults": {
           "line": {
            "color": "#2a3f5f"
           }
          },
          "ternary": {
           "aaxis": {
            "gridcolor": "white",
            "linecolor": "white",
            "ticks": ""
           },
           "baxis": {
            "gridcolor": "white",
            "linecolor": "white",
            "ticks": ""
           },
           "bgcolor": "#E5ECF6",
           "caxis": {
            "gridcolor": "white",
            "linecolor": "white",
            "ticks": ""
           }
          },
          "title": {
           "x": 0.05
          },
          "xaxis": {
           "automargin": true,
           "gridcolor": "white",
           "linecolor": "white",
           "ticks": "",
           "title": {
            "standoff": 15
           },
           "zerolinecolor": "white",
           "zerolinewidth": 2
          },
          "yaxis": {
           "automargin": true,
           "gridcolor": "white",
           "linecolor": "white",
           "ticks": "",
           "title": {
            "standoff": 15
           },
           "zerolinecolor": "white",
           "zerolinewidth": 2
          }
         }
        },
        "title": {
         "text": "Performance Comparison: Original vs. Adjusted Thresholds"
        }
       }
      }
     },
     "metadata": {},
     "output_type": "display_data"
    }
   ],
   "source": [
    "X_train, X_test, y_train, y_test, A_train, A_test = train_test_split(X, y, A, test_size=0.5, random_state=42)\n",
    "\n",
    "clf = LogisticRegression()\n",
    "clf.fit(X_train, y_train)\n",
    "y_prob = clf.predict_proba(X_test)[:, 1]\n",
    "\n",
    "class_report_for_each(X_test, y_test, clf, 'RAC1P')\n",
    "\n",
    "model = ApproxThreshold(clf, lambda_=0.9)\n",
    "model.fit(X_train, y_train, A_train)\n",
    "predictions = model.predict(X_test, A_test)\n",
    "model.plot_matplotlib()\n",
    "model.plot_plotly()\n",
    "model.plot_2d_roc()\n",
    "model.plot_performance_comparison(X_test, y_test, A_test)\n",
    "\n"
   ]
  },
  {
   "cell_type": "code",
   "execution_count": 35,
   "metadata": {},
   "outputs": [
    {
     "name": "stdout",
     "output_type": "stream",
     "text": [
      "Classification Report for RAC1P = 2.0:\n",
      "\n",
      "              precision    recall  f1-score   support\n",
      "\n",
      "         0.0       0.75      0.74      0.75       162\n",
      "         1.0       0.71      0.72      0.72       145\n",
      "\n",
      "    accuracy                           0.73       307\n",
      "   macro avg       0.73      0.73      0.73       307\n",
      "weighted avg       0.73      0.73      0.73       307\n",
      "\n",
      "--------------------------------------------------\n",
      "Classification Report for RAC1P = 1.0:\n",
      "\n",
      "              precision    recall  f1-score   support\n",
      "\n",
      "         0.0       0.79      0.80      0.79       884\n",
      "         1.0       0.79      0.78      0.78       862\n",
      "\n",
      "    accuracy                           0.79      1746\n",
      "   macro avg       0.79      0.79      0.79      1746\n",
      "weighted avg       0.79      0.79      0.79      1746\n",
      "\n",
      "--------------------------------------------------\n"
     ]
    },
    {
     "data": {
      "image/png": "[encoded data removed]",
      "text/plain": [
       "<Figure size 720x576 with 1 Axes>"
      ]
     },
     "metadata": {
      "needs_background": "light"
     },
     "output_type": "display_data"
    },
    {
     "data": {
      "application/vnd.plotly.v1+json": {
       "config": {
        "plotlyServerURL": "https://plot.ly"
       },
       "data": [
        {
         "line": {
          "color": "blue"
         },
         "marker": {
          "size": [
           2,
           2,
           2,
           2,
           2,
           2,
           2,
           2,
           2,
           2,
           2,
           2,
           2,
           2,
           2,
           2,
           2,
           2,
           2,
           2,
           2,
           2,
           2,
           2,
           2,
           2,
           2,
           2,
           2,
           2,
           2,
           2,
           2,
           2,
           2,
           2,
           2,
           2,
           2,
           2,
           2,
           2,
           2,
           2,
           2,
           2,
           2,
           2,
           2,
           2,
           2,
           2,
           2,
           2,
           2,
           2,
           2,
           2,
           2,
           2,
           2,
           2,
           2,
           2,
           2,
           2,
           2,
           2,
           2,
           2,
           2,
           2,
           2,
           2,
           2,
           2,
           2,
           2,
           2,
           2,
           2,
           2,
           2,
           2,
           2,
           2,
           2,
           2,
           2,
           2,
           2,
           2,
           2,
           2,
           2,
           2,
           2,
           2,
           2,
           2,
           2,
           2,
           2,
           2,
           2,
           2,
           2,
           2,
           2,
           2,
           2,
           2,
           2,
           2,
           2,
           2,
           2,
           2,
           2,
           2,
           2,
           2,
           2,
           2,
           2,
           2,
           2,
           2,
           2,
           2,
           2,
           2,
           2,
           2,
           2,
           2,
           2,
           2,
           2,
           2,
           2,
           2,
           2,
           2,
           2,
           2,
           2,
           2,
           2,
           2,
           2,
           2,
           2,
           2,
           2,
           2,
           2,
           2,
           2,
           2,
           2,
           2,
           2,
           2,
           2,
           2,
           2,
           2,
           2,
           2,
           2,
           2,
           2,
           2,
           2,
           2,
           2,
           2,
           2,
           2,
           2,
           2,
           2,
           2,
           2,
           2,
           10,
           2,
           2,
           2,
           2,
           2,
           2,
           2,
           2,
           2,
           2,
           2,
           2,
           2,
           2,
           2,
           2,
           2,
           2,
           2,
           2,
           2,
           2,
           2,
           2,
           2,
           2,
           2,
           2,
           2,
           2,
           2,
           2,
           2,
           2,
           2,
           2,
           2,
           2,
           2,
           2,
           2,
           2,
           2,
           2,
           2,
           2,
           2,
           2,
           2,
           2,
           2,
           2,
           2,
           2,
           2,
           2,
           2,
           2,
           2,
           2,
           2,
           2,
           2,
           2,
           2,
           2,
           2,
           2,
           2,
           2,
           2,
           2,
           2,
           2,
           2,
           2,
           2,
           2,
           2,
           2,
           2,
           2,
           2,
           2,
           2,
           2,
           2,
           2,
           2,
           2,
           2,
           2,
           2,
           2,
           2,
           2,
           2,
           2,
           2,
           2,
           2,
           2,
           2,
           2,
           2,
           2,
           2,
           2,
           2,
           2,
           2,
           2,
           2,
           2,
           2,
           2,
           2,
           2,
           2,
           2,
           2,
           2,
           2,
           2,
           2,
           2,
           2,
           2,
           2,
           2,
           2,
           2,
           2,
           2,
           2,
           2,
           2,
           2,
           2,
           2,
           2,
           2,
           2,
           2,
           2,
           2,
           2,
           2,
           2,
           2,
           2,
           2,
           2,
           2,
           2,
           2,
           2,
           2,
           2,
           2,
           2,
           2,
           2,
           2,
           2,
           2,
           2,
           2,
           2,
           2,
           2,
           2,
           2,
           2,
           2,
           2,
           2,
           2,
           2,
           2,
           2,
           2,
           2,
           2,
           2,
           2,
           2,
           2,
           2,
           2,
           2,
           2,
           2,
           2,
           2,
           2,
           2,
           2,
           2,
           2,
           2,
           2,
           2,
           2,
           2,
           2,
           2,
           2,
           2,
           2,
           2,
           2,
           2,
           2,
           2,
           2,
           2,
           2,
           2,
           2,
           2,
           2,
           2,
           2,
           2,
           2,
           2,
           2
          ]
         },
         "mode": "lines+markers",
         "name": "Class 1 ROC (area = 0.90)",
         "type": "scatter3d",
         "x": [
          0,
          0,
          0,
          0,
          0,
          0,
          0,
          0,
          0,
          0,
          0,
          0,
          0,
          0,
          0.0011185682326621924,
          0.0011185682326621924,
          0.0011185682326621924,
          0.003355704697986577,
          0.0044742729306487695,
          0.0044742729306487695,
          0.0044742729306487695,
          0.0044742729306487695,
          0.0044742729306487695,
          0.0044742729306487695,
          0.0044742729306487695,
          0.005592841163310962,
          0.006711409395973154,
          0.006711409395973154,
          0.007829977628635347,
          0.008948545861297539,
          0.008948545861297539,
          0.008948545861297539,
          0.011185682326621925,
          0.011185682326621925,
          0.011185682326621925,
          0.011185682326621925,
          0.012304250559284116,
          0.012304250559284116,
          0.012304250559284116,
          0.0145413870246085,
          0.0145413870246085,
          0.016778523489932886,
          0.016778523489932886,
          0.016778523489932886,
          0.016778523489932886,
          0.017897091722595078,
          0.01901565995525727,
          0.020134228187919462,
          0.020134228187919462,
          0.020134228187919462,
          0.020134228187919462,
          0.020134228187919462,
          0.020134228187919462,
          0.020134228187919462,
          0.021252796420581657,
          0.021252796420581657,
          0.021252796420581657,
          0.02237136465324385,
          0.02237136465324385,
          0.02237136465324385,
          0.02237136465324385,
          0.02237136465324385,
          0.02237136465324385,
          0.02348993288590604,
          0.024608501118568233,
          0.024608501118568233,
          0.025727069351230425,
          0.025727069351230425,
          0.025727069351230425,
          0.025727069351230425,
          0.025727069351230425,
          0.025727069351230425,
          0.025727069351230425,
          0.025727069351230425,
          0.035794183445190156,
          0.035794183445190156,
          0.03691275167785235,
          0.03803131991051454,
          0.039149888143176735,
          0.039149888143176735,
          0.04809843400447427,
          0.04809843400447427,
          0.04809843400447427,
          0.04809843400447427,
          0.04809843400447427,
          0.05145413870246085,
          0.05145413870246085,
          0.052572706935123045,
          0.053691275167785234,
          0.05480984340044743,
          0.05480984340044743,
          0.05480984340044743,
          0.05480984340044743,
          0.05592841163310962,
          0.05592841163310962,
          0.05592841163310962,
          0.05704697986577181,
          0.05704697986577181,
          0.05704697986577181,
          0.058165548098434,
          0.0592841163310962,
          0.06040268456375839,
          0.06040268456375839,
          0.06040268456375839,
          0.06040268456375839,
          0.06599552572706935,
          0.06823266219239374,
          0.06935123042505593,
          0.06935123042505593,
          0.07270693512304251,
          0.07270693512304251,
          0.07494407158836688,
          0.07494407158836688,
          0.07829977628635347,
          0.0883668903803132,
          0.0894854586129754,
          0.0894854586129754,
          0.09507829977628636,
          0.09507829977628636,
          0.09955257270693513,
          0.09955257270693513,
          0.10067114093959731,
          0.1029082774049217,
          0.1040268456375839,
          0.1040268456375839,
          0.10738255033557047,
          0.10738255033557047,
          0.116331096196868,
          0.116331096196868,
          0.1185682326621924,
          0.11968680089485459,
          0.12192393736017897,
          0.12192393736017897,
          0.12304250559284116,
          0.12304250559284116,
          0.12416107382550336,
          0.12416107382550336,
          0.12416107382550336,
          0.12416107382550336,
          0.12527964205816555,
          0.12527964205816555,
          0.12527964205816555,
          0.12639821029082773,
          0.12639821029082773,
          0.12863534675615212,
          0.12863534675615212,
          0.1297539149888143,
          0.1297539149888143,
          0.1297539149888143,
          0.1297539149888143,
          0.1319910514541387,
          0.1319910514541387,
          0.1342281879194631,
          0.1342281879194631,
          0.13534675615212527,
          0.14205816554809844,
          0.14317673378076062,
          0.1487695749440716,
          0.15100671140939598,
          0.15100671140939598,
          0.15212527964205816,
          0.15212527964205816,
          0.15324384787472037,
          0.15771812080536912,
          0.15771812080536912,
          0.15771812080536912,
          0.15883668903803133,
          0.15883668903803133,
          0.1610738255033557,
          0.1610738255033557,
          0.1621923937360179,
          0.1644295302013423,
          0.16666666666666666,
          0.16666666666666666,
          0.17002237136465326,
          0.17002237136465326,
          0.1756152125279642,
          0.17785234899328858,
          0.18120805369127516,
          0.18232662192393737,
          0.18791946308724833,
          0.18791946308724833,
          0.19910514541387025,
          0.19910514541387025,
          0.20469798657718122,
          0.2080536912751678,
          0.22483221476510068,
          0.22483221476510068,
          0.22595078299776286,
          0.22595078299776286,
          0.22706935123042504,
          0.22706935123042504,
          0.23042505592841164,
          0.23154362416107382,
          0.23154362416107382,
          0.23378076062639822,
          0.23378076062639822,
          0.2348993288590604,
          0.2348993288590604,
          0.2360178970917226,
          0.2360178970917226,
          0.2360178970917226,
          0.2360178970917226,
          0.2371364653243848,
          0.2483221476510067,
          0.2483221476510067,
          0.2505592841163311,
          0.2539149888143177,
          0.25615212527964204,
          0.25615212527964204,
          0.25727069351230425,
          0.25838926174496646,
          0.26286353467561524,
          0.26286353467561524,
          0.26733780760626397,
          0.27293064876957496,
          0.27293064876957496,
          0.27628635346756153,
          0.27740492170022374,
          0.2785234899328859,
          0.2841163310961969,
          0.28635346756152125,
          0.29082774049217003,
          0.2975391498881432,
          0.2975391498881432,
          0.30201342281879195,
          0.30201342281879195,
          0.30648769574944074,
          0.3098434004474273,
          0.31208053691275167,
          0.31208053691275167,
          0.3143176733780761,
          0.31655480984340045,
          0.31767337807606266,
          0.31767337807606266,
          0.3187919463087248,
          0.319910514541387,
          0.319910514541387,
          0.3221476510067114,
          0.3221476510067114,
          0.32550335570469796,
          0.32662192393736017,
          0.3288590604026846,
          0.33109619686800895,
          0.33221476510067116,
          0.3344519015659955,
          0.348993288590604,
          0.348993288590604,
          0.35011185682326623,
          0.35011185682326623,
          0.3512304250559284,
          0.35570469798657717,
          0.36017897091722595,
          0.3635346756152125,
          0.36577181208053694,
          0.3668903803131991,
          0.3680089485458613,
          0.3680089485458613,
          0.37024608501118567,
          0.37024608501118567,
          0.378076062639821,
          0.3982102908277405,
          0.39932885906040266,
          0.4004474272930649,
          0.40380313199105144,
          0.40939597315436244,
          0.412751677852349,
          0.41498881431767337,
          0.42058165548098436,
          0.42058165548098436,
          0.4228187919463087,
          0.4250559284116331,
          0.42953020134228187,
          0.42953020134228187,
          0.43288590604026844,
          0.436241610738255,
          0.4451901565995526,
          0.44742729306487694,
          0.44854586129753915,
          0.44854586129753915,
          0.45302013422818793,
          0.45302013422818793,
          0.4552572706935123,
          0.4597315436241611,
          0.46308724832214765,
          0.46308724832214765,
          0.4664429530201342,
          0.46868008948545864,
          0.4697986577181208,
          0.4697986577181208,
          0.4720357941834452,
          0.4742729306487696,
          0.47651006711409394,
          0.4809843400447427,
          0.4809843400447427,
          0.48210290827740493,
          0.48210290827740493,
          0.4843400447427293,
          0.48769574944071586,
          0.4899328859060403,
          0.49217002237136465,
          0.49217002237136465,
          0.49328859060402686,
          0.49328859060402686,
          0.4988814317673378,
          0.4988814317673378,
          0.5011185682326622,
          0.5011185682326622,
          0.5044742729306487,
          0.5067114093959731,
          0.5089485458612976,
          0.5089485458612976,
          0.5257270693512305,
          0.5279642058165548,
          0.529082774049217,
          0.529082774049217,
          0.5335570469798657,
          0.5369127516778524,
          0.5380313199105146,
          0.540268456375839,
          0.5514541387024608,
          0.5525727069351231,
          0.5525727069351231,
          0.5570469798657718,
          0.5592841163310962,
          0.5604026845637584,
          0.5637583892617449,
          0.569351230425056,
          0.5715883668903803,
          0.5771812080536913,
          0.5816554809843401,
          0.5850111856823266,
          0.5906040268456376,
          0.5917225950782998,
          0.5939597315436241,
          0.5950782997762863,
          0.5995525727069351,
          0.6006711409395973,
          0.6029082774049217,
          0.6085011185682326,
          0.610738255033557,
          0.6152125279642058,
          0.6174496644295302,
          0.6185682326621924,
          0.6230425055928411,
          0.6286353467561522,
          0.6308724832214765,
          0.6331096196868009,
          0.6364653243847874,
          0.6375838926174496,
          0.639821029082774,
          0.6521252796420581,
          0.6554809843400448,
          0.656599552572707,
          0.6588366890380313,
          0.6644295302013423,
          0.6666666666666666,
          0.6711409395973155,
          0.6767337807606264,
          0.6789709172259508,
          0.6868008948545862,
          0.6923937360178971,
          0.6968680089485458,
          0.7013422818791947,
          0.7046979865771812,
          0.7069351230425056,
          0.7102908277404921,
          0.7125279642058165,
          0.7192393736017897,
          0.7225950782997763,
          0.7237136465324385,
          0.7281879194630873,
          0.7315436241610739,
          0.732662192393736,
          0.7472035794183445,
          0.7494407158836689,
          0.761744966442953,
          0.767337807606264,
          0.7762863534675615,
          0.7863534675615212,
          0.7897091722595079,
          0.7919463087248322,
          0.7953020134228188,
          0.814317673378076,
          0.8266219239373602,
          0.8288590604026845,
          0.831096196868009,
          0.8389261744966443,
          0.8400447427293065,
          0.843400447427293,
          0.8501118568232662,
          0.8534675615212528,
          0.8557046979865772,
          0.8579418344519015,
          0.8646532438478747,
          0.8791946308724832,
          0.8814317673378076,
          0.8847874720357942,
          0.8982102908277405,
          0.9239373601789709,
          0.9284116331096197,
          0.9429530201342282,
          0.9496644295302014,
          0.9519015659955258,
          0.9608501118568232,
          0.9619686800894854,
          0.9642058165548099,
          0.9675615212527964,
          0.9776286353467561,
          0.9787472035794184,
          0.9888143176733781,
          0.9899328859060402,
          0.9966442953020134,
          0.9977628635346756,
          1
         ],
         "y": [
          0,
          0.0011806375442739079,
          0.0023612750885478157,
          0.0070838252656434475,
          0.008264462809917356,
          0.012987012987012988,
          0.015348288075560802,
          0.021251475796930343,
          0.02243211334120425,
          0.024793388429752067,
          0.025974025974025976,
          0.03541912632821724,
          0.04014167650531287,
          0.04250295159386069,
          0.048406139315230225,
          0.05194805194805195,
          0.053128689492325853,
          0.0755608028335301,
          0.07792207792207792,
          0.07910271546635184,
          0.08382526564344746,
          0.08618654073199528,
          0.089728453364817,
          0.09563164108618655,
          0.09799291617473435,
          0.10979929161747344,
          0.10979929161747344,
          0.11452184179456906,
          0.13695395513577333,
          0.14757969303423848,
          0.1511216056670602,
          0.15230224321133412,
          0.16292798110979928,
          0.16765053128689492,
          0.17473435655253838,
          0.17591499409681227,
          0.20425029515938606,
          0.21369539551357733,
          0.22195985832349469,
          0.2231404958677686,
          0.2243211334120425,
          0.23730814639905548,
          0.2396694214876033,
          0.24911452184179456,
          0.2514757969303424,
          0.2526564344746163,
          0.2526564344746163,
          0.2644628099173554,
          0.26564344746162927,
          0.269185360094451,
          0.27508854781582054,
          0.27744982290436837,
          0.2798110979929162,
          0.2809917355371901,
          0.2845336481700118,
          0.28689492325855964,
          0.28807556080283353,
          0.30932703659976385,
          0.3105076741440378,
          0.31286894923258557,
          0.3140495867768595,
          0.31759149940968123,
          0.31995277449822906,
          0.33293978748524206,
          0.33884297520661155,
          0.3400236127508855,
          0.34710743801652894,
          0.35064935064935066,
          0.3530106257378985,
          0.3541912632821724,
          0.3577331759149941,
          0.3600944510035419,
          0.3612750885478158,
          0.3695395513577332,
          0.39433293978748524,
          0.39669421487603307,
          0.39669421487603307,
          0.42857142857142855,
          0.43565525383707204,
          0.43683589138134593,
          0.45808736717827625,
          0.46162927981109797,
          0.46635182998819363,
          0.4734356552538371,
          0.4757969303423849,
          0.5064935064935064,
          0.512396694214876,
          0.51357733175915,
          0.5182998819362455,
          0.5194805194805194,
          0.5230224321133412,
          0.5301062573789846,
          0.5324675324675324,
          0.5348288075560803,
          0.5419126328217237,
          0.5466351829988194,
          0.5608028335301063,
          0.564344746162928,
          0.5655253837072018,
          0.5714285714285714,
          0.5726092089728453,
          0.5761511216056671,
          0.5796930342384888,
          0.5832349468713105,
          0.5855962219598583,
          0.5997638724911453,
          0.6103896103896104,
          0.6103896103896104,
          0.6127508854781583,
          0.6186540731995277,
          0.6245572609208973,
          0.628099173553719,
          0.6304604486422668,
          0.6351829988193625,
          0.6481700118063755,
          0.6505312868949232,
          0.6517119244391971,
          0.667060212514758,
          0.6682408500590319,
          0.6753246753246753,
          0.6765053128689492,
          0.6776859504132231,
          0.6788665879574971,
          0.680047225501771,
          0.6835891381345927,
          0.6894923258559622,
          0.6906729634002361,
          0.706021251475797,
          0.7119244391971665,
          0.7119244391971665,
          0.7131050767414404,
          0.7131050767414404,
          0.7142857142857143,
          0.7142857142857143,
          0.7154663518299882,
          0.7154663518299882,
          0.7166469893742621,
          0.71900826446281,
          0.7225501770956316,
          0.7225501770956316,
          0.7249114521841794,
          0.7284533648170012,
          0.7284533648170012,
          0.7296340023612751,
          0.731995277449823,
          0.7331759149940968,
          0.7343565525383707,
          0.7355371900826446,
          0.7378984651711924,
          0.7390791027154664,
          0.7390791027154664,
          0.7402597402597403,
          0.7402597402597403,
          0.7426210153482881,
          0.7426210153482881,
          0.755608028335301,
          0.755608028335301,
          0.7626918536009445,
          0.7662337662337663,
          0.7697756788665879,
          0.7697756788665879,
          0.7709563164108618,
          0.7709563164108618,
          0.7744982290436836,
          0.7792207792207793,
          0.781582054309327,
          0.781582054309327,
          0.7827626918536009,
          0.7874852420306966,
          0.7898465171192444,
          0.7898465171192444,
          0.7910271546635183,
          0.7910271546635183,
          0.7922077922077922,
          0.7957497048406139,
          0.7969303423848878,
          0.7969303423848878,
          0.7969303423848878,
          0.7992916174734357,
          0.7992916174734357,
          0.8051948051948052,
          0.8087367178276269,
          0.8347107438016529,
          0.8358913813459268,
          0.8394332939787486,
          0.8394332939787486,
          0.8500590318772137,
          0.8536009445100354,
          0.8536009445100354,
          0.8547815820543093,
          0.8547815820543093,
          0.8559622195985832,
          0.8571428571428571,
          0.8618654073199528,
          0.8642266824085005,
          0.8642266824085005,
          0.8665879574970484,
          0.8665879574970484,
          0.8677685950413223,
          0.8689492325855962,
          0.8713105076741441,
          0.8736717827626919,
          0.8748524203069658,
          0.8748524203069658,
          0.8807556080283353,
          0.8819362455726092,
          0.8819362455726092,
          0.8831168831168831,
          0.8831168831168831,
          0.8842975206611571,
          0.8842975206611571,
          0.885478158205431,
          0.8913813459268005,
          0.8937426210153483,
          0.8949232585596222,
          0.9008264462809917,
          0.9020070838252656,
          0.9020070838252656,
          0.9020070838252656,
          0.9031877213695395,
          0.9079102715466352,
          0.9079102715466352,
          0.9090909090909091,
          0.910271546635183,
          0.9126328217237308,
          0.9185360094451004,
          0.9197166469893743,
          0.9197166469893743,
          0.9197166469893743,
          0.9197166469893743,
          0.9208972845336482,
          0.922077922077922,
          0.922077922077922,
          0.922077922077922,
          0.9244391971664699,
          0.9244391971664699,
          0.9256198347107438,
          0.9279811097992916,
          0.9303423848878394,
          0.9338842975206612,
          0.9338842975206612,
          0.935064935064935,
          0.9362455726092089,
          0.9362455726092089,
          0.9374262101534829,
          0.9374262101534829,
          0.9468713105076741,
          0.948051948051948,
          0.948051948051948,
          0.9492325855962219,
          0.9504132231404959,
          0.9504132231404959,
          0.9504132231404959,
          0.9515938606847698,
          0.9515938606847698,
          0.9515938606847698,
          0.9539551357733176,
          0.9563164108618654,
          0.9574970484061394,
          0.9586776859504132,
          0.9586776859504132,
          0.9681227863046045,
          0.9681227863046045,
          0.9693034238488784,
          0.9693034238488784,
          0.9693034238488784,
          0.9693034238488784,
          0.9704840613931524,
          0.9704840613931524,
          0.9716646989374262,
          0.9716646989374262,
          0.9716646989374262,
          0.9716646989374262,
          0.9728453364817001,
          0.9728453364817001,
          0.974025974025974,
          0.974025974025974,
          0.974025974025974,
          0.974025974025974,
          0.9752066115702479,
          0.9752066115702479,
          0.9763872491145218,
          0.9763872491145218,
          0.9787485242030697,
          0.9787485242030697,
          0.9799291617473436,
          0.9799291617473436,
          0.9799291617473436,
          0.9799291617473436,
          0.9822904368358913,
          0.9822904368358913,
          0.9834710743801653,
          0.9834710743801653,
          0.9834710743801653,
          0.9858323494687131,
          0.9858323494687131,
          0.987012987012987,
          0.987012987012987,
          0.9881936245572609,
          0.9881936245572609,
          0.9881936245572609,
          0.9893742621015348,
          0.9893742621015348,
          0.9905548996458088,
          0.9905548996458088,
          0.9917355371900827,
          0.9917355371900827,
          0.9929161747343566,
          0.9929161747343566,
          0.9929161747343566,
          0.9929161747343566,
          0.9940968122786304,
          0.9940968122786304,
          0.9940968122786304,
          0.9940968122786304,
          0.9952774498229043,
          0.9952774498229043,
          0.9952774498229043,
          0.9952774498229043,
          0.9952774498229043,
          0.9952774498229043,
          0.9964580873671782,
          0.9976387249114522,
          0.9976387249114522,
          0.9976387249114522,
          0.9976387249114522,
          0.9976387249114522,
          0.9976387249114522,
          0.9976387249114522,
          0.9976387249114522,
          0.9976387249114522,
          0.9976387249114522,
          0.9988193624557261,
          0.9988193624557261,
          0.9988193624557261,
          0.9988193624557261,
          0.9988193624557261,
          0.9988193624557261,
          0.9988193624557261,
          0.9988193624557261,
          0.9988193624557261,
          0.9988193624557261,
          0.9988193624557261,
          0.9988193624557261,
          0.9988193624557261,
          0.9988193624557261,
          0.9988193624557261,
          0.9988193624557261,
          0.9988193624557261,
          0.9988193624557261,
          0.9988193624557261,
          0.9988193624557261,
          0.9988193624557261,
          0.9988193624557261,
          0.9988193624557261,
          0.9988193624557261,
          1,
          1,
          1,
          1,
          1,
          1,
          1,
          1,
          1,
          1,
          1,
          1,
          1,
          1,
          1,
          1,
          1,
          1,
          1,
          1,
          1,
          1,
          1,
          1,
          1,
          1,
          1,
          1,
          1,
          1,
          1,
          1,
          1,
          1,
          1,
          1,
          1,
          1,
          1,
          1,
          1,
          1,
          1,
          1,
          1,
          1,
          1,
          1,
          1,
          1,
          1,
          1,
          1,
          1,
          1,
          1,
          1,
          1,
          1
         ],
         "z": [
          1,
          1,
          1,
          1,
          1,
          1,
          1,
          1,
          1,
          1,
          1,
          1,
          1,
          1,
          0.9761904761904762,
          0.9777777777777777,
          0.9782608695652174,
          0.9552238805970149,
          0.9428571428571428,
          0.9436619718309859,
          0.9466666666666667,
          0.948051948051948,
          0.95,
          0.9529411764705882,
          0.9540229885057471,
          0.9393939393939394,
          0.9393939393939394,
          0.941747572815534,
          0.943089430894309,
          0.9398496240601504,
          0.9411764705882353,
          0.9416058394160584,
          0.9324324324324325,
          0.9342105263157895,
          0.9367088607594937,
          0.9371069182389937,
          0.9402173913043478,
          0.9427083333333334,
          0.9447236180904522,
          0.9356435643564357,
          0.9359605911330049,
          0.9305555555555556,
          0.9311926605504587,
          0.9336283185840708,
          0.9342105263157895,
          0.9264069264069265,
          0.9264069264069265,
          0.9256198347107438,
          0.9259259259259259,
          0.926829268292683,
          0.9282868525896414,
          0.9288537549407114,
          0.9294117647058824,
          0.9296875,
          0.926923076923077,
          0.9274809160305344,
          0.9277566539923955,
          0.9290780141843972,
          0.9293286219081273,
          0.9298245614035088,
          0.9300699300699301,
          0.9307958477508651,
          0.9312714776632303,
          0.9306930693069307,
          0.9288025889967637,
          0.9290322580645162,
          0.9274447949526814,
          0.928125,
          0.9285714285714286,
          0.9287925696594427,
          0.9294478527607362,
          0.9298780487804879,
          0.9300911854103343,
          0.9315476190476191,
          0.912568306010929,
          0.9105691056910569,
          0.9105691056910569,
          0.9143576826196473,
          0.9133663366336634,
          0.9135802469135802,
          0.9002320185614849,
          0.9009216589861752,
          0.9018264840182648,
          0.9031531531531531,
          0.9035874439461884,
          0.9031578947368422,
          0.9041666666666667,
          0.9024896265560166,
          0.9014373716632443,
          0.8997955010224948,
          0.9004065040650406,
          0.9016064257028112,
          0.902,
          0.9005964214711729,
          0.9017681728880157,
          0.9025341130604289,
          0.903041825095057,
          0.9035916824196597,
          0.9037735849056604,
          0.9029850746268657,
          0.9014869888475836,
          0.9003690036900369,
          0.9009174311926605,
          0.9014598540145985,
          0.9018181818181819,
          0.8959435626102292,
          0.8929188255613126,
          0.8929188255613126,
          0.8932874354561101,
          0.8896434634974533,
          0.8905723905723906,
          0.8881469115191987,
          0.8885191347753744,
          0.8848684210526315,
          0.8742038216560509,
          0.873217115689382,
          0.8734177215189873,
          0.8692307692307693,
          0.869431643625192,
          0.8653555219364599,
          0.8655589123867069,
          0.8644578313253012,
          0.8620689655172413,
          0.8609865470852018,
          0.8616071428571429,
          0.8588235294117647,
          0.8590308370044053,
          0.8518518518518519,
          0.8504936530324401,
          0.8504936530324401,
          0.847124824684432,
          0.847124824684432,
          0.8461538461538461,
          0.8461538461538461,
          0.8451882845188284,
          0.8451882845188284,
          0.8454038997214485,
          0.8458333333333333,
          0.8453038674033149,
          0.8453038674033149,
          0.8457300275482094,
          0.8452054794520548,
          0.8452054794520548,
          0.8454172366621067,
          0.8435374149659864,
          0.84375,
          0.8428184281842819,
          0.8430311231393776,
          0.8434547908232118,
          0.8413978494623656,
          0.8413978494623656,
          0.8393574297188755,
          0.8393574297188755,
          0.8386666666666667,
          0.8386666666666667,
          0.8333333333333334,
          0.8333333333333334,
          0.8292682926829268,
          0.8278061224489796,
          0.8274111675126904,
          0.8274111675126904,
          0.8265822784810126,
          0.8265822784810126,
          0.823086574654956,
          0.8239700374531835,
          0.8233830845771144,
          0.8233830845771144,
          0.8236024844720496,
          0.8224414303329223,
          0.8218673218673219,
          0.8218673218673219,
          0.818070818070818,
          0.818070818070818,
          0.8182926829268292,
          0.8159806295399515,
          0.8093525179856115,
          0.8093525179856115,
          0.8093525179856115,
          0.805952380952381,
          0.805952380952381,
          0.8023529411764706,
          0.8030480656506448,
          0.7988700564971751,
          0.7990970654627539,
          0.7926421404682275,
          0.7926421404682275,
          0.7817589576547231,
          0.7816216216216216,
          0.7816216216216216,
          0.7810140237324703,
          0.7810140237324703,
          0.78125,
          0.778969957081545,
          0.7790821771611526,
          0.7778958554729012,
          0.7778958554729012,
          0.777542372881356,
          0.777542372881356,
          0.7777777777777778,
          0.7771911298838438,
          0.7776606954689147,
          0.7781282860147214,
          0.7775445960125918,
          0.7775445960125918,
          0.7706611570247934,
          0.7693099897013388,
          0.7693099897013388,
          0.7656090071647902,
          0.7656090071647902,
          0.7650663942798774,
          0.7650663942798774,
          0.764525993883792,
          0.7626262626262627,
          0.7631048387096774,
          0.7602808425275828,
          0.7576961271102284,
          0.7549407114624506,
          0.7549407114624506,
          0.7549407114624506,
          0.7544378698224852,
          0.7502439024390244,
          0.7502439024390244,
          0.7475728155339806,
          0.7434908389585342,
          0.7439846005774784,
          0.7423664122137404,
          0.7362948960302458,
          0.7362948960302458,
          0.7362948960302458,
          0.7362948960302458,
          0.7365439093484419,
          0.7333333333333333,
          0.7333333333333333,
          0.7333333333333333,
          0.7331460674157303,
          0.7331460674157303,
          0.7327102803738318,
          0.7332089552238806,
          0.7323420074349443,
          0.7310536044362292,
          0.7310536044362292,
          0.7306273062730627,
          0.7281910009182736,
          0.7281910009182736,
          0.7264409881061299,
          0.7264409881061299,
          0.7199281867145422,
          0.7195340501792115,
          0.7195340501792115,
          0.7197851387645479,
          0.7142857142857143,
          0.7142857142857143,
          0.7142857142857143,
          0.7107583774250441,
          0.7107583774250441,
          0.7107583774250441,
          0.7106420404573439,
          0.7111501316944688,
          0.7101576182136602,
          0.7060869565217391,
          0.7060869565217391,
          0.6966864910790145,
          0.6966864910790145,
          0.6899159663865546,
          0.6899159663865546,
          0.6899159663865546,
          0.6899159663865546,
          0.6861435726210351,
          0.6861435726210351,
          0.6818558409279205,
          0.6818558409279205,
          0.6818558409279205,
          0.6818558409279205,
          0.6804293971924029,
          0.6804293971924029,
          0.6729200652528549,
          0.6729200652528549,
          0.6729200652528549,
          0.6729200652528549,
          0.6709991876523151,
          0.6709991876523151,
          0.6701782820097245,
          0.6701782820097245,
          0.666934835076428,
          0.666934835076428,
          0.664,
          0.664,
          0.664,
          0.664,
          0.6634768740031898,
          0.6634768740031898,
          0.6595407759303247,
          0.6595407759303247,
          0.6595407759303247,
          0.6595576619273301,
          0.6595576619273301,
          0.6587864460204885,
          0.6587864460204885,
          0.6554424432263116,
          0.6554424432263116,
          0.6554424432263116,
          0.655199374511337,
          0.655199374511337,
          0.6529182879377432,
          0.6529182879377432,
          0.6521739130434783,
          0.6521739130434783,
          0.6489197530864198,
          0.6489197530864198,
          0.6489197530864198,
          0.6489197530864198,
          0.6403041825095057,
          0.6403041825095057,
          0.6403041825095057,
          0.6403041825095057,
          0.6309880239520959,
          0.6309880239520959,
          0.6309880239520959,
          0.6309880239520959,
          0.6309880239520959,
          0.6309880239520959,
          0.6307922272047832,
          0.6176900584795322,
          0.6176900584795322,
          0.6176900584795322,
          0.6176900584795322,
          0.6176900584795322,
          0.6176900584795322,
          0.6176900584795322,
          0.6176900584795322,
          0.6176900584795322,
          0.6176900584795322,
          0.5875,
          0.5875,
          0.5875,
          0.5875,
          0.5875,
          0.5875,
          0.5875,
          0.5875,
          0.5875,
          0.5875,
          0.5875,
          0.5875,
          0.5875,
          0.5875,
          0.5875,
          0.5875,
          0.5875,
          0.5875,
          0.5875,
          0.5875,
          0.5875,
          0.5875,
          0.5875,
          0.5875,
          0.4865020103388857,
          0.4865020103388857,
          0.4865020103388857,
          0.4865020103388857,
          0.4865020103388857,
          0.4865020103388857,
          0.4865020103388857,
          0.4865020103388857,
          0.4865020103388857,
          0.4865020103388857,
          0.4865020103388857,
          0.4865020103388857,
          0.4865020103388857,
          0.4865020103388857,
          0.4865020103388857,
          0.4865020103388857,
          0.4865020103388857,
          0.4865020103388857,
          0.4865020103388857,
          0.4865020103388857,
          0.4865020103388857,
          0.4865020103388857,
          0.4865020103388857,
          0.4865020103388857,
          0.4865020103388857,
          0.4865020103388857,
          0.4865020103388857,
          0.4865020103388857,
          0.4865020103388857,
          0.4865020103388857,
          0.4865020103388857,
          0.4865020103388857,
          0.4865020103388857,
          0.4865020103388857,
          0.4865020103388857,
          0.4865020103388857,
          0.4865020103388857,
          0.4865020103388857,
          0.4865020103388857,
          0.4865020103388857,
          0.4865020103388857,
          0.4865020103388857,
          0.4865020103388857,
          0.4865020103388857,
          0.4865020103388857,
          0.4865020103388857,
          0.4865020103388857,
          0.4865020103388857,
          0.4865020103388857,
          0.4865020103388857,
          0.4865020103388857,
          0.4865020103388857,
          0.4865020103388857,
          0.4865020103388857,
          0.4865020103388857,
          0.4865020103388857,
          0.4865020103388857,
          0.4865020103388857,
          0.4865020103388857
         ]
        },
        {
         "line": {
          "color": "orange"
         },
         "marker": {
          "size": [
           2,
           2,
           2,
           2,
           2,
           2,
           2,
           2,
           2,
           2,
           2,
           2,
           2,
           2,
           2,
           2,
           2,
           2,
           2,
           2,
           2,
           2,
           2,
           2,
           2,
           2,
           2,
           2,
           2,
           2,
           2,
           2,
           2,
           2,
           2,
           2,
           2,
           2,
           2,
           2,
           2,
           2,
           2,
           2,
           2,
           2,
           2,
           2,
           2,
           2,
           2,
           2,
           2,
           2,
           2,
           2,
           2,
           10,
           2,
           2,
           2,
           2,
           2,
           2,
           2,
           2,
           2,
           2,
           2,
           2,
           2,
           2,
           2,
           2,
           2,
           2,
           2,
           2,
           2,
           2,
           2,
           2,
           2,
           2,
           2,
           2,
           2,
           2,
           2,
           2,
           2,
           2,
           2,
           2,
           2,
           2,
           2,
           2,
           2,
           2,
           2,
           2,
           2,
           2,
           2,
           2,
           2,
           2,
           2,
           2,
           2,
           2
          ]
         },
         "mode": "lines+markers",
         "name": "Class 2 ROC (area = 0.89)",
         "type": "scatter3d",
         "x": [
          0,
          0,
          0,
          0,
          0,
          0.00546448087431694,
          0.00546448087431694,
          0.01092896174863388,
          0.01092896174863388,
          0.01639344262295082,
          0.01639344262295082,
          0.01639344262295082,
          0.01639344262295082,
          0.02185792349726776,
          0.0273224043715847,
          0.0273224043715847,
          0.0273224043715847,
          0.0273224043715847,
          0.0273224043715847,
          0.0273224043715847,
          0.03278688524590164,
          0.03278688524590164,
          0.03825136612021858,
          0.03825136612021858,
          0.04918032786885246,
          0.04918032786885246,
          0.04918032786885246,
          0.04918032786885246,
          0.060109289617486336,
          0.06557377049180328,
          0.08196721311475409,
          0.08743169398907104,
          0.09289617486338798,
          0.09836065573770492,
          0.09836065573770492,
          0.10382513661202186,
          0.10382513661202186,
          0.1092896174863388,
          0.12021857923497267,
          0.12568306010928962,
          0.13114754098360656,
          0.1366120218579235,
          0.1366120218579235,
          0.14207650273224043,
          0.14754098360655737,
          0.15846994535519127,
          0.16939890710382513,
          0.17486338797814208,
          0.18032786885245902,
          0.18032786885245902,
          0.18579234972677597,
          0.18579234972677597,
          0.1912568306010929,
          0.1912568306010929,
          0.19672131147540983,
          0.19672131147540983,
          0.19672131147540983,
          0.20218579234972678,
          0.20218579234972678,
          0.21311475409836064,
          0.22404371584699453,
          0.23497267759562843,
          0.24043715846994534,
          0.24043715846994534,
          0.2459016393442623,
          0.2459016393442623,
          0.2459016393442623,
          0.2568306010928962,
          0.2677595628415301,
          0.273224043715847,
          0.273224043715847,
          0.28415300546448086,
          0.28415300546448086,
          0.2896174863387978,
          0.30601092896174864,
          0.30601092896174864,
          0.3224043715846995,
          0.3333333333333333,
          0.34972677595628415,
          0.34972677595628415,
          0.34972677595628415,
          0.366120218579235,
          0.366120218579235,
          0.3770491803278688,
          0.3770491803278688,
          0.41530054644808745,
          0.4262295081967213,
          0.453551912568306,
          0.4644808743169399,
          0.4918032786885246,
          0.4918032786885246,
          0.4972677595628415,
          0.5409836065573771,
          0.5519125683060109,
          0.6885245901639344,
          0.7049180327868853,
          0.7158469945355191,
          0.726775956284153,
          0.7540983606557377,
          0.7759562841530054,
          0.7923497267759563,
          0.8032786885245902,
          0.825136612021858,
          0.8306010928961749,
          0.8415300546448088,
          0.8743169398907104,
          0.9016393442622951,
          0.9234972677595629,
          0.9398907103825137,
          0.9508196721311475,
          0.9617486338797814,
          1
         ],
         "y": [
          0,
          0.0078125,
          0.046875,
          0.0703125,
          0.109375,
          0.140625,
          0.15625,
          0.171875,
          0.1875,
          0.1875,
          0.1953125,
          0.2109375,
          0.234375,
          0.2421875,
          0.2421875,
          0.265625,
          0.2890625,
          0.3046875,
          0.328125,
          0.3515625,
          0.3515625,
          0.3671875,
          0.375,
          0.390625,
          0.40625,
          0.421875,
          0.4375,
          0.4453125,
          0.4609375,
          0.4609375,
          0.4609375,
          0.46875,
          0.484375,
          0.546875,
          0.5546875,
          0.6171875,
          0.625,
          0.625,
          0.640625,
          0.640625,
          0.6484375,
          0.671875,
          0.6953125,
          0.6953125,
          0.703125,
          0.7265625,
          0.7265625,
          0.734375,
          0.7734375,
          0.7890625,
          0.7890625,
          0.796875,
          0.796875,
          0.8046875,
          0.8125,
          0.8203125,
          0.8359375,
          0.8359375,
          0.84375,
          0.84375,
          0.84375,
          0.84375,
          0.8515625,
          0.859375,
          0.859375,
          0.8671875,
          0.8828125,
          0.8828125,
          0.8984375,
          0.8984375,
          0.921875,
          0.921875,
          0.9296875,
          0.9296875,
          0.9296875,
          0.9375,
          0.9375,
          0.9375,
          0.9375,
          0.953125,
          0.96875,
          0.96875,
          0.9765625,
          0.9765625,
          0.984375,
          0.984375,
          0.984375,
          0.984375,
          0.984375,
          0.984375,
          0.9921875,
          1,
          1,
          1,
          1,
          1,
          1,
          1,
          1,
          1,
          1,
          1,
          1,
          1,
          1,
          1,
          1,
          1,
          1,
          1,
          1,
          1
         ],
         "z": [
          1,
          1,
          1,
          1,
          1,
          0.9473684210526315,
          0.9523809523809523,
          0.9166666666666666,
          0.8888888888888888,
          0.8888888888888888,
          0.8928571428571429,
          0.9,
          0.9090909090909091,
          0.8611111111111112,
          0.8611111111111112,
          0.8717948717948718,
          0.8809523809523809,
          0.8863636363636364,
          0.8936170212765957,
          0.8823529411764706,
          0.8823529411764706,
          0.8867924528301887,
          0.8727272727272727,
          0.8771929824561403,
          0.8524590163934426,
          0.8571428571428571,
          0.8615384615384616,
          0.8636363636363636,
          0.7972972972972973,
          0.7972972972972973,
          0.7972972972972973,
          0.7894736842105263,
          0.7848101265822784,
          0.7954545454545454,
          0.797752808988764,
          0.8061224489795918,
          0.8,
          0.8,
          0.780952380952381,
          0.780952380952381,
          0.7757009345794392,
          0.7747747747747747,
          0.7739130434782608,
          0.7739130434782608,
          0.7692307692307693,
          0.75,
          0.75,
          0.746031746031746,
          0.75,
          0.7481481481481481,
          0.7481481481481481,
          0.7445255474452555,
          0.7445255474452555,
          0.7463768115942029,
          0.7428571428571429,
          0.7446808510638298,
          0.7430555555555556,
          0.7430555555555556,
          0.7152317880794702,
          0.7152317880794702,
          0.7152317880794702,
          0.7152317880794702,
          0.7124183006535948,
          0.7096774193548387,
          0.7096774193548387,
          0.7115384615384616,
          0.70625,
          0.70625,
          0.696969696969697,
          0.696969696969697,
          0.6941176470588235,
          0.6941176470588235,
          0.68,
          0.68,
          0.68,
          0.6521739130434783,
          0.6521739130434783,
          0.6521739130434783,
          0.6521739130434783,
          0.6559139784946236,
          0.6492146596858639,
          0.6492146596858639,
          0.6443298969072165,
          0.6443298969072165,
          0.5833333333333334,
          0.5833333333333334,
          0.5833333333333334,
          0.5833333333333334,
          0.5833333333333334,
          0.5833333333333334,
          0.5852534562211982,
          0.4115755627009646,
          0.4115755627009646,
          0.4115755627009646,
          0.4115755627009646,
          0.4115755627009646,
          0.4115755627009646,
          0.4115755627009646,
          0.4115755627009646,
          0.4115755627009646,
          0.4115755627009646,
          0.4115755627009646,
          0.4115755627009646,
          0.4115755627009646,
          0.4115755627009646,
          0.4115755627009646,
          0.4115755627009646,
          0.4115755627009646,
          0.4115755627009646,
          0.4115755627009646,
          0.4115755627009646,
          0.4115755627009646
         ]
        },
        {
         "line": {
          "color": "red"
         },
         "mode": "lines",
         "showlegend": false,
         "type": "scatter3d",
         "x": [
          0.22483221476510068,
          0.20218579234972678
         ],
         "y": [
          0.8500590318772137,
          0.8359375
         ],
         "z": [
          0.7817589576547231,
          0.7430555555555556
         ]
        },
        {
         "mode": "text",
         "showlegend": false,
         "text": [
          "ΔFPR=0.02<br>ΔTPR=0.01<br>ΔPrecision=0.04"
         ],
         "textposition": "bottom center",
         "type": "scatter3d",
         "x": [
          0.21350900355741373
         ],
         "y": [
          0.8429982659386068
         ],
         "z": [
          0.7624072566051394
         ]
        }
       ],
       "layout": {
        "margin": {
         "b": 10,
         "l": 10,
         "r": 20,
         "t": 10
        },
        "scene": {
         "xaxis": {
          "title": {
           "text": "False Positive Rate"
          }
         },
         "yaxis": {
          "title": {
           "text": "True Positive Rate"
          }
         },
         "zaxis": {
          "title": {
           "text": "Precision"
          }
         }
        },
        "template": {
         "data": {
          "bar": [
           {
            "error_x": {
             "color": "#2a3f5f"
            },
            "error_y": {
             "color": "#2a3f5f"
            },
            "marker": {
             "line": {
              "color": "#E5ECF6",
              "width": 0.5
             },
             "pattern": {
              "fillmode": "overlay",
              "size": 10,
              "solidity": 0.2
             }
            },
            "type": "bar"
           }
          ],
          "barpolar": [
           {
            "marker": {
             "line": {
              "color": "#E5ECF6",
              "width": 0.5
             },
             "pattern": {
              "fillmode": "overlay",
              "size": 10,
              "solidity": 0.2
             }
            },
            "type": "barpolar"
           }
          ],
          "carpet": [
           {
            "aaxis": {
             "endlinecolor": "#2a3f5f",
             "gridcolor": "white",
             "linecolor": "white",
             "minorgridcolor": "white",
             "startlinecolor": "#2a3f5f"
            },
            "baxis": {
             "endlinecolor": "#2a3f5f",
             "gridcolor": "white",
             "linecolor": "white",
             "minorgridcolor": "white",
             "startlinecolor": "#2a3f5f"
            },
            "type": "carpet"
           }
          ],
          "choropleth": [
           {
            "colorbar": {
             "outlinewidth": 0,
             "ticks": ""
            },
            "type": "choropleth"
           }
          ],
          "contour": [
           {
            "colorbar": {
             "outlinewidth": 0,
             "ticks": ""
            },
            "colorscale": [
             [
              0,
              "#0d0887"
             ],
             [
              0.1111111111111111,
              "#46039f"
             ],
             [
              0.2222222222222222,
              "#7201a8"
             ],
             [
              0.3333333333333333,
              "#9c179e"
             ],
             [
              0.4444444444444444,
              "#bd3786"
             ],
             [
              0.5555555555555556,
              "#d8576b"
             ],
             [
              0.6666666666666666,
              "#ed7953"
             ],
             [
              0.7777777777777778,
              "#fb9f3a"
             ],
             [
              0.8888888888888888,
              "#fdca26"
             ],
             [
              1,
              "#f0f921"
             ]
            ],
            "type": "contour"
           }
          ],
          "contourcarpet": [
           {
            "colorbar": {
             "outlinewidth": 0,
             "ticks": ""
            },
            "type": "contourcarpet"
           }
          ],
          "heatmap": [
           {
            "colorbar": {
             "outlinewidth": 0,
             "ticks": ""
            },
            "colorscale": [
             [
              0,
              "#0d0887"
             ],
             [
              0.1111111111111111,
              "#46039f"
             ],
             [
              0.2222222222222222,
              "#7201a8"
             ],
             [
              0.3333333333333333,
              "#9c179e"
             ],
             [
              0.4444444444444444,
              "#bd3786"
             ],
             [
              0.5555555555555556,
              "#d8576b"
             ],
             [
              0.6666666666666666,
              "#ed7953"
             ],
             [
              0.7777777777777778,
              "#fb9f3a"
             ],
             [
              0.8888888888888888,
              "#fdca26"
             ],
             [
              1,
              "#f0f921"
             ]
            ],
            "type": "heatmap"
           }
          ],
          "heatmapgl": [
           {
            "colorbar": {
             "outlinewidth": 0,
             "ticks": ""
            },
            "colorscale": [
             [
              0,
              "#0d0887"
             ],
             [
              0.1111111111111111,
              "#46039f"
             ],
             [
              0.2222222222222222,
              "#7201a8"
             ],
             [
              0.3333333333333333,
              "#9c179e"
             ],
             [
              0.4444444444444444,
              "#bd3786"
             ],
             [
              0.5555555555555556,
              "#d8576b"
             ],
             [
              0.6666666666666666,
              "#ed7953"
             ],
             [
              0.7777777777777778,
              "#fb9f3a"
             ],
             [
              0.8888888888888888,
              "#fdca26"
             ],
             [
              1,
              "#f0f921"
             ]
            ],
            "type": "heatmapgl"
           }
          ],
          "histogram": [
           {
            "marker": {
             "pattern": {
              "fillmode": "overlay",
              "size": 10,
              "solidity": 0.2
             }
            },
            "type": "histogram"
           }
          ],
          "histogram2d": [
           {
            "colorbar": {
             "outlinewidth": 0,
             "ticks": ""
            },
            "colorscale": [
             [
              0,
              "#0d0887"
             ],
             [
              0.1111111111111111,
              "#46039f"
             ],
             [
              0.2222222222222222,
              "#7201a8"
             ],
             [
              0.3333333333333333,
              "#9c179e"
             ],
             [
              0.4444444444444444,
              "#bd3786"
             ],
             [
              0.5555555555555556,
              "#d8576b"
             ],
             [
              0.6666666666666666,
              "#ed7953"
             ],
             [
              0.7777777777777778,
              "#fb9f3a"
             ],
             [
              0.8888888888888888,
              "#fdca26"
             ],
             [
              1,
              "#f0f921"
             ]
            ],
            "type": "histogram2d"
           }
          ],
          "histogram2dcontour": [
           {
            "colorbar": {
             "outlinewidth": 0,
             "ticks": ""
            },
            "colorscale": [
             [
              0,
              "#0d0887"
             ],
             [
              0.1111111111111111,
              "#46039f"
             ],
             [
              0.2222222222222222,
              "#7201a8"
             ],
             [
              0.3333333333333333,
              "#9c179e"
             ],
             [
              0.4444444444444444,
              "#bd3786"
             ],
             [
              0.5555555555555556,
              "#d8576b"
             ],
             [
              0.6666666666666666,
              "#ed7953"
             ],
             [
              0.7777777777777778,
              "#fb9f3a"
             ],
             [
              0.8888888888888888,
              "#fdca26"
             ],
             [
              1,
              "#f0f921"
             ]
            ],
            "type": "histogram2dcontour"
           }
          ],
          "mesh3d": [
           {
            "colorbar": {
             "outlinewidth": 0,
             "ticks": ""
            },
            "type": "mesh3d"
           }
          ],
          "parcoords": [
           {
            "line": {
             "colorbar": {
              "outlinewidth": 0,
              "ticks": ""
             }
            },
            "type": "parcoords"
           }
          ],
          "pie": [
           {
            "automargin": true,
            "type": "pie"
           }
          ],
          "scatter": [
           {
            "marker": {
             "colorbar": {
              "outlinewidth": 0,
              "ticks": ""
             }
            },
            "type": "scatter"
           }
          ],
          "scatter3d": [
           {
            "line": {
             "colorbar": {
              "outlinewidth": 0,
              "ticks": ""
             }
            },
            "marker": {
             "colorbar": {
              "outlinewidth": 0,
              "ticks": ""
             }
            },
            "type": "scatter3d"
           }
          ],
          "scattercarpet": [
           {
            "marker": {
             "colorbar": {
              "outlinewidth": 0,
              "ticks": ""
             }
            },
            "type": "scattercarpet"
           }
          ],
          "scattergeo": [
           {
            "marker": {
             "colorbar": {
              "outlinewidth": 0,
              "ticks": ""
             }
            },
            "type": "scattergeo"
           }
          ],
          "scattergl": [
           {
            "marker": {
             "colorbar": {
              "outlinewidth": 0,
              "ticks": ""
             }
            },
            "type": "scattergl"
           }
          ],
          "scattermapbox": [
           {
            "marker": {
             "colorbar": {
              "outlinewidth": 0,
              "ticks": ""
             }
            },
            "type": "scattermapbox"
           }
          ],
          "scatterpolar": [
           {
            "marker": {
             "colorbar": {
              "outlinewidth": 0,
              "ticks": ""
             }
            },
            "type": "scatterpolar"
           }
          ],
          "scatterpolargl": [
           {
            "marker": {
             "colorbar": {
              "outlinewidth": 0,
              "ticks": ""
             }
            },
            "type": "scatterpolargl"
           }
          ],
          "scatterternary": [
           {
            "marker": {
             "colorbar": {
              "outlinewidth": 0,
              "ticks": ""
             }
            },
            "type": "scatterternary"
           }
          ],
          "surface": [
           {
            "colorbar": {
             "outlinewidth": 0,
             "ticks": ""
            },
            "colorscale": [
             [
              0,
              "#0d0887"
             ],
             [
              0.1111111111111111,
              "#46039f"
             ],
             [
              0.2222222222222222,
              "#7201a8"
             ],
             [
              0.3333333333333333,
              "#9c179e"
             ],
             [
              0.4444444444444444,
              "#bd3786"
             ],
             [
              0.5555555555555556,
              "#d8576b"
             ],
             [
              0.6666666666666666,
              "#ed7953"
             ],
             [
              0.7777777777777778,
              "#fb9f3a"
             ],
             [
              0.8888888888888888,
              "#fdca26"
             ],
             [
              1,
              "#f0f921"
             ]
            ],
            "type": "surface"
           }
          ],
          "table": [
           {
            "cells": {
             "fill": {
              "color": "#EBF0F8"
             },
             "line": {
              "color": "white"
             }
            },
            "header": {
             "fill": {
              "color": "#C8D4E3"
             },
             "line": {
              "color": "white"
             }
            },
            "type": "table"
           }
          ]
         },
         "layout": {
          "annotationdefaults": {
           "arrowcolor": "#2a3f5f",
           "arrowhead": 0,
           "arrowwidth": 1
          },
          "autotypenumbers": "strict",
          "coloraxis": {
           "colorbar": {
            "outlinewidth": 0,
            "ticks": ""
           }
          },
          "colorscale": {
           "diverging": [
            [
             0,
             "#8e0152"
            ],
            [
             0.1,
             "#c51b7d"
            ],
            [
             0.2,
             "#de77ae"
            ],
            [
             0.3,
             "#f1b6da"
            ],
            [
             0.4,
             "#fde0ef"
            ],
            [
             0.5,
             "#f7f7f7"
            ],
            [
             0.6,
             "#e6f5d0"
            ],
            [
             0.7,
             "#b8e186"
            ],
            [
             0.8,
             "#7fbc41"
            ],
            [
             0.9,
             "#4d9221"
            ],
            [
             1,
             "#276419"
            ]
           ],
           "sequential": [
            [
             0,
             "#0d0887"
            ],
            [
             0.1111111111111111,
             "#46039f"
            ],
            [
             0.2222222222222222,
             "#7201a8"
            ],
            [
             0.3333333333333333,
             "#9c179e"
            ],
            [
             0.4444444444444444,
             "#bd3786"
            ],
            [
             0.5555555555555556,
             "#d8576b"
            ],
            [
             0.6666666666666666,
             "#ed7953"
            ],
            [
             0.7777777777777778,
             "#fb9f3a"
            ],
            [
             0.8888888888888888,
             "#fdca26"
            ],
            [
             1,
             "#f0f921"
            ]
           ],
           "sequentialminus": [
            [
             0,
             "#0d0887"
            ],
            [
             0.1111111111111111,
             "#46039f"
            ],
            [
             0.2222222222222222,
             "#7201a8"
            ],
            [
             0.3333333333333333,
             "#9c179e"
            ],
            [
             0.4444444444444444,
             "#bd3786"
            ],
            [
             0.5555555555555556,
             "#d8576b"
            ],
            [
             0.6666666666666666,
             "#ed7953"
            ],
            [
             0.7777777777777778,
             "#fb9f3a"
            ],
            [
             0.8888888888888888,
             "#fdca26"
            ],
            [
             1,
             "#f0f921"
            ]
           ]
          },
          "colorway": [
           "#636efa",
           "#EF553B",
           "#00cc96",
           "#ab63fa",
           "#FFA15A",
           "#19d3f3",
           "#FF6692",
           "#B6E880",
           "#FF97FF",
           "#FECB52"
          ],
          "font": {
           "color": "#2a3f5f"
          },
          "geo": {
           "bgcolor": "white",
           "lakecolor": "white",
           "landcolor": "#E5ECF6",
           "showlakes": true,
           "showland": true,
           "subunitcolor": "white"
          },
          "hoverlabel": {
           "align": "left"
          },
          "hovermode": "closest",
          "mapbox": {
           "style": "light"
          },
          "paper_bgcolor": "white",
          "plot_bgcolor": "#E5ECF6",
          "polar": {
           "angularaxis": {
            "gridcolor": "white",
            "linecolor": "white",
            "ticks": ""
           },
           "bgcolor": "#E5ECF6",
           "radialaxis": {
            "gridcolor": "white",
            "linecolor": "white",
            "ticks": ""
           }
          },
          "scene": {
           "xaxis": {
            "backgroundcolor": "#E5ECF6",
            "gridcolor": "white",
            "gridwidth": 2,
            "linecolor": "white",
            "showbackground": true,
            "ticks": "",
            "zerolinecolor": "white"
           },
           "yaxis": {
            "backgroundcolor": "#E5ECF6",
            "gridcolor": "white",
            "gridwidth": 2,
            "linecolor": "white",
            "showbackground": true,
            "ticks": "",
            "zerolinecolor": "white"
           },
           "zaxis": {
            "backgroundcolor": "#E5ECF6",
            "gridcolor": "white",
            "gridwidth": 2,
            "linecolor": "white",
            "showbackground": true,
            "ticks": "",
            "zerolinecolor": "white"
           }
          },
          "shapedefaults": {
           "line": {
            "color": "#2a3f5f"
           }
          },
          "ternary": {
           "aaxis": {
            "gridcolor": "white",
            "linecolor": "white",
            "ticks": ""
           },
           "baxis": {
            "gridcolor": "white",
            "linecolor": "white",
            "ticks": ""
           },
           "bgcolor": "#E5ECF6",
           "caxis": {
            "gridcolor": "white",
            "linecolor": "white",
            "ticks": ""
           }
          },
          "title": {
           "x": 0.05
          },
          "xaxis": {
           "automargin": true,
           "gridcolor": "white",
           "linecolor": "white",
           "ticks": "",
           "title": {
            "standoff": 15
           },
           "zerolinecolor": "white",
           "zerolinewidth": 2
          },
          "yaxis": {
           "automargin": true,
           "gridcolor": "white",
           "linecolor": "white",
           "ticks": "",
           "title": {
            "standoff": 15
           },
           "zerolinecolor": "white",
           "zerolinewidth": 2
          }
         }
        }
       }
      }
     },
     "metadata": {},
     "output_type": "display_data"
    },
    {
     "data": {
      "image/png": "[encoded data removed]",
      "text/plain": [
       "<Figure size 576x432 with 1 Axes>"
      ]
     },
     "metadata": {
      "needs_background": "light"
     },
     "output_type": "display_data"
    },
    {
     "data": {
      "application/vnd.plotly.v1+json": {
       "config": {
        "plotlyServerURL": "https://plot.ly"
       },
       "data": [
        {
         "name": "Original",
         "type": "bar",
         "x": [
          "Accuracy",
          "F1 Score",
          "Precision",
          "Recall"
         ],
         "y": [
          0.7812956648806625,
          0.7751627441161744,
          0.7818181818181819,
          0.7686196623634558
         ]
        },
        {
         "name": "Adjusted",
         "type": "bar",
         "x": [
          "Accuracy",
          "F1 Score",
          "Precision",
          "Recall"
         ],
         "y": [
          0.7798343886994642,
          0.7835249042145593,
          0.7567067530064755,
          0.8123138033763655
         ]
        }
       ],
       "layout": {
        "barmode": "group",
        "template": {
         "data": {
          "bar": [
           {
            "error_x": {
             "color": "#2a3f5f"
            },
            "error_y": {
             "color": "#2a3f5f"
            },
            "marker": {
             "line": {
              "color": "#E5ECF6",
              "width": 0.5
             },
             "pattern": {
              "fillmode": "overlay",
              "size": 10,
              "solidity": 0.2
             }
            },
            "type": "bar"
           }
          ],
          "barpolar": [
           {
            "marker": {
             "line": {
              "color": "#E5ECF6",
              "width": 0.5
             },
             "pattern": {
              "fillmode": "overlay",
              "size": 10,
              "solidity": 0.2
             }
            },
            "type": "barpolar"
           }
          ],
          "carpet": [
           {
            "aaxis": {
             "endlinecolor": "#2a3f5f",
             "gridcolor": "white",
             "linecolor": "white",
             "minorgridcolor": "white",
             "startlinecolor": "#2a3f5f"
            },
            "baxis": {
             "endlinecolor": "#2a3f5f",
             "gridcolor": "white",
             "linecolor": "white",
             "minorgridcolor": "white",
             "startlinecolor": "#2a3f5f"
            },
            "type": "carpet"
           }
          ],
          "choropleth": [
           {
            "colorbar": {
             "outlinewidth": 0,
             "ticks": ""
            },
            "type": "choropleth"
           }
          ],
          "contour": [
           {
            "colorbar": {
             "outlinewidth": 0,
             "ticks": ""
            },
            "colorscale": [
             [
              0,
              "#0d0887"
             ],
             [
              0.1111111111111111,
              "#46039f"
             ],
             [
              0.2222222222222222,
              "#7201a8"
             ],
             [
              0.3333333333333333,
              "#9c179e"
             ],
             [
              0.4444444444444444,
              "#bd3786"
             ],
             [
              0.5555555555555556,
              "#d8576b"
             ],
             [
              0.6666666666666666,
              "#ed7953"
             ],
             [
              0.7777777777777778,
              "#fb9f3a"
             ],
             [
              0.8888888888888888,
              "#fdca26"
             ],
             [
              1,
              "#f0f921"
             ]
            ],
            "type": "contour"
           }
          ],
          "contourcarpet": [
           {
            "colorbar": {
             "outlinewidth": 0,
             "ticks": ""
            },
            "type": "contourcarpet"
           }
          ],
          "heatmap": [
           {
            "colorbar": {
             "outlinewidth": 0,
             "ticks": ""
            },
            "colorscale": [
             [
              0,
              "#0d0887"
             ],
             [
              0.1111111111111111,
              "#46039f"
             ],
             [
              0.2222222222222222,
              "#7201a8"
             ],
             [
              0.3333333333333333,
              "#9c179e"
             ],
             [
              0.4444444444444444,
              "#bd3786"
             ],
             [
              0.5555555555555556,
              "#d8576b"
             ],
             [
              0.6666666666666666,
              "#ed7953"
             ],
             [
              0.7777777777777778,
              "#fb9f3a"
             ],
             [
              0.8888888888888888,
              "#fdca26"
             ],
             [
              1,
              "#f0f921"
             ]
            ],
            "type": "heatmap"
           }
          ],
          "heatmapgl": [
           {
            "colorbar": {
             "outlinewidth": 0,
             "ticks": ""
            },
            "colorscale": [
             [
              0,
              "#0d0887"
             ],
             [
              0.1111111111111111,
              "#46039f"
             ],
             [
              0.2222222222222222,
              "#7201a8"
             ],
             [
              0.3333333333333333,
              "#9c179e"
             ],
             [
              0.4444444444444444,
              "#bd3786"
             ],
             [
              0.5555555555555556,
              "#d8576b"
             ],
             [
              0.6666666666666666,
              "#ed7953"
             ],
             [
              0.7777777777777778,
              "#fb9f3a"
             ],
             [
              0.8888888888888888,
              "#fdca26"
             ],
             [
              1,
              "#f0f921"
             ]
            ],
            "type": "heatmapgl"
           }
          ],
          "histogram": [
           {
            "marker": {
             "pattern": {
              "fillmode": "overlay",
              "size": 10,
              "solidity": 0.2
             }
            },
            "type": "histogram"
           }
          ],
          "histogram2d": [
           {
            "colorbar": {
             "outlinewidth": 0,
             "ticks": ""
            },
            "colorscale": [
             [
              0,
              "#0d0887"
             ],
             [
              0.1111111111111111,
              "#46039f"
             ],
             [
              0.2222222222222222,
              "#7201a8"
             ],
             [
              0.3333333333333333,
              "#9c179e"
             ],
             [
              0.4444444444444444,
              "#bd3786"
             ],
             [
              0.5555555555555556,
              "#d8576b"
             ],
             [
              0.6666666666666666,
              "#ed7953"
             ],
             [
              0.7777777777777778,
              "#fb9f3a"
             ],
             [
              0.8888888888888888,
              "#fdca26"
             ],
             [
              1,
              "#f0f921"
             ]
            ],
            "type": "histogram2d"
           }
          ],
          "histogram2dcontour": [
           {
            "colorbar": {
             "outlinewidth": 0,
             "ticks": ""
            },
            "colorscale": [
             [
              0,
              "#0d0887"
             ],
             [
              0.1111111111111111,
              "#46039f"
             ],
             [
              0.2222222222222222,
              "#7201a8"
             ],
             [
              0.3333333333333333,
              "#9c179e"
             ],
             [
              0.4444444444444444,
              "#bd3786"
             ],
             [
              0.5555555555555556,
              "#d8576b"
             ],
             [
              0.6666666666666666,
              "#ed7953"
             ],
             [
              0.7777777777777778,
              "#fb9f3a"
             ],
             [
              0.8888888888888888,
              "#fdca26"
             ],
             [
              1,
              "#f0f921"
             ]
            ],
            "type": "histogram2dcontour"
           }
          ],
          "mesh3d": [
           {
            "colorbar": {
             "outlinewidth": 0,
             "ticks": ""
            },
            "type": "mesh3d"
           }
          ],
          "parcoords": [
           {
            "line": {
             "colorbar": {
              "outlinewidth": 0,
              "ticks": ""
             }
            },
            "type": "parcoords"
           }
          ],
          "pie": [
           {
            "automargin": true,
            "type": "pie"
           }
          ],
          "scatter": [
           {
            "marker": {
             "colorbar": {
              "outlinewidth": 0,
              "ticks": ""
             }
            },
            "type": "scatter"
           }
          ],
          "scatter3d": [
           {
            "line": {
             "colorbar": {
              "outlinewidth": 0,
              "ticks": ""
             }
            },
            "marker": {
             "colorbar": {
              "outlinewidth": 0,
              "ticks": ""
             }
            },
            "type": "scatter3d"
           }
          ],
          "scattercarpet": [
           {
            "marker": {
             "colorbar": {
              "outlinewidth": 0,
              "ticks": ""
             }
            },
            "type": "scattercarpet"
           }
          ],
          "scattergeo": [
           {
            "marker": {
             "colorbar": {
              "outlinewidth": 0,
              "ticks": ""
             }
            },
            "type": "scattergeo"
           }
          ],
          "scattergl": [
           {
            "marker": {
             "colorbar": {
              "outlinewidth": 0,
              "ticks": ""
             }
            },
            "type": "scattergl"
           }
          ],
          "scattermapbox": [
           {
            "marker": {
             "colorbar": {
              "outlinewidth": 0,
              "ticks": ""
             }
            },
            "type": "scattermapbox"
           }
          ],
          "scatterpolar": [
           {
            "marker": {
             "colorbar": {
              "outlinewidth": 0,
              "ticks": ""
             }
            },
            "type": "scatterpolar"
           }
          ],
          "scatterpolargl": [
           {
            "marker": {
             "colorbar": {
              "outlinewidth": 0,
              "ticks": ""
             }
            },
            "type": "scatterpolargl"
           }
          ],
          "scatterternary": [
           {
            "marker": {
             "colorbar": {
              "outlinewidth": 0,
              "ticks": ""
             }
            },
            "type": "scatterternary"
           }
          ],
          "surface": [
           {
            "colorbar": {
             "outlinewidth": 0,
             "ticks": ""
            },
            "colorscale": [
             [
              0,
              "#0d0887"
             ],
             [
              0.1111111111111111,
              "#46039f"
             ],
             [
              0.2222222222222222,
              "#7201a8"
             ],
             [
              0.3333333333333333,
              "#9c179e"
             ],
             [
              0.4444444444444444,
              "#bd3786"
             ],
             [
              0.5555555555555556,
              "#d8576b"
             ],
             [
              0.6666666666666666,
              "#ed7953"
             ],
             [
              0.7777777777777778,
              "#fb9f3a"
             ],
             [
              0.8888888888888888,
              "#fdca26"
             ],
             [
              1,
              "#f0f921"
             ]
            ],
            "type": "surface"
           }
          ],
          "table": [
           {
            "cells": {
             "fill": {
              "color": "#EBF0F8"
             },
             "line": {
              "color": "white"
             }
            },
            "header": {
             "fill": {
              "color": "#C8D4E3"
             },
             "line": {
              "color": "white"
             }
            },
            "type": "table"
           }
          ]
         },
         "layout": {
          "annotationdefaults": {
           "arrowcolor": "#2a3f5f",
           "arrowhead": 0,
           "arrowwidth": 1
          },
          "autotypenumbers": "strict",
          "coloraxis": {
           "colorbar": {
            "outlinewidth": 0,
            "ticks": ""
           }
          },
          "colorscale": {
           "diverging": [
            [
             0,
             "#8e0152"
            ],
            [
             0.1,
             "#c51b7d"
            ],
            [
             0.2,
             "#de77ae"
            ],
            [
             0.3,
             "#f1b6da"
            ],
            [
             0.4,
             "#fde0ef"
            ],
            [
             0.5,
             "#f7f7f7"
            ],
            [
             0.6,
             "#e6f5d0"
            ],
            [
             0.7,
             "#b8e186"
            ],
            [
             0.8,
             "#7fbc41"
            ],
            [
             0.9,
             "#4d9221"
            ],
            [
             1,
             "#276419"
            ]
           ],
           "sequential": [
            [
             0,
             "#0d0887"
            ],
            [
             0.1111111111111111,
             "#46039f"
            ],
            [
             0.2222222222222222,
             "#7201a8"
            ],
            [
             0.3333333333333333,
             "#9c179e"
            ],
            [
             0.4444444444444444,
             "#bd3786"
            ],
            [
             0.5555555555555556,
             "#d8576b"
            ],
            [
             0.6666666666666666,
             "#ed7953"
            ],
            [
             0.7777777777777778,
             "#fb9f3a"
            ],
            [
             0.8888888888888888,
             "#fdca26"
            ],
            [
             1,
             "#f0f921"
            ]
           ],
           "sequentialminus": [
            [
             0,
             "#0d0887"
            ],
            [
             0.1111111111111111,
             "#46039f"
            ],
            [
             0.2222222222222222,
             "#7201a8"
            ],
            [
             0.3333333333333333,
             "#9c179e"
            ],
            [
             0.4444444444444444,
             "#bd3786"
            ],
            [
             0.5555555555555556,
             "#d8576b"
            ],
            [
             0.6666666666666666,
             "#ed7953"
            ],
            [
             0.7777777777777778,
             "#fb9f3a"
            ],
            [
             0.8888888888888888,
             "#fdca26"
            ],
            [
             1,
             "#f0f921"
            ]
           ]
          },
          "colorway": [
           "#636efa",
           "#EF553B",
           "#00cc96",
           "#ab63fa",
           "#FFA15A",
           "#19d3f3",
           "#FF6692",
           "#B6E880",
           "#FF97FF",
           "#FECB52"
          ],
          "font": {
           "color": "#2a3f5f"
          },
          "geo": {
           "bgcolor": "white",
           "lakecolor": "white",
           "landcolor": "#E5ECF6",
           "showlakes": true,
           "showland": true,
           "subunitcolor": "white"
          },
          "hoverlabel": {
           "align": "left"
          },
          "hovermode": "closest",
          "mapbox": {
           "style": "light"
          },
          "paper_bgcolor": "white",
          "plot_bgcolor": "#E5ECF6",
          "polar": {
           "angularaxis": {
            "gridcolor": "white",
            "linecolor": "white",
            "ticks": ""
           },
           "bgcolor": "#E5ECF6",
           "radialaxis": {
            "gridcolor": "white",
            "linecolor": "white",
            "ticks": ""
           }
          },
          "scene": {
           "xaxis": {
            "backgroundcolor": "#E5ECF6",
            "gridcolor": "white",
            "gridwidth": 2,
            "linecolor": "white",
            "showbackground": true,
            "ticks": "",
            "zerolinecolor": "white"
           },
           "yaxis": {
            "backgroundcolor": "#E5ECF6",
            "gridcolor": "white",
            "gridwidth": 2,
            "linecolor": "white",
            "showbackground": true,
            "ticks": "",
            "zerolinecolor": "white"
           },
           "zaxis": {
            "backgroundcolor": "#E5ECF6",
            "gridcolor": "white",
            "gridwidth": 2,
            "linecolor": "white",
            "showbackground": true,
            "ticks": "",
            "zerolinecolor": "white"
           }
          },
          "shapedefaults": {
           "line": {
            "color": "#2a3f5f"
           }
          },
          "ternary": {
           "aaxis": {
            "gridcolor": "white",
            "linecolor": "white",
            "ticks": ""
           },
           "baxis": {
            "gridcolor": "white",
            "linecolor": "white",
            "ticks": ""
           },
           "bgcolor": "#E5ECF6",
           "caxis": {
            "gridcolor": "white",
            "linecolor": "white",
            "ticks": ""
           }
          },
          "title": {
           "x": 0.05
          },
          "xaxis": {
           "automargin": true,
           "gridcolor": "white",
           "linecolor": "white",
           "ticks": "",
           "title": {
            "standoff": 15
           },
           "zerolinecolor": "white",
           "zerolinewidth": 2
          },
          "yaxis": {
           "automargin": true,
           "gridcolor": "white",
           "linecolor": "white",
           "ticks": "",
           "title": {
            "standoff": 15
           },
           "zerolinecolor": "white",
           "zerolinewidth": 2
          }
         }
        },
        "title": {
         "text": "Performance Comparison: Original vs. Adjusted Thresholds"
        }
       }
      }
     },
     "metadata": {},
     "output_type": "display_data"
    }
   ],
   "source": [
    "from sklearn.ensemble import GradientBoostingClassifier\n",
    "\n",
    "clf = GradientBoostingClassifier()\n",
    "clf.fit(X_train, y_train)\n",
    "y_prob = clf.predict_proba(X_test)[:, 1]\n",
    "\n",
    "class_report_for_each(X_test, y_test, clf, 'RAC1P')\n",
    "\n",
    "model = ApproxThreshold(clf, lambda_=0.9)\n",
    "model.fit(X_train, y_train, A_train)\n",
    "predictions = model.predict(X_test, A_test)\n",
    "model.plot_matplotlib()\n",
    "model.plot_plotly()\n",
    "model.plot_2d_roc()\n",
    "model.plot_performance_comparison(X_test, y_test, A_test)"
   ]
  },
  {
   "cell_type": "code",
   "execution_count": null,
   "metadata": {},
   "outputs": [],
   "source": []
  }
 ],
 "metadata": {
  "kernelspec": {
   "display_name": "Python 3",
   "language": "python",
   "name": "python3"
  },
  "language_info": {
   "codemirror_mode": {
    "name": "ipython",
    "version": 3
   },
   "file_extension": ".py",
   "mimetype": "text/x-python",
   "name": "python",
   "nbconvert_exporter": "python",
   "pygments_lexer": "ipython3",
   "version": "3.8.12"
  },
  "vscode": {
   "interpreter": {
    "hash": "6597d1ed23b894caf154b6750f098a8514a19e03807460ffd2d8425103778dc0"
   }
  }
 },
 "nbformat": 4,
 "nbformat_minor": 2
}
