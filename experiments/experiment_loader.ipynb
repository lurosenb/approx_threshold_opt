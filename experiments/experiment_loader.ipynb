{
 "cells": [
  {
   "cell_type": "code",
   "execution_count": null,
   "source": [
    "import yaml\n",
    "import pandas as pd"
   ],
   "outputs": [],
   "metadata": {}
  },
  {
   "cell_type": "code",
   "execution_count": null,
   "source": [
    "config_name = 'master_config'\n",
    "\n",
    "with open(f'configs/{config_name}.yaml','r') as stream:\n",
    "    try:\n",
    "        experiment_params = yaml.safe_load(stream)\n",
    "    except yaml.YAMLError as exc:\n",
    "        print(exc)\n",
    "experiment_params"
   ],
   "outputs": [],
   "metadata": {}
  },
  {
   "cell_type": "code",
   "execution_count": null,
   "source": [
    "dataset_names = list(experiment_params['datasets'].keys())"
   ],
   "outputs": [],
   "metadata": {}
  },
  {
   "cell_type": "code",
   "execution_count": null,
   "source": [
    "for d in dataset_names:\n",
    "    if d in ('ACSEmployment','ACSIncome','ACSMobility','ACSPublicCoverage','ACSTravelTime') and experiment_params['ACS_sample_only']:\n",
    "        X = pd.read_csv(f'../matrices/{d}/Xs.csv')\n",
    "        y = pd.read_csv(f'../matrices/{d}/ys.csv').squeeze()\n",
    "    else:\n",
    "        X = pd.read_csv(f'../matrices/{d}/X.csv')\n",
    "        y = pd.read_csv(f'../matrices/{d}/y.csv').squeeze()\n",
    "\n",
    "    # Experiment code\n",
    "    print(X.columns)"
   ],
   "outputs": [],
   "metadata": {}
  },
  {
   "cell_type": "code",
   "execution_count": null,
   "source": [],
   "outputs": [],
   "metadata": {}
  }
 ],
 "metadata": {
  "orig_nbformat": 4,
  "language_info": {
   "name": "python",
   "version": "3.9.5"
  },
  "kernelspec": {
   "name": "python3",
   "display_name": "Python 3.9.5 64-bit ('base': conda)"
  },
  "interpreter": {
   "hash": "569d6b7e9215e11aba41c6454007e5c1b78bad7df09dab765d8cf00362c40f03"
  }
 },
 "nbformat": 4,
 "nbformat_minor": 2
}