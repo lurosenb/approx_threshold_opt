{
 "cells": [
  {
   "cell_type": "markdown",
   "metadata": {},
   "source": [
    "### Simple test task\n",
    "Use sklearn make_classification to generate a dummy dataset and train a model."
   ]
  },
  {
   "cell_type": "code",
   "execution_count": 1,
   "metadata": {},
   "outputs": [],
   "source": [
    "import numpy as np\n",
    "from sklearn.datasets import make_classification\n",
    "from sklearn.model_selection import train_test_split\n",
    "from sklearn.linear_model import LogisticRegression\n",
    "\n",
    "\n",
    "X1, y1 = make_classification(n_samples=500, n_features=15, n_classes=2, random_state=42, class_sep=1.0)\n",
    "X2, y2 = make_classification(n_samples=500, n_features=15, n_redundant=5, n_classes=2, random_state=42, class_sep=0.4)\n",
    "\n",
    "A1 = np.ones(y1.shape)\n",
    "A2 = 2 * np.ones(y2.shape)\n",
    "\n",
    "X = np.vstack([X1, X2])\n",
    "y = np.hstack([y1, y2])\n",
    "A = np.hstack([A1, A2])\n",
    "\n",
    "X_train, X_test, y_train, y_test, A_train, A_test = train_test_split(X, y, A, test_size=0.3, random_state=42)\n",
    "\n",
    "clf = LogisticRegression()\n",
    "clf.fit(X_train, y_train, A_train)\n",
    "y_prob_train = clf.predict_proba(X_train)[:, 1]\n",
    "y_prob_test = clf.predict_proba(X_test)[:, 1]"
   ]
  },
  {
   "cell_type": "markdown",
   "metadata": {},
   "source": [
    "### Default method for tests\n",
    "We used the ApproxThreshNet model for our main results."
   ]
  },
  {
   "cell_type": "code",
   "execution_count": 5,
   "metadata": {},
   "outputs": [
    {
     "name": "stdout",
     "output_type": "stream",
     "text": [
      "Adjusted max_error to 0.0017674423812903172 to limit total combinations to approximately 50000\n",
      "Number of points in the epsilon net: 225\n",
      "Adjusted max_error: 0.0017674423812903172\n",
      "Number of points in data: 700\n",
      "<multiprocessing.context.SpawnContext object at 0x7fec50944520>\n",
      "Enters pool\n",
      "Submits futures\n"
     ]
    },
    {
     "name": "stderr",
     "output_type": "stream",
     "text": [
      "Threshold Combinations: 100%|██████████| 50625/50625 [00:10<00:00, 5010.89it/s]\n"
     ]
    },
    {
     "name": "stdout",
     "output_type": "stream",
     "text": [
      "Best objective value: 0.2164160941884889\n",
      "Best thresholds: {1.0: 0.4151785714285714, 2.0: 0.48660714285714285}\n",
      "Epsilon differences: {1.0: {2.0: array([0.18315135, 0.05394233, 0.08214286])}, 2.0: {1.0: array([0.18315135, 0.05394233, 0.08214286])}}\n",
      "Determined thresholds for each group:\n",
      "{1.0: 0.4151785714285714, 2.0: 0.48660714285714285}\n"
     ]
    }
   ],
   "source": [
    "from approx_thresh import ApproxThresholdNet\n",
    "from metrics import tpr, fpr, precision\n",
    "\n",
    "m_funcs = {\n",
    "    'tpr': tpr,\n",
    "    'fpr': fpr,\n",
    "    'precision': precision\n",
    "}\n",
    "\n",
    "model = ApproxThresholdNet(metric_functions=m_funcs, \n",
    "                        lambda_=0.9, \n",
    "                        max_error=0.001, \n",
    "                        max_total_combinations=50000)\n",
    "\n",
    "model.fit(y_prob_train, y_train, A_train)\n",
    "\n",
    "print(\"Determined thresholds for each group:\")\n",
    "print(model.thresholds_)"
   ]
  },
  {
   "cell_type": "markdown",
   "metadata": {},
   "source": [
    "### SGD for Optimizing Thresholds\n",
    "We also experimented with using SGD to optimize the thresholds. "
   ]
  },
  {
   "cell_type": "code",
   "execution_count": 3,
   "metadata": {},
   "outputs": [
    {
     "name": "stdout",
     "output_type": "stream",
     "text": [
      "Initialization 0, Epoch 0, Loss: 3.2249155044555664\n",
      "Initialization 0, Epoch 10, Loss: 2.11283540725708\n",
      "Initialization 0, Epoch 20, Loss: 2.0099377632141113\n",
      "Initialization 0, Epoch 30, Loss: 1.999869465827942\n",
      "Initialization 0, Epoch 40, Loss: 1.9988653659820557\n",
      "Initialization 0, Epoch 50, Loss: 1.9987642765045166\n",
      "Early stopping triggered at initialization 0, epoch 60\n",
      "Initialization 1, Epoch 0, Loss: 0.714952290058136\n",
      "Initialization 1, Epoch 10, Loss: 0.6668986678123474\n",
      "Initialization 1, Epoch 20, Loss: 0.6629946827888489\n",
      "Initialization 1, Epoch 30, Loss: 0.6625248789787292\n",
      "Early stopping triggered at initialization 1, epoch 40\n",
      "Initialization 2, Epoch 0, Loss: 3.4280388355255127\n",
      "Initialization 2, Epoch 10, Loss: 2.399082660675049\n",
      "Initialization 2, Epoch 20, Loss: 2.299625873565674\n",
      "Initialization 2, Epoch 30, Loss: 2.2898051738739014\n",
      "Initialization 2, Epoch 40, Loss: 2.288825035095215\n",
      "Initialization 2, Epoch 50, Loss: 2.2887260913848877\n",
      "Initialization 2, Epoch 60, Loss: 2.288715124130249\n",
      "Early stopping triggered at initialization 2, epoch 63\n",
      "Initialization 3, Epoch 0, Loss: 1.4077904224395752\n",
      "Initialization 3, Epoch 10, Loss: 0.9482699036598206\n",
      "Initialization 3, Epoch 20, Loss: 0.9103463888168335\n",
      "Initialization 3, Epoch 30, Loss: 0.9067459106445312\n",
      "Initialization 3, Epoch 40, Loss: 0.9063875079154968\n",
      "Early stopping triggered at initialization 3, epoch 49\n",
      "Initialization 4, Epoch 0, Loss: 0.6945372223854065\n",
      "Initialization 4, Epoch 10, Loss: 0.6514235138893127\n",
      "Initialization 4, Epoch 20, Loss: 0.648694634437561\n",
      "Early stopping triggered at initialization 4, epoch 25\n",
      "Best objective value: 0.6439935564994812\n",
      "Best thresholds: tensor([0.3240, 0.4616], grad_fn=<CloneBackward0>)\n",
      "Epsilon differences: {1.0: {2.0: array([0.20206988, 0.08953261, 0.11128926], dtype=float32)}, 2.0: {1.0: array([0.20206988, 0.08953261, 0.11128926], dtype=float32)}}\n",
      "Determined thresholds for each group:\n",
      "{1.0: 0.32400805, 2.0: 0.4616115}\n"
     ]
    }
   ],
   "source": [
    "from approx_thresh_pytorch import ApproxThresholdPytorch, tpr_sigmoid, fpr_sigmoid, precision_sigmoid, accuracy_sigmoid\n",
    "\n",
    "m_funcs_soft = {\n",
    "    'tpr': tpr_sigmoid,\n",
    "    'fpr': fpr_sigmoid,\n",
    "    'precision': precision_sigmoid\n",
    "}\n",
    "\n",
    "model_sgd = ApproxThresholdPytorch(metric_functions=m_funcs_soft, \n",
    "                                lambda_=2.0, \n",
    "                                global_metric=accuracy_sigmoid)\n",
    "\n",
    "model_sgd.fit(y_prob_train, y_train, A_train)\n",
    "\n",
    "print(\"Determined thresholds for each group:\")\n",
    "print(model_sgd.thresholds_)"
   ]
  },
  {
   "cell_type": "code",
   "execution_count": null,
   "metadata": {},
   "outputs": [],
   "source": []
  }
 ],
 "metadata": {
  "kernelspec": {
   "display_name": "Python 3",
   "language": "python",
   "name": "python3"
  },
  "language_info": {
   "codemirror_mode": {
    "name": "ipython",
    "version": 3
   },
   "file_extension": ".py",
   "mimetype": "text/x-python",
   "name": "python",
   "nbconvert_exporter": "python",
   "pygments_lexer": "ipython3",
   "version": "3.8.12"
  },
  "vscode": {
   "interpreter": {
    "hash": "6597d1ed23b894caf154b6750f098a8514a19e03807460ffd2d8425103778dc0"
   }
  }
 },
 "nbformat": 4,
 "nbformat_minor": 2
}
