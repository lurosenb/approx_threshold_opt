{
 "cells": [
  {
   "cell_type": "code",
   "execution_count": 3,
   "metadata": {},
   "outputs": [
    {
     "name": "stdout",
     "output_type": "stream",
     "text": [
      "1.0\n"
     ]
    }
   ],
   "source": [
    "import numpy as np\n",
    "\n",
    "def partial_PPV_TPR(TP, FN, TN, TPR, TNR):\n",
    "    return (TPR * (-TP - FN) * (TP + FN)) / (TPR * (TP + FN) - TN + TN / TNR)**2 + (TP + FN) / (TPR * (TP + FN) - TN + TN / TNR)\n",
    "\n",
    "def partial_PPV_TNR(TP, FN, TN, TPR, TNR):\n",
    "    return (TN * TPR * (TP + FN)) / (TNR**2 * (TPR * (TP + FN) - TN + TN / TNR)**2)\n",
    "\n",
    "num_iters = 1000\n",
    "num_where_both_positive = 0\n",
    "for i in range(num_iters):\n",
    "    np.random.seed(i)\n",
    "    TP = np.random.uniform(1, 1000)\n",
    "    FN = np.random.uniform(1, 1000)\n",
    "    TN = np.random.uniform(1, 1000)\n",
    "    FP = np.random.uniform(1, 1000)\n",
    "\n",
    "    TPR = TP / (TP + FN)\n",
    "    TNR = TN / (TN + FP)\n",
    "\n",
    "    partial_TPR_value = partial_PPV_TPR(TP, FN, TN, TPR, TNR)\n",
    "    partial_TNR_value = partial_PPV_TNR(TP, FN, TN, TPR, TNR)\n",
    "\n",
    "    is_partial_TPR_positive = partial_TPR_value > 0\n",
    "    is_partial_TNR_positive = partial_TNR_value > 0\n",
    "\n",
    "    if is_partial_TPR_positive and is_partial_TNR_positive:\n",
    "        num_where_both_positive += 1\n",
    "\n",
    "print(num_where_both_positive / num_iters)\n"
   ]
  },
  {
   "cell_type": "code",
   "execution_count": null,
   "metadata": {},
   "outputs": [],
   "source": []
  }
 ],
 "metadata": {
  "kernelspec": {
   "display_name": "Python 3",
   "language": "python",
   "name": "python3"
  },
  "language_info": {
   "codemirror_mode": {
    "name": "ipython",
    "version": 3
   },
   "file_extension": ".py",
   "mimetype": "text/x-python",
   "name": "python",
   "nbconvert_exporter": "python",
   "pygments_lexer": "ipython3",
   "version": "3.8.12"
  }
 },
 "nbformat": 4,
 "nbformat_minor": 2
}
